{
 "cells": [
  {
   "cell_type": "markdown",
   "id": "0330bcc5",
   "metadata": {},
   "source": [
    "## CMPINF 2100: Homework 05\n",
    "\n",
    "Trey Randall\n",
    "\n",
    "## Assigned: Tuesday of Week 05 at 11:00PM\n",
    "\n",
    "## DUE: Tuesday of Week 06 at 11:59PM\n",
    "\n",
    "## Overview\n",
    "\n",
    "This assignment is more open ended than the previous ones. You must explore three data sets using the skills you have learned up to this point in the course. The Week 05 lecture material discusses the ESSENTIAL Pandas methods methods that you must ALWAYS use when BEGINNING to explore data. You must use those methods here in this assignment. You must also use SPLIT-APPLY-COMBINE to explore if summary statistics change across grouping variables. The last problem requires you to use the ESSENTIAL Pandas methods to begin exploring data associated with one of the final projects of your choosing.\n",
    "\n",
    "**You must download the 3 data sets provided in the Canvas assignment page and save them to the appropriate directory on your computer.**\n",
    "\n",
    "## Required tasks for Problem 01 through 03\n",
    "\n",
    "For each of the 3 assigned data sets you must perform the following ESSENTIAL activities:\n",
    "\n",
    "* Display the number of rows and columns in the dataset  \n",
    "* Display the names of the columns and their associated data types  \n",
    "* Display the number of unique values for each column  \n",
    "* Display the number of MISSING values for each column  \n",
    "* Display summary statistics appropriate for the data type for each column\n",
    "* Count the number of rows associated with each unique value for:\n",
    "    * Non-numeric columns  \n",
    "    * Numeric columns with low number of unique values  \n",
    "\n",
    "You must also execute SPLIT-APPLY-COMBINE to summarize the data based on grouping variables. Specifically, you must group by non-numeric columns and calculate the following summary statistics:\n",
    "* Calculate the total number of rows for numeric columns  \n",
    "* Calculate the number of non missing rows for numeric columns\n",
    "* Calculate the mean and standard deviation of numeric columns\n",
    "* Calculate the standard error on the mean of numeric columns\n",
    "* Calculate the number of unique values for non-numeric columns\n",
    "\n",
    "You should consider grouping by numeric columns that have low number of unique values.  \n",
    "\n",
    "For each grouped DataFrame, you must answer the following:  \n",
    "* Does the average of the numeric variables CHANGE across the groups?  \n",
    "\n",
    "### Collaborators\n",
    "\n",
    "Type the names of other students you worked with here.\n",
    "\n",
    "## Problem 00\n",
    "\n",
    "You will work with the NumPy and Pandas modules in this assignment.\n",
    "\n",
    "Import NumPy and Pandas using their commonly accepted aliases.\n",
    "\n",
    "#### 00) - SOLUTION"
   ]
  },
  {
   "cell_type": "code",
   "execution_count": 1,
   "id": "c783197e",
   "metadata": {},
   "outputs": [],
   "source": [
    "import numpy as np\n",
    "import pandas as pd"
   ]
  },
  {
   "cell_type": "code",
   "execution_count": 2,
   "id": "829512d7-15ac-4204-99fc-ba49fd58ae4b",
   "metadata": {},
   "outputs": [],
   "source": [
    "import os"
   ]
  },
  {
   "cell_type": "code",
   "execution_count": 3,
   "id": "3fdb284a-8c68-4813-823c-dad0f090624c",
   "metadata": {},
   "outputs": [
    {
     "data": {
      "text/plain": [
       "['.ipynb_checkpoints',\n",
       " 'homework_05_instructions.html',\n",
       " 'homework_05_template.ipynb',\n",
       " 'hw05_prob_01.csv',\n",
       " 'hw05_prob_02.csv',\n",
       " 'hw05_prob_03.csv',\n",
       " 'Notes']"
      ]
     },
     "execution_count": 3,
     "metadata": {},
     "output_type": "execute_result"
    }
   ],
   "source": [
    "os.listdir()"
   ]
  },
  {
   "cell_type": "markdown",
   "id": "dd0fc847",
   "metadata": {},
   "source": [
    "## Problem 01\n",
    "\n",
    "Download `hw05_prob_01.csv` from the Canvas site. Save the CSV file in the same directory as this Jupyter notebook.\n",
    "\n",
    "Read in the `hw05_prob_01.csv` CSV file and assign it to the `df01` object.\n",
    "\n",
    "Explore the `df01` object following **ALL** required actions listed previously.\n",
    "\n",
    "You must add more code cells and markdown cells to complete this problem.\n",
    "\n",
    "#### 01) - SOLUTION"
   ]
  },
  {
   "cell_type": "markdown",
   "id": "a2636e77-98a3-4722-b523-53577d069513",
   "metadata": {},
   "source": [
    "## Read in the CSV Data"
   ]
  },
  {
   "cell_type": "code",
   "execution_count": 7,
   "id": "5e7f4a9c",
   "metadata": {},
   "outputs": [
    {
     "data": {
      "text/html": [
       "<div>\n",
       "<style scoped>\n",
       "    .dataframe tbody tr th:only-of-type {\n",
       "        vertical-align: middle;\n",
       "    }\n",
       "\n",
       "    .dataframe tbody tr th {\n",
       "        vertical-align: top;\n",
       "    }\n",
       "\n",
       "    .dataframe thead th {\n",
       "        text-align: right;\n",
       "    }\n",
       "</style>\n",
       "<table border=\"1\" class=\"dataframe\">\n",
       "  <thead>\n",
       "    <tr style=\"text-align: right;\">\n",
       "      <th></th>\n",
       "      <th>A</th>\n",
       "      <th>B</th>\n",
       "      <th>C</th>\n",
       "      <th>x</th>\n",
       "    </tr>\n",
       "  </thead>\n",
       "  <tbody>\n",
       "    <tr>\n",
       "      <th>0</th>\n",
       "      <td>a1</td>\n",
       "      <td>b0</td>\n",
       "      <td>C1</td>\n",
       "      <td>-6.240387</td>\n",
       "    </tr>\n",
       "    <tr>\n",
       "      <th>1</th>\n",
       "      <td>a1</td>\n",
       "      <td>b0</td>\n",
       "      <td>C1</td>\n",
       "      <td>-4.860661</td>\n",
       "    </tr>\n",
       "    <tr>\n",
       "      <th>2</th>\n",
       "      <td>a1</td>\n",
       "      <td>b0</td>\n",
       "      <td>C1</td>\n",
       "      <td>-5.066712</td>\n",
       "    </tr>\n",
       "    <tr>\n",
       "      <th>3</th>\n",
       "      <td>a1</td>\n",
       "      <td>b0</td>\n",
       "      <td>C1</td>\n",
       "      <td>-5.635156</td>\n",
       "    </tr>\n",
       "    <tr>\n",
       "      <th>4</th>\n",
       "      <td>a1</td>\n",
       "      <td>b0</td>\n",
       "      <td>C1</td>\n",
       "      <td>-4.893876</td>\n",
       "    </tr>\n",
       "    <tr>\n",
       "      <th>...</th>\n",
       "      <td>...</td>\n",
       "      <td>...</td>\n",
       "      <td>...</td>\n",
       "      <td>...</td>\n",
       "    </tr>\n",
       "    <tr>\n",
       "      <th>125</th>\n",
       "      <td>a2</td>\n",
       "      <td>b1</td>\n",
       "      <td>C2</td>\n",
       "      <td>1.155377</td>\n",
       "    </tr>\n",
       "    <tr>\n",
       "      <th>126</th>\n",
       "      <td>a2</td>\n",
       "      <td>b1</td>\n",
       "      <td>C2</td>\n",
       "      <td>2.818466</td>\n",
       "    </tr>\n",
       "    <tr>\n",
       "      <th>127</th>\n",
       "      <td>a2</td>\n",
       "      <td>b1</td>\n",
       "      <td>C2</td>\n",
       "      <td>3.294759</td>\n",
       "    </tr>\n",
       "    <tr>\n",
       "      <th>128</th>\n",
       "      <td>a2</td>\n",
       "      <td>b1</td>\n",
       "      <td>C2</td>\n",
       "      <td>2.398190</td>\n",
       "    </tr>\n",
       "    <tr>\n",
       "      <th>129</th>\n",
       "      <td>a2</td>\n",
       "      <td>b1</td>\n",
       "      <td>C2</td>\n",
       "      <td>2.527589</td>\n",
       "    </tr>\n",
       "  </tbody>\n",
       "</table>\n",
       "<p>130 rows × 4 columns</p>\n",
       "</div>"
      ],
      "text/plain": [
       "      A   B   C         x\n",
       "0    a1  b0  C1 -6.240387\n",
       "1    a1  b0  C1 -4.860661\n",
       "2    a1  b0  C1 -5.066712\n",
       "3    a1  b0  C1 -5.635156\n",
       "4    a1  b0  C1 -4.893876\n",
       "..   ..  ..  ..       ...\n",
       "125  a2  b1  C2  1.155377\n",
       "126  a2  b1  C2  2.818466\n",
       "127  a2  b1  C2  3.294759\n",
       "128  a2  b1  C2  2.398190\n",
       "129  a2  b1  C2  2.527589\n",
       "\n",
       "[130 rows x 4 columns]"
      ]
     },
     "execution_count": 7,
     "metadata": {},
     "output_type": "execute_result"
    }
   ],
   "source": [
    "pd.read_csv('hw05_prob_01.csv')"
   ]
  },
  {
   "cell_type": "code",
   "execution_count": 8,
   "id": "886fb70c-56df-425d-93ce-cd6e55b3e3de",
   "metadata": {},
   "outputs": [],
   "source": [
    "df01=pd.read_csv('hw05_prob_01.csv')"
   ]
  },
  {
   "cell_type": "markdown",
   "id": "3067823f-7209-4725-b1f1-e57bca3b8e57",
   "metadata": {},
   "source": [
    "## Display number of rows and columns "
   ]
  },
  {
   "cell_type": "code",
   "execution_count": 9,
   "id": "18db3310-bf9d-4b02-98a5-8c1057ee2690",
   "metadata": {},
   "outputs": [
    {
     "data": {
      "text/plain": [
       "(130, 4)"
      ]
     },
     "execution_count": 9,
     "metadata": {},
     "output_type": "execute_result"
    }
   ],
   "source": [
    "df01.shape"
   ]
  },
  {
   "cell_type": "code",
   "execution_count": 11,
   "id": "c171cbdd-f715-48dd-8b80-cd63820f3cd6",
   "metadata": {},
   "outputs": [
    {
     "name": "stdout",
     "output_type": "stream",
     "text": [
      "<class 'pandas.core.frame.DataFrame'>\n",
      "RangeIndex: 130 entries, 0 to 129\n",
      "Data columns (total 4 columns):\n",
      " #   Column  Non-Null Count  Dtype  \n",
      "---  ------  --------------  -----  \n",
      " 0   A       130 non-null    object \n",
      " 1   B       130 non-null    object \n",
      " 2   C       130 non-null    object \n",
      " 3   x       130 non-null    float64\n",
      "dtypes: float64(1), object(3)\n",
      "memory usage: 4.2+ KB\n"
     ]
    }
   ],
   "source": [
    "df01.info()"
   ]
  },
  {
   "cell_type": "markdown",
   "id": "1cecb7d6-0668-4c6b-90d5-5a339fa5e070",
   "metadata": {},
   "source": [
    "There are 130 rows and 4 columns. "
   ]
  },
  {
   "cell_type": "markdown",
   "id": "6990b1a9-9b69-4696-8f7c-5fd7e415ddec",
   "metadata": {},
   "source": [
    "## Display Names of Columns and Data Types"
   ]
  },
  {
   "cell_type": "code",
   "execution_count": 40,
   "id": "161f254f-1b50-466f-a6ee-8df878d62bca",
   "metadata": {},
   "outputs": [
    {
     "data": {
      "text/plain": [
       "Index(['A', 'B', 'C', 'x'], dtype='object')"
      ]
     },
     "execution_count": 40,
     "metadata": {},
     "output_type": "execute_result"
    }
   ],
   "source": [
    "df01.columns"
   ]
  },
  {
   "cell_type": "code",
   "execution_count": 41,
   "id": "bf9a3c14-df48-461d-9755-1e4fd5695fb2",
   "metadata": {},
   "outputs": [
    {
     "data": {
      "text/plain": [
       "A     object\n",
       "B     object\n",
       "C     object\n",
       "x    float64\n",
       "dtype: object"
      ]
     },
     "execution_count": 41,
     "metadata": {},
     "output_type": "execute_result"
    }
   ],
   "source": [
    "df01.dtypes"
   ]
  },
  {
   "cell_type": "markdown",
   "id": "a794a91c-663d-4c7e-b3f7-ed510a4900b4",
   "metadata": {},
   "source": [
    "Columns A, B, and C are strings and column x is a Float"
   ]
  },
  {
   "cell_type": "markdown",
   "id": "1286b42f-b51b-4faf-92d1-76a039f08274",
   "metadata": {},
   "source": [
    "## Display the unique values for each column"
   ]
  },
  {
   "cell_type": "code",
   "execution_count": 42,
   "id": "5bedaedb-5d8b-4c29-ad48-c71cfede5438",
   "metadata": {},
   "outputs": [
    {
     "data": {
      "text/plain": [
       "A      2\n",
       "B      2\n",
       "C      2\n",
       "x    130\n",
       "dtype: int64"
      ]
     },
     "execution_count": 42,
     "metadata": {},
     "output_type": "execute_result"
    }
   ],
   "source": [
    "df01.nunique()"
   ]
  },
  {
   "cell_type": "markdown",
   "id": "4560babe-f5d5-455b-a89b-b398cbf340c7",
   "metadata": {},
   "source": [
    "Columns A, B, and C each have two unique values, and column x has 130. "
   ]
  },
  {
   "cell_type": "markdown",
   "id": "1c03eec3-3a46-4ef2-bfe9-17709a0b492f",
   "metadata": {},
   "source": [
    "## Display the number of Missing Vales for each Column"
   ]
  },
  {
   "cell_type": "code",
   "execution_count": 43,
   "id": "cc380481-5a33-4ba7-8c9d-313e30d3a7c8",
   "metadata": {},
   "outputs": [
    {
     "data": {
      "text/html": [
       "<div>\n",
       "<style scoped>\n",
       "    .dataframe tbody tr th:only-of-type {\n",
       "        vertical-align: middle;\n",
       "    }\n",
       "\n",
       "    .dataframe tbody tr th {\n",
       "        vertical-align: top;\n",
       "    }\n",
       "\n",
       "    .dataframe thead th {\n",
       "        text-align: right;\n",
       "    }\n",
       "</style>\n",
       "<table border=\"1\" class=\"dataframe\">\n",
       "  <thead>\n",
       "    <tr style=\"text-align: right;\">\n",
       "      <th></th>\n",
       "      <th>A</th>\n",
       "      <th>B</th>\n",
       "      <th>C</th>\n",
       "      <th>x</th>\n",
       "    </tr>\n",
       "  </thead>\n",
       "  <tbody>\n",
       "    <tr>\n",
       "      <th>0</th>\n",
       "      <td>False</td>\n",
       "      <td>False</td>\n",
       "      <td>False</td>\n",
       "      <td>False</td>\n",
       "    </tr>\n",
       "    <tr>\n",
       "      <th>1</th>\n",
       "      <td>False</td>\n",
       "      <td>False</td>\n",
       "      <td>False</td>\n",
       "      <td>False</td>\n",
       "    </tr>\n",
       "    <tr>\n",
       "      <th>2</th>\n",
       "      <td>False</td>\n",
       "      <td>False</td>\n",
       "      <td>False</td>\n",
       "      <td>False</td>\n",
       "    </tr>\n",
       "    <tr>\n",
       "      <th>3</th>\n",
       "      <td>False</td>\n",
       "      <td>False</td>\n",
       "      <td>False</td>\n",
       "      <td>False</td>\n",
       "    </tr>\n",
       "    <tr>\n",
       "      <th>4</th>\n",
       "      <td>False</td>\n",
       "      <td>False</td>\n",
       "      <td>False</td>\n",
       "      <td>False</td>\n",
       "    </tr>\n",
       "    <tr>\n",
       "      <th>...</th>\n",
       "      <td>...</td>\n",
       "      <td>...</td>\n",
       "      <td>...</td>\n",
       "      <td>...</td>\n",
       "    </tr>\n",
       "    <tr>\n",
       "      <th>125</th>\n",
       "      <td>False</td>\n",
       "      <td>False</td>\n",
       "      <td>False</td>\n",
       "      <td>False</td>\n",
       "    </tr>\n",
       "    <tr>\n",
       "      <th>126</th>\n",
       "      <td>False</td>\n",
       "      <td>False</td>\n",
       "      <td>False</td>\n",
       "      <td>False</td>\n",
       "    </tr>\n",
       "    <tr>\n",
       "      <th>127</th>\n",
       "      <td>False</td>\n",
       "      <td>False</td>\n",
       "      <td>False</td>\n",
       "      <td>False</td>\n",
       "    </tr>\n",
       "    <tr>\n",
       "      <th>128</th>\n",
       "      <td>False</td>\n",
       "      <td>False</td>\n",
       "      <td>False</td>\n",
       "      <td>False</td>\n",
       "    </tr>\n",
       "    <tr>\n",
       "      <th>129</th>\n",
       "      <td>False</td>\n",
       "      <td>False</td>\n",
       "      <td>False</td>\n",
       "      <td>False</td>\n",
       "    </tr>\n",
       "  </tbody>\n",
       "</table>\n",
       "<p>130 rows × 4 columns</p>\n",
       "</div>"
      ],
      "text/plain": [
       "         A      B      C      x\n",
       "0    False  False  False  False\n",
       "1    False  False  False  False\n",
       "2    False  False  False  False\n",
       "3    False  False  False  False\n",
       "4    False  False  False  False\n",
       "..     ...    ...    ...    ...\n",
       "125  False  False  False  False\n",
       "126  False  False  False  False\n",
       "127  False  False  False  False\n",
       "128  False  False  False  False\n",
       "129  False  False  False  False\n",
       "\n",
       "[130 rows x 4 columns]"
      ]
     },
     "execution_count": 43,
     "metadata": {},
     "output_type": "execute_result"
    }
   ],
   "source": [
    "df01.isna()"
   ]
  },
  {
   "cell_type": "code",
   "execution_count": 44,
   "id": "5182ef7e-305d-4b77-9bfd-6070ba708dbf",
   "metadata": {},
   "outputs": [
    {
     "data": {
      "text/plain": [
       "A    0\n",
       "B    0\n",
       "C    0\n",
       "x    0\n",
       "dtype: int64"
      ]
     },
     "execution_count": 44,
     "metadata": {},
     "output_type": "execute_result"
    }
   ],
   "source": [
    "df01.isna().sum()"
   ]
  },
  {
   "cell_type": "markdown",
   "id": "fbb43c6e-13df-436c-8179-c66f757a1a3d",
   "metadata": {},
   "source": [
    "There are no missing values in the dataset. "
   ]
  },
  {
   "cell_type": "markdown",
   "id": "2ee09634-1930-4041-bf82-f9df7ee72344",
   "metadata": {},
   "source": [
    "## Display Summary Statistics appropriate for the data type for each column"
   ]
  },
  {
   "cell_type": "code",
   "execution_count": 45,
   "id": "10074231-ac6c-4937-bbae-a5acdad0573a",
   "metadata": {},
   "outputs": [
    {
     "data": {
      "text/html": [
       "<div>\n",
       "<style scoped>\n",
       "    .dataframe tbody tr th:only-of-type {\n",
       "        vertical-align: middle;\n",
       "    }\n",
       "\n",
       "    .dataframe tbody tr th {\n",
       "        vertical-align: top;\n",
       "    }\n",
       "\n",
       "    .dataframe thead th {\n",
       "        text-align: right;\n",
       "    }\n",
       "</style>\n",
       "<table border=\"1\" class=\"dataframe\">\n",
       "  <thead>\n",
       "    <tr style=\"text-align: right;\">\n",
       "      <th></th>\n",
       "      <th>x</th>\n",
       "    </tr>\n",
       "  </thead>\n",
       "  <tbody>\n",
       "    <tr>\n",
       "      <th>count</th>\n",
       "      <td>130.000000</td>\n",
       "    </tr>\n",
       "    <tr>\n",
       "      <th>mean</th>\n",
       "      <td>2.155995</td>\n",
       "    </tr>\n",
       "    <tr>\n",
       "      <th>std</th>\n",
       "      <td>6.015095</td>\n",
       "    </tr>\n",
       "    <tr>\n",
       "      <th>min</th>\n",
       "      <td>-7.185043</td>\n",
       "    </tr>\n",
       "    <tr>\n",
       "      <th>25%</th>\n",
       "      <td>-0.715064</td>\n",
       "    </tr>\n",
       "    <tr>\n",
       "      <th>50%</th>\n",
       "      <td>0.828413</td>\n",
       "    </tr>\n",
       "    <tr>\n",
       "      <th>75%</th>\n",
       "      <td>4.375242</td>\n",
       "    </tr>\n",
       "    <tr>\n",
       "      <th>max</th>\n",
       "      <td>15.382198</td>\n",
       "    </tr>\n",
       "  </tbody>\n",
       "</table>\n",
       "</div>"
      ],
      "text/plain": [
       "                x\n",
       "count  130.000000\n",
       "mean     2.155995\n",
       "std      6.015095\n",
       "min     -7.185043\n",
       "25%     -0.715064\n",
       "50%      0.828413\n",
       "75%      4.375242\n",
       "max     15.382198"
      ]
     },
     "execution_count": 45,
     "metadata": {},
     "output_type": "execute_result"
    }
   ],
   "source": [
    "df01.describe()"
   ]
  },
  {
   "cell_type": "code",
   "execution_count": 46,
   "id": "9ae270f9-545e-4e3c-b34b-77127830a7e7",
   "metadata": {},
   "outputs": [
    {
     "data": {
      "text/html": [
       "<div>\n",
       "<style scoped>\n",
       "    .dataframe tbody tr th:only-of-type {\n",
       "        vertical-align: middle;\n",
       "    }\n",
       "\n",
       "    .dataframe tbody tr th {\n",
       "        vertical-align: top;\n",
       "    }\n",
       "\n",
       "    .dataframe thead th {\n",
       "        text-align: right;\n",
       "    }\n",
       "</style>\n",
       "<table border=\"1\" class=\"dataframe\">\n",
       "  <thead>\n",
       "    <tr style=\"text-align: right;\">\n",
       "      <th></th>\n",
       "      <th>A</th>\n",
       "      <th>B</th>\n",
       "      <th>C</th>\n",
       "    </tr>\n",
       "  </thead>\n",
       "  <tbody>\n",
       "    <tr>\n",
       "      <th>count</th>\n",
       "      <td>130</td>\n",
       "      <td>130</td>\n",
       "      <td>130</td>\n",
       "    </tr>\n",
       "    <tr>\n",
       "      <th>unique</th>\n",
       "      <td>2</td>\n",
       "      <td>2</td>\n",
       "      <td>2</td>\n",
       "    </tr>\n",
       "    <tr>\n",
       "      <th>top</th>\n",
       "      <td>a1</td>\n",
       "      <td>b1</td>\n",
       "      <td>C2</td>\n",
       "    </tr>\n",
       "    <tr>\n",
       "      <th>freq</th>\n",
       "      <td>68</td>\n",
       "      <td>78</td>\n",
       "      <td>72</td>\n",
       "    </tr>\n",
       "  </tbody>\n",
       "</table>\n",
       "</div>"
      ],
      "text/plain": [
       "          A    B    C\n",
       "count   130  130  130\n",
       "unique    2    2    2\n",
       "top      a1   b1   C2\n",
       "freq     68   78   72"
      ]
     },
     "execution_count": 46,
     "metadata": {},
     "output_type": "execute_result"
    }
   ],
   "source": [
    "df01.describe(include='object')"
   ]
  },
  {
   "cell_type": "markdown",
   "id": "d9e22193-2045-4687-8d76-3bcf6f292c00",
   "metadata": {},
   "source": [
    "## Count the Number of rows associated with each unique value for: Non-Number columns and Numberic columns with low number of unique values"
   ]
  },
  {
   "cell_type": "code",
   "execution_count": 49,
   "id": "4ed9c897-1ad2-49bb-b6ff-32a905272717",
   "metadata": {},
   "outputs": [
    {
     "data": {
      "text/plain": [
       "object     3\n",
       "float64    1\n",
       "Name: count, dtype: int64"
      ]
     },
     "execution_count": 49,
     "metadata": {},
     "output_type": "execute_result"
    }
   ],
   "source": [
    "df01.dtypes.value_counts()"
   ]
  },
  {
   "cell_type": "code",
   "execution_count": 50,
   "id": "3ea60554-3a4f-4f72-b9ee-3b466ff52ac1",
   "metadata": {},
   "outputs": [
    {
     "data": {
      "text/plain": [
       "A\n",
       "a1    68\n",
       "a2    62\n",
       "Name: count, dtype: int64"
      ]
     },
     "execution_count": 50,
     "metadata": {},
     "output_type": "execute_result"
    }
   ],
   "source": [
    "df01.A.value_counts()"
   ]
  },
  {
   "cell_type": "code",
   "execution_count": 51,
   "id": "e5a87f8b-f841-4efd-b731-1fb2bd1ecfae",
   "metadata": {},
   "outputs": [
    {
     "data": {
      "text/plain": [
       "A\n",
       "a1    0.523077\n",
       "a2    0.476923\n",
       "Name: proportion, dtype: float64"
      ]
     },
     "execution_count": 51,
     "metadata": {},
     "output_type": "execute_result"
    }
   ],
   "source": [
    "df01.A.value_counts(dropna=False, normalize=True)"
   ]
  },
  {
   "cell_type": "markdown",
   "id": "4a8562ea-54d2-46c7-8fc9-9cc186d7d664",
   "metadata": {},
   "source": [
    "For column A, the value counts for a1 is 68 or 52.3%, and for a2, is 62 or 46.7%"
   ]
  },
  {
   "cell_type": "code",
   "execution_count": 52,
   "id": "d7fccda3-9dd9-4177-8665-164d1d35cc55",
   "metadata": {},
   "outputs": [
    {
     "data": {
      "text/plain": [
       "B\n",
       "b1    78\n",
       "b0    52\n",
       "Name: count, dtype: int64"
      ]
     },
     "execution_count": 52,
     "metadata": {},
     "output_type": "execute_result"
    }
   ],
   "source": [
    "df01.B.value_counts()"
   ]
  },
  {
   "cell_type": "code",
   "execution_count": 53,
   "id": "9ee09d26-c919-4b7d-be39-34594a89346b",
   "metadata": {},
   "outputs": [
    {
     "data": {
      "text/plain": [
       "B\n",
       "b1    0.6\n",
       "b0    0.4\n",
       "Name: proportion, dtype: float64"
      ]
     },
     "execution_count": 53,
     "metadata": {},
     "output_type": "execute_result"
    }
   ],
   "source": [
    "df01.B.value_counts(dropna=False, normalize=True)"
   ]
  },
  {
   "cell_type": "markdown",
   "id": "f9d3c97b-4763-4670-bece-9e43fe1a9b80",
   "metadata": {},
   "source": [
    "For column B, the value counts for b1 is 78 or 60%, and for b0, is 52 or 40%"
   ]
  },
  {
   "cell_type": "code",
   "execution_count": 54,
   "id": "86822a6f-da1f-4893-8f6e-42b2aa6e1df3",
   "metadata": {},
   "outputs": [
    {
     "data": {
      "text/plain": [
       "C\n",
       "C2    72\n",
       "C1    58\n",
       "Name: count, dtype: int64"
      ]
     },
     "execution_count": 54,
     "metadata": {},
     "output_type": "execute_result"
    }
   ],
   "source": [
    "df01.C.value_counts()"
   ]
  },
  {
   "cell_type": "code",
   "execution_count": 55,
   "id": "6436fe0e-bbd8-47bb-8ba3-39ed09b3453b",
   "metadata": {},
   "outputs": [
    {
     "data": {
      "text/plain": [
       "C\n",
       "C2    0.553846\n",
       "C1    0.446154\n",
       "Name: proportion, dtype: float64"
      ]
     },
     "execution_count": 55,
     "metadata": {},
     "output_type": "execute_result"
    }
   ],
   "source": [
    "df01.C.value_counts(dropna=False, normalize=True)"
   ]
  },
  {
   "cell_type": "markdown",
   "id": "86201aa2-8960-4f64-bcf6-e7ee500defd8",
   "metadata": {},
   "source": [
    "For column C, the value counts for C1 is 58 or 44.6%, and for C2, is 72 or 55.4%"
   ]
  },
  {
   "cell_type": "markdown",
   "id": "4765a3ea-0fbb-47ae-aeb9-da82ef3865f5",
   "metadata": {},
   "source": [
    "## SPLIT - APPLY - COMBINE"
   ]
  },
  {
   "cell_type": "code",
   "execution_count": 57,
   "id": "26af491d-53de-4375-a44b-087e07a829cb",
   "metadata": {},
   "outputs": [
    {
     "data": {
      "text/html": [
       "<div>\n",
       "<style scoped>\n",
       "    .dataframe tbody tr th:only-of-type {\n",
       "        vertical-align: middle;\n",
       "    }\n",
       "\n",
       "    .dataframe tbody tr th {\n",
       "        vertical-align: top;\n",
       "    }\n",
       "\n",
       "    .dataframe thead th {\n",
       "        text-align: right;\n",
       "    }\n",
       "</style>\n",
       "<table border=\"1\" class=\"dataframe\">\n",
       "  <thead>\n",
       "    <tr style=\"text-align: right;\">\n",
       "      <th></th>\n",
       "      <th>A</th>\n",
       "      <th>x_numrows</th>\n",
       "      <th>x_nonmissing</th>\n",
       "      <th>x_avg</th>\n",
       "      <th>x_std</th>\n",
       "      <th>x_sem</th>\n",
       "      <th>B_nunique</th>\n",
       "      <th>C_nunique</th>\n",
       "    </tr>\n",
       "  </thead>\n",
       "  <tbody>\n",
       "    <tr>\n",
       "      <th>0</th>\n",
       "      <td>a1</td>\n",
       "      <td>68</td>\n",
       "      <td>68</td>\n",
       "      <td>3.916666</td>\n",
       "      <td>6.963599</td>\n",
       "      <td>0.84446</td>\n",
       "      <td>2</td>\n",
       "      <td>2</td>\n",
       "    </tr>\n",
       "    <tr>\n",
       "      <th>1</th>\n",
       "      <td>a2</td>\n",
       "      <td>62</td>\n",
       "      <td>62</td>\n",
       "      <td>0.224937</td>\n",
       "      <td>4.000938</td>\n",
       "      <td>0.50812</td>\n",
       "      <td>2</td>\n",
       "      <td>2</td>\n",
       "    </tr>\n",
       "  </tbody>\n",
       "</table>\n",
       "</div>"
      ],
      "text/plain": [
       "    A  x_numrows  x_nonmissing     x_avg     x_std    x_sem  B_nunique  \\\n",
       "0  a1         68            68  3.916666  6.963599  0.84446          2   \n",
       "1  a2         62            62  0.224937  4.000938  0.50812          2   \n",
       "\n",
       "   C_nunique  \n",
       "0          2  \n",
       "1          2  "
      ]
     },
     "execution_count": 57,
     "metadata": {},
     "output_type": "execute_result"
    }
   ],
   "source": [
    "df01.groupby('A', dropna=False).\\\n",
    "aggregate(x_numrows = ('x', 'size'),\n",
    "          x_nonmissing = ('x','count'),\n",
    "          x_avg = ('x','mean'),\n",
    "          x_std = ('x', 'std'),\n",
    "          x_sem = ('x', 'sem'),\n",
    "          B_nunique = ('B','nunique'),\n",
    "          C_nunique = ('C','nunique')).\\\n",
    "reset_index()"
   ]
  },
  {
   "cell_type": "code",
   "execution_count": 58,
   "id": "dafeca4e-4f3c-4639-ae60-47d3e51f11eb",
   "metadata": {},
   "outputs": [],
   "source": [
    "df01_A_summary_info =df01.groupby('A', dropna=False).\\\n",
    "aggregate(x_numrows = ('x', 'size'),\n",
    "          x_nonmissing = ('x','count'),\n",
    "          x_avg = ('x','mean'),\n",
    "          x_std = ('x', 'std'),\n",
    "          x_sem = ('x', 'sem'),\n",
    "          B_nunique = ('B','nunique'),\n",
    "          C_nunique = ('C','nunique')).\\\n",
    "reset_index()"
   ]
  },
  {
   "cell_type": "code",
   "execution_count": 59,
   "id": "6f1b3081-8038-47a1-9761-21b8df6271c0",
   "metadata": {},
   "outputs": [
    {
     "data": {
      "text/html": [
       "<div>\n",
       "<style scoped>\n",
       "    .dataframe tbody tr th:only-of-type {\n",
       "        vertical-align: middle;\n",
       "    }\n",
       "\n",
       "    .dataframe tbody tr th {\n",
       "        vertical-align: top;\n",
       "    }\n",
       "\n",
       "    .dataframe thead th {\n",
       "        text-align: right;\n",
       "    }\n",
       "</style>\n",
       "<table border=\"1\" class=\"dataframe\">\n",
       "  <thead>\n",
       "    <tr style=\"text-align: right;\">\n",
       "      <th></th>\n",
       "      <th>A</th>\n",
       "      <th>x_numrows</th>\n",
       "      <th>x_nonmissing</th>\n",
       "      <th>x_avg</th>\n",
       "      <th>x_std</th>\n",
       "      <th>x_sem</th>\n",
       "      <th>B_nunique</th>\n",
       "      <th>C_nunique</th>\n",
       "    </tr>\n",
       "  </thead>\n",
       "  <tbody>\n",
       "    <tr>\n",
       "      <th>0</th>\n",
       "      <td>a1</td>\n",
       "      <td>68</td>\n",
       "      <td>68</td>\n",
       "      <td>3.916666</td>\n",
       "      <td>6.963599</td>\n",
       "      <td>0.84446</td>\n",
       "      <td>2</td>\n",
       "      <td>2</td>\n",
       "    </tr>\n",
       "    <tr>\n",
       "      <th>1</th>\n",
       "      <td>a2</td>\n",
       "      <td>62</td>\n",
       "      <td>62</td>\n",
       "      <td>0.224937</td>\n",
       "      <td>4.000938</td>\n",
       "      <td>0.50812</td>\n",
       "      <td>2</td>\n",
       "      <td>2</td>\n",
       "    </tr>\n",
       "  </tbody>\n",
       "</table>\n",
       "</div>"
      ],
      "text/plain": [
       "    A  x_numrows  x_nonmissing     x_avg     x_std    x_sem  B_nunique  \\\n",
       "0  a1         68            68  3.916666  6.963599  0.84446          2   \n",
       "1  a2         62            62  0.224937  4.000938  0.50812          2   \n",
       "\n",
       "   C_nunique  \n",
       "0          2  \n",
       "1          2  "
      ]
     },
     "execution_count": 59,
     "metadata": {},
     "output_type": "execute_result"
    }
   ],
   "source": [
    "df01_A_summary_info"
   ]
  },
  {
   "cell_type": "markdown",
   "id": "0af5ccd0-6a0e-4497-8fa0-97b6b92a37d0",
   "metadata": {},
   "source": [
    "Yes, the average of 'x' does change across the groups of column A. The difference here is significant and would imply that there are different characteristics across the group.   "
   ]
  },
  {
   "cell_type": "markdown",
   "id": "b7a596bb",
   "metadata": {},
   "source": [
    "## Problem 02\n",
    "\n",
    "Download `hw05_prob_02.csv` from the Canvas site. Save the CSV file in the same directory as this Jupyter notebook.\n",
    "\n",
    "Read in the `hw05_prob_02.csv` CSV file and assign it to the `df02` object.\n",
    "\n",
    "Explore the `df02` object following **ALL** required actions listed previously.\n",
    "\n",
    "You must add more code cells and markdown cells to complete this problem.\n",
    "\n",
    "#### 02) - SOLUTION"
   ]
  },
  {
   "cell_type": "markdown",
   "id": "fc97a575-42fc-4449-b038-a84d94a1a85f",
   "metadata": {},
   "source": [
    "## Read in the CSV data"
   ]
  },
  {
   "cell_type": "code",
   "execution_count": 60,
   "id": "14ad11f1-8a91-4363-a83f-6f8d82b4002c",
   "metadata": {},
   "outputs": [
    {
     "data": {
      "text/html": [
       "<div>\n",
       "<style scoped>\n",
       "    .dataframe tbody tr th:only-of-type {\n",
       "        vertical-align: middle;\n",
       "    }\n",
       "\n",
       "    .dataframe tbody tr th {\n",
       "        vertical-align: top;\n",
       "    }\n",
       "\n",
       "    .dataframe thead th {\n",
       "        text-align: right;\n",
       "    }\n",
       "</style>\n",
       "<table border=\"1\" class=\"dataframe\">\n",
       "  <thead>\n",
       "    <tr style=\"text-align: right;\">\n",
       "      <th></th>\n",
       "      <th>x</th>\n",
       "      <th>y</th>\n",
       "      <th>A</th>\n",
       "      <th>G</th>\n",
       "    </tr>\n",
       "  </thead>\n",
       "  <tbody>\n",
       "    <tr>\n",
       "      <th>0</th>\n",
       "      <td>0.249430</td>\n",
       "      <td>1.226548</td>\n",
       "      <td>2.0</td>\n",
       "      <td>1</td>\n",
       "    </tr>\n",
       "    <tr>\n",
       "      <th>1</th>\n",
       "      <td>-1.049282</td>\n",
       "      <td>-1.100737</td>\n",
       "      <td>NaN</td>\n",
       "      <td>1</td>\n",
       "    </tr>\n",
       "    <tr>\n",
       "      <th>2</th>\n",
       "      <td>-0.147525</td>\n",
       "      <td>-0.679438</td>\n",
       "      <td>NaN</td>\n",
       "      <td>1</td>\n",
       "    </tr>\n",
       "    <tr>\n",
       "      <th>3</th>\n",
       "      <td>1.053127</td>\n",
       "      <td>-0.475298</td>\n",
       "      <td>NaN</td>\n",
       "      <td>1</td>\n",
       "    </tr>\n",
       "    <tr>\n",
       "      <th>4</th>\n",
       "      <td>1.242744</td>\n",
       "      <td>-1.060518</td>\n",
       "      <td>2.0</td>\n",
       "      <td>1</td>\n",
       "    </tr>\n",
       "    <tr>\n",
       "      <th>...</th>\n",
       "      <td>...</td>\n",
       "      <td>...</td>\n",
       "      <td>...</td>\n",
       "      <td>...</td>\n",
       "    </tr>\n",
       "    <tr>\n",
       "      <th>363</th>\n",
       "      <td>0.357651</td>\n",
       "      <td>-0.608975</td>\n",
       "      <td>NaN</td>\n",
       "      <td>14</td>\n",
       "    </tr>\n",
       "    <tr>\n",
       "      <th>364</th>\n",
       "      <td>0.235176</td>\n",
       "      <td>0.415023</td>\n",
       "      <td>NaN</td>\n",
       "      <td>14</td>\n",
       "    </tr>\n",
       "    <tr>\n",
       "      <th>365</th>\n",
       "      <td>0.283675</td>\n",
       "      <td>-0.981750</td>\n",
       "      <td>2.0</td>\n",
       "      <td>14</td>\n",
       "    </tr>\n",
       "    <tr>\n",
       "      <th>366</th>\n",
       "      <td>0.929657</td>\n",
       "      <td>-0.546980</td>\n",
       "      <td>2.0</td>\n",
       "      <td>14</td>\n",
       "    </tr>\n",
       "    <tr>\n",
       "      <th>367</th>\n",
       "      <td>-1.068429</td>\n",
       "      <td>1.795239</td>\n",
       "      <td>2.0</td>\n",
       "      <td>14</td>\n",
       "    </tr>\n",
       "  </tbody>\n",
       "</table>\n",
       "<p>368 rows × 4 columns</p>\n",
       "</div>"
      ],
      "text/plain": [
       "            x         y    A   G\n",
       "0    0.249430  1.226548  2.0   1\n",
       "1   -1.049282 -1.100737  NaN   1\n",
       "2   -0.147525 -0.679438  NaN   1\n",
       "3    1.053127 -0.475298  NaN   1\n",
       "4    1.242744 -1.060518  2.0   1\n",
       "..        ...       ...  ...  ..\n",
       "363  0.357651 -0.608975  NaN  14\n",
       "364  0.235176  0.415023  NaN  14\n",
       "365  0.283675 -0.981750  2.0  14\n",
       "366  0.929657 -0.546980  2.0  14\n",
       "367 -1.068429  1.795239  2.0  14\n",
       "\n",
       "[368 rows x 4 columns]"
      ]
     },
     "execution_count": 60,
     "metadata": {},
     "output_type": "execute_result"
    }
   ],
   "source": [
    "pd.read_csv('hw05_prob_02.csv')"
   ]
  },
  {
   "cell_type": "code",
   "execution_count": 63,
   "id": "5b830102-0db5-4190-bab4-cbc4abca1adf",
   "metadata": {},
   "outputs": [],
   "source": [
    "df02=pd.read_csv('hw05_prob_02.csv')"
   ]
  },
  {
   "cell_type": "markdown",
   "id": "cb4d3531-cecb-49df-8623-bdf49b864faa",
   "metadata": {},
   "source": [
    "## Display number of rows and columns "
   ]
  },
  {
   "cell_type": "code",
   "execution_count": 64,
   "id": "3324a32a-04c2-4590-9de4-17bc300e609e",
   "metadata": {},
   "outputs": [
    {
     "data": {
      "text/plain": [
       "(368, 4)"
      ]
     },
     "execution_count": 64,
     "metadata": {},
     "output_type": "execute_result"
    }
   ],
   "source": [
    "df02.shape"
   ]
  },
  {
   "cell_type": "code",
   "execution_count": 65,
   "id": "bdd71f86-670e-41d5-9af5-90a32f0e12bb",
   "metadata": {},
   "outputs": [
    {
     "name": "stdout",
     "output_type": "stream",
     "text": [
      "<class 'pandas.core.frame.DataFrame'>\n",
      "RangeIndex: 368 entries, 0 to 367\n",
      "Data columns (total 4 columns):\n",
      " #   Column  Non-Null Count  Dtype  \n",
      "---  ------  --------------  -----  \n",
      " 0   x       368 non-null    float64\n",
      " 1   y       352 non-null    float64\n",
      " 2   A       347 non-null    float64\n",
      " 3   G       368 non-null    int64  \n",
      "dtypes: float64(3), int64(1)\n",
      "memory usage: 11.6 KB\n"
     ]
    }
   ],
   "source": [
    "df02.info()"
   ]
  },
  {
   "cell_type": "markdown",
   "id": "19a61254-e3f6-4b9a-be39-42407a2c2131",
   "metadata": {},
   "source": [
    "There are 368 rows and 4 columns in df02. "
   ]
  },
  {
   "cell_type": "markdown",
   "id": "1c66f640-c414-43aa-a289-bacf1f22bdae",
   "metadata": {},
   "source": [
    "## Display Names of Columns and Data Types"
   ]
  },
  {
   "cell_type": "code",
   "execution_count": 66,
   "id": "ac371f2c-e0e8-4040-a007-86fc2bd4b418",
   "metadata": {},
   "outputs": [
    {
     "data": {
      "text/plain": [
       "Index(['x', 'y', 'A', 'G'], dtype='object')"
      ]
     },
     "execution_count": 66,
     "metadata": {},
     "output_type": "execute_result"
    }
   ],
   "source": [
    "df02.columns"
   ]
  },
  {
   "cell_type": "code",
   "execution_count": 67,
   "id": "f4c9839a-fba1-4240-94e1-bfe9758f7ebf",
   "metadata": {},
   "outputs": [
    {
     "data": {
      "text/plain": [
       "x    float64\n",
       "y    float64\n",
       "A    float64\n",
       "G      int64\n",
       "dtype: object"
      ]
     },
     "execution_count": 67,
     "metadata": {},
     "output_type": "execute_result"
    }
   ],
   "source": [
    "df02.dtypes"
   ]
  },
  {
   "cell_type": "markdown",
   "id": "002d0668-64b0-418f-ad8d-19a8a74eb7e1",
   "metadata": {},
   "source": [
    "Columns x, y, and A are floats and column G is an integer."
   ]
  },
  {
   "cell_type": "markdown",
   "id": "6e02264f-d125-4e65-9e3d-8d12e98663ba",
   "metadata": {},
   "source": [
    "## Display the unique values for each column"
   ]
  },
  {
   "cell_type": "code",
   "execution_count": 68,
   "id": "c7db9892-b147-4efd-81dc-1da03455c550",
   "metadata": {},
   "outputs": [
    {
     "data": {
      "text/plain": [
       "x    368\n",
       "y    352\n",
       "A      2\n",
       "G     14\n",
       "dtype: int64"
      ]
     },
     "execution_count": 68,
     "metadata": {},
     "output_type": "execute_result"
    }
   ],
   "source": [
    "df02.nunique()"
   ]
  },
  {
   "cell_type": "markdown",
   "id": "d50debc5-0597-46c7-8e18-e70e32ec2873",
   "metadata": {},
   "source": [
    "Column x has 368 unique values, column y has 352, column A has 2, and column G has 14. "
   ]
  },
  {
   "cell_type": "markdown",
   "id": "6c3540c6-7ac4-42e2-86dd-ee1333f2868b",
   "metadata": {},
   "source": [
    "## Display the number of Missing Vales for each Column"
   ]
  },
  {
   "cell_type": "code",
   "execution_count": 69,
   "id": "5be06d0d-c136-417d-ac36-3b39ee272582",
   "metadata": {},
   "outputs": [
    {
     "data": {
      "text/html": [
       "<div>\n",
       "<style scoped>\n",
       "    .dataframe tbody tr th:only-of-type {\n",
       "        vertical-align: middle;\n",
       "    }\n",
       "\n",
       "    .dataframe tbody tr th {\n",
       "        vertical-align: top;\n",
       "    }\n",
       "\n",
       "    .dataframe thead th {\n",
       "        text-align: right;\n",
       "    }\n",
       "</style>\n",
       "<table border=\"1\" class=\"dataframe\">\n",
       "  <thead>\n",
       "    <tr style=\"text-align: right;\">\n",
       "      <th></th>\n",
       "      <th>x</th>\n",
       "      <th>y</th>\n",
       "      <th>A</th>\n",
       "      <th>G</th>\n",
       "    </tr>\n",
       "  </thead>\n",
       "  <tbody>\n",
       "    <tr>\n",
       "      <th>0</th>\n",
       "      <td>False</td>\n",
       "      <td>False</td>\n",
       "      <td>False</td>\n",
       "      <td>False</td>\n",
       "    </tr>\n",
       "    <tr>\n",
       "      <th>1</th>\n",
       "      <td>False</td>\n",
       "      <td>False</td>\n",
       "      <td>True</td>\n",
       "      <td>False</td>\n",
       "    </tr>\n",
       "    <tr>\n",
       "      <th>2</th>\n",
       "      <td>False</td>\n",
       "      <td>False</td>\n",
       "      <td>True</td>\n",
       "      <td>False</td>\n",
       "    </tr>\n",
       "    <tr>\n",
       "      <th>3</th>\n",
       "      <td>False</td>\n",
       "      <td>False</td>\n",
       "      <td>True</td>\n",
       "      <td>False</td>\n",
       "    </tr>\n",
       "    <tr>\n",
       "      <th>4</th>\n",
       "      <td>False</td>\n",
       "      <td>False</td>\n",
       "      <td>False</td>\n",
       "      <td>False</td>\n",
       "    </tr>\n",
       "    <tr>\n",
       "      <th>...</th>\n",
       "      <td>...</td>\n",
       "      <td>...</td>\n",
       "      <td>...</td>\n",
       "      <td>...</td>\n",
       "    </tr>\n",
       "    <tr>\n",
       "      <th>363</th>\n",
       "      <td>False</td>\n",
       "      <td>False</td>\n",
       "      <td>True</td>\n",
       "      <td>False</td>\n",
       "    </tr>\n",
       "    <tr>\n",
       "      <th>364</th>\n",
       "      <td>False</td>\n",
       "      <td>False</td>\n",
       "      <td>True</td>\n",
       "      <td>False</td>\n",
       "    </tr>\n",
       "    <tr>\n",
       "      <th>365</th>\n",
       "      <td>False</td>\n",
       "      <td>False</td>\n",
       "      <td>False</td>\n",
       "      <td>False</td>\n",
       "    </tr>\n",
       "    <tr>\n",
       "      <th>366</th>\n",
       "      <td>False</td>\n",
       "      <td>False</td>\n",
       "      <td>False</td>\n",
       "      <td>False</td>\n",
       "    </tr>\n",
       "    <tr>\n",
       "      <th>367</th>\n",
       "      <td>False</td>\n",
       "      <td>False</td>\n",
       "      <td>False</td>\n",
       "      <td>False</td>\n",
       "    </tr>\n",
       "  </tbody>\n",
       "</table>\n",
       "<p>368 rows × 4 columns</p>\n",
       "</div>"
      ],
      "text/plain": [
       "         x      y      A      G\n",
       "0    False  False  False  False\n",
       "1    False  False   True  False\n",
       "2    False  False   True  False\n",
       "3    False  False   True  False\n",
       "4    False  False  False  False\n",
       "..     ...    ...    ...    ...\n",
       "363  False  False   True  False\n",
       "364  False  False   True  False\n",
       "365  False  False  False  False\n",
       "366  False  False  False  False\n",
       "367  False  False  False  False\n",
       "\n",
       "[368 rows x 4 columns]"
      ]
     },
     "execution_count": 69,
     "metadata": {},
     "output_type": "execute_result"
    }
   ],
   "source": [
    "df02.isna()"
   ]
  },
  {
   "cell_type": "code",
   "execution_count": 71,
   "id": "0ad1be73-d739-41c5-9ea9-035c919aecf6",
   "metadata": {},
   "outputs": [
    {
     "data": {
      "text/plain": [
       "x     0\n",
       "y    16\n",
       "A    21\n",
       "G     0\n",
       "dtype: int64"
      ]
     },
     "execution_count": 71,
     "metadata": {},
     "output_type": "execute_result"
    }
   ],
   "source": [
    "df02.isna().sum()"
   ]
  },
  {
   "cell_type": "markdown",
   "id": "788d7d40-a4ab-4de1-a27f-2d6dfd67b062",
   "metadata": {},
   "source": [
    "Column x and G have no missing values, whereas column y has 16 and A has 21. "
   ]
  },
  {
   "cell_type": "markdown",
   "id": "116a94c6-a98b-4a0f-9413-5b832ea2a52c",
   "metadata": {},
   "source": [
    "## Display Summary Statistics appropriate for the data type for each column"
   ]
  },
  {
   "cell_type": "code",
   "execution_count": 72,
   "id": "c7814185-0254-494c-b317-401ae60ae000",
   "metadata": {},
   "outputs": [
    {
     "data": {
      "text/html": [
       "<div>\n",
       "<style scoped>\n",
       "    .dataframe tbody tr th:only-of-type {\n",
       "        vertical-align: middle;\n",
       "    }\n",
       "\n",
       "    .dataframe tbody tr th {\n",
       "        vertical-align: top;\n",
       "    }\n",
       "\n",
       "    .dataframe thead th {\n",
       "        text-align: right;\n",
       "    }\n",
       "</style>\n",
       "<table border=\"1\" class=\"dataframe\">\n",
       "  <thead>\n",
       "    <tr style=\"text-align: right;\">\n",
       "      <th></th>\n",
       "      <th>x</th>\n",
       "      <th>y</th>\n",
       "      <th>A</th>\n",
       "      <th>G</th>\n",
       "    </tr>\n",
       "  </thead>\n",
       "  <tbody>\n",
       "    <tr>\n",
       "      <th>count</th>\n",
       "      <td>368.000000</td>\n",
       "      <td>352.000000</td>\n",
       "      <td>347.000000</td>\n",
       "      <td>368.000000</td>\n",
       "    </tr>\n",
       "    <tr>\n",
       "      <th>mean</th>\n",
       "      <td>0.008874</td>\n",
       "      <td>0.287405</td>\n",
       "      <td>1.608069</td>\n",
       "      <td>6.744565</td>\n",
       "    </tr>\n",
       "    <tr>\n",
       "      <th>std</th>\n",
       "      <td>1.017163</td>\n",
       "      <td>1.951770</td>\n",
       "      <td>0.488886</td>\n",
       "      <td>4.121450</td>\n",
       "    </tr>\n",
       "    <tr>\n",
       "      <th>min</th>\n",
       "      <td>-2.698471</td>\n",
       "      <td>-7.737557</td>\n",
       "      <td>1.000000</td>\n",
       "      <td>1.000000</td>\n",
       "    </tr>\n",
       "    <tr>\n",
       "      <th>25%</th>\n",
       "      <td>-0.696962</td>\n",
       "      <td>-0.599940</td>\n",
       "      <td>1.000000</td>\n",
       "      <td>3.000000</td>\n",
       "    </tr>\n",
       "    <tr>\n",
       "      <th>50%</th>\n",
       "      <td>-0.027857</td>\n",
       "      <td>0.188779</td>\n",
       "      <td>2.000000</td>\n",
       "      <td>6.000000</td>\n",
       "    </tr>\n",
       "    <tr>\n",
       "      <th>75%</th>\n",
       "      <td>0.607358</td>\n",
       "      <td>1.331244</td>\n",
       "      <td>2.000000</td>\n",
       "      <td>10.000000</td>\n",
       "    </tr>\n",
       "    <tr>\n",
       "      <th>max</th>\n",
       "      <td>2.936346</td>\n",
       "      <td>7.875071</td>\n",
       "      <td>2.000000</td>\n",
       "      <td>14.000000</td>\n",
       "    </tr>\n",
       "  </tbody>\n",
       "</table>\n",
       "</div>"
      ],
      "text/plain": [
       "                x           y           A           G\n",
       "count  368.000000  352.000000  347.000000  368.000000\n",
       "mean     0.008874    0.287405    1.608069    6.744565\n",
       "std      1.017163    1.951770    0.488886    4.121450\n",
       "min     -2.698471   -7.737557    1.000000    1.000000\n",
       "25%     -0.696962   -0.599940    1.000000    3.000000\n",
       "50%     -0.027857    0.188779    2.000000    6.000000\n",
       "75%      0.607358    1.331244    2.000000   10.000000\n",
       "max      2.936346    7.875071    2.000000   14.000000"
      ]
     },
     "execution_count": 72,
     "metadata": {},
     "output_type": "execute_result"
    }
   ],
   "source": [
    "df02.describe()"
   ]
  },
  {
   "cell_type": "markdown",
   "id": "352ea63c-8b1e-4a92-93f0-d0de4ab4a83e",
   "metadata": {},
   "source": [
    "## Count the Number of rows associated with each unique value for: Non-Number columns and Numberic columns with low number of unique values"
   ]
  },
  {
   "cell_type": "code",
   "execution_count": 74,
   "id": "6e178a6b-94d5-4a2b-ad14-6e3f5382aaaa",
   "metadata": {},
   "outputs": [
    {
     "data": {
      "text/plain": [
       "float64    3\n",
       "int64      1\n",
       "Name: count, dtype: int64"
      ]
     },
     "execution_count": 74,
     "metadata": {},
     "output_type": "execute_result"
    }
   ],
   "source": [
    "df02.dtypes.value_counts()"
   ]
  },
  {
   "cell_type": "code",
   "execution_count": 78,
   "id": "bbfd73df-ceba-4392-91cf-01bda600bb5d",
   "metadata": {},
   "outputs": [
    {
     "data": {
      "text/plain": [
       "A\n",
       "2.0    211\n",
       "1.0    136\n",
       "NaN     21\n",
       "Name: count, dtype: int64"
      ]
     },
     "execution_count": 78,
     "metadata": {},
     "output_type": "execute_result"
    }
   ],
   "source": [
    "df02.A.value_counts(dropna=False)"
   ]
  },
  {
   "cell_type": "code",
   "execution_count": 79,
   "id": "1ee8e943-abf1-43a6-81b6-5a738754a807",
   "metadata": {},
   "outputs": [
    {
     "data": {
      "text/plain": [
       "A\n",
       "2.0    0.573370\n",
       "1.0    0.369565\n",
       "NaN    0.057065\n",
       "Name: proportion, dtype: float64"
      ]
     },
     "execution_count": 79,
     "metadata": {},
     "output_type": "execute_result"
    }
   ],
   "source": [
    "df02.A.value_counts(dropna=False, normalize=True)"
   ]
  },
  {
   "cell_type": "markdown",
   "id": "c9983545-1e8c-4548-8ce8-8a292aa6c2ea",
   "metadata": {},
   "source": [
    "For column A, the value counts for 1.0 is 136 or 37%; for a2, it is 211 or 57.3%, and finally, there are 21 missing values, which account for 5.7%."
   ]
  },
  {
   "cell_type": "code",
   "execution_count": 80,
   "id": "bf35bfc0-8d8b-4eb6-bdb8-b68d9a6876f1",
   "metadata": {},
   "outputs": [
    {
     "data": {
      "text/plain": [
       "G\n",
       "5     45\n",
       "10    45\n",
       "2     39\n",
       "1     38\n",
       "3     35\n",
       "14    30\n",
       "11    29\n",
       "7     25\n",
       "9     19\n",
       "4     15\n",
       "6     15\n",
       "8     14\n",
       "13    11\n",
       "12     8\n",
       "Name: count, dtype: int64"
      ]
     },
     "execution_count": 80,
     "metadata": {},
     "output_type": "execute_result"
    }
   ],
   "source": [
    "df02.G.value_counts(dropna=False)"
   ]
  },
  {
   "cell_type": "code",
   "execution_count": 81,
   "id": "057c7b2d-bb9d-4346-8915-d1408fa0f3be",
   "metadata": {},
   "outputs": [
    {
     "data": {
      "text/plain": [
       "G\n",
       "5     0.122283\n",
       "10    0.122283\n",
       "2     0.105978\n",
       "1     0.103261\n",
       "3     0.095109\n",
       "14    0.081522\n",
       "11    0.078804\n",
       "7     0.067935\n",
       "9     0.051630\n",
       "4     0.040761\n",
       "6     0.040761\n",
       "8     0.038043\n",
       "13    0.029891\n",
       "12    0.021739\n",
       "Name: proportion, dtype: float64"
      ]
     },
     "execution_count": 81,
     "metadata": {},
     "output_type": "execute_result"
    }
   ],
   "source": [
    "df02.G.value_counts(dropna=False, normalize = True)"
   ]
  },
  {
   "cell_type": "markdown",
   "id": "ef85ef15-2e1f-445d-ae92-0efb019041b0",
   "metadata": {},
   "source": [
    "## SPLIT - APPLY - COMBINE"
   ]
  },
  {
   "cell_type": "code",
   "execution_count": 93,
   "id": "aaa3bb00-1db2-4e3e-87e0-c4a0cac4ef81",
   "metadata": {},
   "outputs": [
    {
     "data": {
      "text/html": [
       "<div>\n",
       "<style scoped>\n",
       "    .dataframe tbody tr th:only-of-type {\n",
       "        vertical-align: middle;\n",
       "    }\n",
       "\n",
       "    .dataframe tbody tr th {\n",
       "        vertical-align: top;\n",
       "    }\n",
       "\n",
       "    .dataframe thead th {\n",
       "        text-align: right;\n",
       "    }\n",
       "</style>\n",
       "<table border=\"1\" class=\"dataframe\">\n",
       "  <thead>\n",
       "    <tr style=\"text-align: right;\">\n",
       "      <th></th>\n",
       "      <th>A</th>\n",
       "      <th>x_numrows</th>\n",
       "      <th>x_nonmissing</th>\n",
       "      <th>x_avg</th>\n",
       "      <th>x_std</th>\n",
       "      <th>x_sem</th>\n",
       "      <th>y_numrows</th>\n",
       "      <th>y_nonmissing</th>\n",
       "      <th>y_avg</th>\n",
       "      <th>y_std</th>\n",
       "      <th>y_sem</th>\n",
       "      <th>G_numrows</th>\n",
       "      <th>G_nonmissing</th>\n",
       "      <th>G_avg</th>\n",
       "      <th>G_std</th>\n",
       "      <th>G_sem</th>\n",
       "    </tr>\n",
       "  </thead>\n",
       "  <tbody>\n",
       "    <tr>\n",
       "      <th>0</th>\n",
       "      <td>1.0</td>\n",
       "      <td>136</td>\n",
       "      <td>136</td>\n",
       "      <td>-0.071118</td>\n",
       "      <td>1.007348</td>\n",
       "      <td>0.086379</td>\n",
       "      <td>136</td>\n",
       "      <td>120</td>\n",
       "      <td>0.097019</td>\n",
       "      <td>1.935619</td>\n",
       "      <td>0.176697</td>\n",
       "      <td>136</td>\n",
       "      <td>136</td>\n",
       "      <td>8.573529</td>\n",
       "      <td>2.671197</td>\n",
       "      <td>0.229053</td>\n",
       "    </tr>\n",
       "    <tr>\n",
       "      <th>1</th>\n",
       "      <td>2.0</td>\n",
       "      <td>211</td>\n",
       "      <td>211</td>\n",
       "      <td>0.029215</td>\n",
       "      <td>1.020511</td>\n",
       "      <td>0.070255</td>\n",
       "      <td>211</td>\n",
       "      <td>211</td>\n",
       "      <td>0.435802</td>\n",
       "      <td>2.025692</td>\n",
       "      <td>0.139454</td>\n",
       "      <td>211</td>\n",
       "      <td>211</td>\n",
       "      <td>5.028436</td>\n",
       "      <td>3.871649</td>\n",
       "      <td>0.266535</td>\n",
       "    </tr>\n",
       "    <tr>\n",
       "      <th>2</th>\n",
       "      <td>NaN</td>\n",
       "      <td>21</td>\n",
       "      <td>21</td>\n",
       "      <td>0.322540</td>\n",
       "      <td>1.024403</td>\n",
       "      <td>0.223543</td>\n",
       "      <td>21</td>\n",
       "      <td>21</td>\n",
       "      <td>-0.115713</td>\n",
       "      <td>0.925330</td>\n",
       "      <td>0.201923</td>\n",
       "      <td>21</td>\n",
       "      <td>21</td>\n",
       "      <td>12.142857</td>\n",
       "      <td>4.661392</td>\n",
       "      <td>1.017199</td>\n",
       "    </tr>\n",
       "  </tbody>\n",
       "</table>\n",
       "</div>"
      ],
      "text/plain": [
       "     A  x_numrows  x_nonmissing     x_avg     x_std     x_sem  y_numrows  \\\n",
       "0  1.0        136           136 -0.071118  1.007348  0.086379        136   \n",
       "1  2.0        211           211  0.029215  1.020511  0.070255        211   \n",
       "2  NaN         21            21  0.322540  1.024403  0.223543         21   \n",
       "\n",
       "   y_nonmissing     y_avg     y_std     y_sem  G_numrows  G_nonmissing  \\\n",
       "0           120  0.097019  1.935619  0.176697        136           136   \n",
       "1           211  0.435802  2.025692  0.139454        211           211   \n",
       "2            21 -0.115713  0.925330  0.201923         21            21   \n",
       "\n",
       "       G_avg     G_std     G_sem  \n",
       "0   8.573529  2.671197  0.229053  \n",
       "1   5.028436  3.871649  0.266535  \n",
       "2  12.142857  4.661392  1.017199  "
      ]
     },
     "execution_count": 93,
     "metadata": {},
     "output_type": "execute_result"
    }
   ],
   "source": [
    "df02.groupby('A', dropna=False).\\\n",
    "aggregate(x_numrows = ('x', 'size'),\n",
    "          x_nonmissing = ('x','count'),\n",
    "          x_avg = ('x','mean'),\n",
    "          x_std = ('x', 'std'),\n",
    "          x_sem = ('x', 'sem'),\n",
    "          y_numrows = ('y', 'size'),\n",
    "          y_nonmissing = ('y','count'),\n",
    "          y_avg = ('y','mean'),\n",
    "          y_std = ('y', 'std'),\n",
    "          y_sem = ('y', 'sem'),\n",
    "          G_numrows = ('G', 'size'),\n",
    "          G_nonmissing = ('G','count'),\n",
    "          G_avg = ('G','mean'),\n",
    "          G_std = ('G', 'std'),\n",
    "          G_sem = ('G', 'sem')).\\\n",
    "reset_index()"
   ]
  },
  {
   "cell_type": "code",
   "execution_count": 94,
   "id": "157e7e53-0b89-446a-99f9-be0d643f16e5",
   "metadata": {},
   "outputs": [],
   "source": [
    "df02_A_summary_info = df02.groupby('A', dropna=False).\\\n",
    "aggregate(x_numrows = ('x', 'size'),\n",
    "          x_nonmissing = ('x','count'),\n",
    "          x_avg = ('x','mean'),\n",
    "          x_std = ('x', 'std'),\n",
    "          x_sem = ('x', 'sem'),\n",
    "          y_numrows = ('y', 'size'),\n",
    "          y_nonmissing = ('y','count'),\n",
    "          y_avg = ('y','mean'),\n",
    "          y_std = ('y', 'std'),\n",
    "          y_sem = ('y', 'sem'),\n",
    "          G_numrows = ('G', 'size'),\n",
    "          G_nonmissing = ('G','count'),\n",
    "          G_avg = ('G','mean'),\n",
    "          G_std = ('G', 'std'),\n",
    "          G_sem = ('G', 'sem')).\\\n",
    "reset_index()"
   ]
  },
  {
   "cell_type": "code",
   "execution_count": 95,
   "id": "39371e7a-11d2-401a-9489-16553a79b5b6",
   "metadata": {},
   "outputs": [
    {
     "data": {
      "text/html": [
       "<div>\n",
       "<style scoped>\n",
       "    .dataframe tbody tr th:only-of-type {\n",
       "        vertical-align: middle;\n",
       "    }\n",
       "\n",
       "    .dataframe tbody tr th {\n",
       "        vertical-align: top;\n",
       "    }\n",
       "\n",
       "    .dataframe thead th {\n",
       "        text-align: right;\n",
       "    }\n",
       "</style>\n",
       "<table border=\"1\" class=\"dataframe\">\n",
       "  <thead>\n",
       "    <tr style=\"text-align: right;\">\n",
       "      <th></th>\n",
       "      <th>A</th>\n",
       "      <th>x_numrows</th>\n",
       "      <th>x_nonmissing</th>\n",
       "      <th>x_avg</th>\n",
       "      <th>x_std</th>\n",
       "      <th>x_sem</th>\n",
       "      <th>y_numrows</th>\n",
       "      <th>y_nonmissing</th>\n",
       "      <th>y_avg</th>\n",
       "      <th>y_std</th>\n",
       "      <th>y_sem</th>\n",
       "      <th>G_numrows</th>\n",
       "      <th>G_nonmissing</th>\n",
       "      <th>G_avg</th>\n",
       "      <th>G_std</th>\n",
       "      <th>G_sem</th>\n",
       "    </tr>\n",
       "  </thead>\n",
       "  <tbody>\n",
       "    <tr>\n",
       "      <th>0</th>\n",
       "      <td>1.0</td>\n",
       "      <td>136</td>\n",
       "      <td>136</td>\n",
       "      <td>-0.071118</td>\n",
       "      <td>1.007348</td>\n",
       "      <td>0.086379</td>\n",
       "      <td>136</td>\n",
       "      <td>120</td>\n",
       "      <td>0.097019</td>\n",
       "      <td>1.935619</td>\n",
       "      <td>0.176697</td>\n",
       "      <td>136</td>\n",
       "      <td>136</td>\n",
       "      <td>8.573529</td>\n",
       "      <td>2.671197</td>\n",
       "      <td>0.229053</td>\n",
       "    </tr>\n",
       "    <tr>\n",
       "      <th>1</th>\n",
       "      <td>2.0</td>\n",
       "      <td>211</td>\n",
       "      <td>211</td>\n",
       "      <td>0.029215</td>\n",
       "      <td>1.020511</td>\n",
       "      <td>0.070255</td>\n",
       "      <td>211</td>\n",
       "      <td>211</td>\n",
       "      <td>0.435802</td>\n",
       "      <td>2.025692</td>\n",
       "      <td>0.139454</td>\n",
       "      <td>211</td>\n",
       "      <td>211</td>\n",
       "      <td>5.028436</td>\n",
       "      <td>3.871649</td>\n",
       "      <td>0.266535</td>\n",
       "    </tr>\n",
       "    <tr>\n",
       "      <th>2</th>\n",
       "      <td>NaN</td>\n",
       "      <td>21</td>\n",
       "      <td>21</td>\n",
       "      <td>0.322540</td>\n",
       "      <td>1.024403</td>\n",
       "      <td>0.223543</td>\n",
       "      <td>21</td>\n",
       "      <td>21</td>\n",
       "      <td>-0.115713</td>\n",
       "      <td>0.925330</td>\n",
       "      <td>0.201923</td>\n",
       "      <td>21</td>\n",
       "      <td>21</td>\n",
       "      <td>12.142857</td>\n",
       "      <td>4.661392</td>\n",
       "      <td>1.017199</td>\n",
       "    </tr>\n",
       "  </tbody>\n",
       "</table>\n",
       "</div>"
      ],
      "text/plain": [
       "     A  x_numrows  x_nonmissing     x_avg     x_std     x_sem  y_numrows  \\\n",
       "0  1.0        136           136 -0.071118  1.007348  0.086379        136   \n",
       "1  2.0        211           211  0.029215  1.020511  0.070255        211   \n",
       "2  NaN         21            21  0.322540  1.024403  0.223543         21   \n",
       "\n",
       "   y_nonmissing     y_avg     y_std     y_sem  G_numrows  G_nonmissing  \\\n",
       "0           120  0.097019  1.935619  0.176697        136           136   \n",
       "1           211  0.435802  2.025692  0.139454        211           211   \n",
       "2            21 -0.115713  0.925330  0.201923         21            21   \n",
       "\n",
       "       G_avg     G_std     G_sem  \n",
       "0   8.573529  2.671197  0.229053  \n",
       "1   5.028436  3.871649  0.266535  \n",
       "2  12.142857  4.661392  1.017199  "
      ]
     },
     "execution_count": 95,
     "metadata": {},
     "output_type": "execute_result"
    }
   ],
   "source": [
    "df02_A_summary_info"
   ]
  },
  {
   "cell_type": "markdown",
   "id": "2a03c7fc-368a-4d55-84f4-45ee7f7b8cb6",
   "metadata": {},
   "source": [
    "Yes, the averages for 'x', 'y', and 'G' all change across the groups of column A. For both 'x' and 'y', the average variance across the values in column A shows a small variance, and for columns 'y' and 'G', all the values are positive, which could indicate that the the values in these groups tend to be positive. "
   ]
  },
  {
   "cell_type": "markdown",
   "id": "a0644e43",
   "metadata": {},
   "source": [
    "## Problem 03\n",
    "\n",
    "Download `hw05_prob_03.csv` from the Canvas site. Save the CSV file in the same directory as this Jupyter notebook.\n",
    "\n",
    "Read in the `hw05_prob_03.csv` CSV file and assign it to the `df03` object.\n",
    "\n",
    "Explore the `df03` object following **ALL** required actions listed previously.\n",
    "\n",
    "You must add more code cells and markdown cells to complete this problem.\n",
    "\n",
    "#### 03) - SOLUTION"
   ]
  },
  {
   "cell_type": "markdown",
   "id": "c1a1cc5d-15fc-4f86-8aa1-b0589dac8925",
   "metadata": {},
   "source": [
    "## Read in the CSV data"
   ]
  },
  {
   "cell_type": "code",
   "execution_count": 96,
   "id": "9cdceead-14d8-4520-97ff-b598466eea2e",
   "metadata": {},
   "outputs": [
    {
     "data": {
      "text/html": [
       "<div>\n",
       "<style scoped>\n",
       "    .dataframe tbody tr th:only-of-type {\n",
       "        vertical-align: middle;\n",
       "    }\n",
       "\n",
       "    .dataframe tbody tr th {\n",
       "        vertical-align: top;\n",
       "    }\n",
       "\n",
       "    .dataframe thead th {\n",
       "        text-align: right;\n",
       "    }\n",
       "</style>\n",
       "<table border=\"1\" class=\"dataframe\">\n",
       "  <thead>\n",
       "    <tr style=\"text-align: right;\">\n",
       "      <th></th>\n",
       "      <th>obs_id</th>\n",
       "      <th>key</th>\n",
       "      <th>value</th>\n",
       "    </tr>\n",
       "  </thead>\n",
       "  <tbody>\n",
       "    <tr>\n",
       "      <th>0</th>\n",
       "      <td>1</td>\n",
       "      <td>x1</td>\n",
       "      <td>0.034632</td>\n",
       "    </tr>\n",
       "    <tr>\n",
       "      <th>1</th>\n",
       "      <td>2</td>\n",
       "      <td>x1</td>\n",
       "      <td>0.523494</td>\n",
       "    </tr>\n",
       "    <tr>\n",
       "      <th>2</th>\n",
       "      <td>3</td>\n",
       "      <td>x1</td>\n",
       "      <td>1.224766</td>\n",
       "    </tr>\n",
       "    <tr>\n",
       "      <th>3</th>\n",
       "      <td>4</td>\n",
       "      <td>x1</td>\n",
       "      <td>1.517422</td>\n",
       "    </tr>\n",
       "    <tr>\n",
       "      <th>4</th>\n",
       "      <td>5</td>\n",
       "      <td>x1</td>\n",
       "      <td>2.432589</td>\n",
       "    </tr>\n",
       "    <tr>\n",
       "      <th>...</th>\n",
       "      <td>...</td>\n",
       "      <td>...</td>\n",
       "      <td>...</td>\n",
       "    </tr>\n",
       "    <tr>\n",
       "      <th>1402</th>\n",
       "      <td>197</td>\n",
       "      <td>x7</td>\n",
       "      <td>-8.145633</td>\n",
       "    </tr>\n",
       "    <tr>\n",
       "      <th>1403</th>\n",
       "      <td>198</td>\n",
       "      <td>x7</td>\n",
       "      <td>NaN</td>\n",
       "    </tr>\n",
       "    <tr>\n",
       "      <th>1404</th>\n",
       "      <td>199</td>\n",
       "      <td>x7</td>\n",
       "      <td>-8.152787</td>\n",
       "    </tr>\n",
       "    <tr>\n",
       "      <th>1405</th>\n",
       "      <td>200</td>\n",
       "      <td>x7</td>\n",
       "      <td>-8.063927</td>\n",
       "    </tr>\n",
       "    <tr>\n",
       "      <th>1406</th>\n",
       "      <td>201</td>\n",
       "      <td>x7</td>\n",
       "      <td>NaN</td>\n",
       "    </tr>\n",
       "  </tbody>\n",
       "</table>\n",
       "<p>1407 rows × 3 columns</p>\n",
       "</div>"
      ],
      "text/plain": [
       "      obs_id key     value\n",
       "0          1  x1  0.034632\n",
       "1          2  x1  0.523494\n",
       "2          3  x1  1.224766\n",
       "3          4  x1  1.517422\n",
       "4          5  x1  2.432589\n",
       "...      ...  ..       ...\n",
       "1402     197  x7 -8.145633\n",
       "1403     198  x7       NaN\n",
       "1404     199  x7 -8.152787\n",
       "1405     200  x7 -8.063927\n",
       "1406     201  x7       NaN\n",
       "\n",
       "[1407 rows x 3 columns]"
      ]
     },
     "execution_count": 96,
     "metadata": {},
     "output_type": "execute_result"
    }
   ],
   "source": [
    "pd.read_csv('hw05_prob_03.csv')"
   ]
  },
  {
   "cell_type": "code",
   "execution_count": 97,
   "id": "5cc4534b-c85b-4f58-a8c4-a4afc19207d1",
   "metadata": {},
   "outputs": [],
   "source": [
    "df03=pd.read_csv('hw05_prob_03.csv')"
   ]
  },
  {
   "cell_type": "markdown",
   "id": "44f79fb5-c856-4c7d-8737-5e6e22f5ff4f",
   "metadata": {},
   "source": [
    "## Display number of rows and columns"
   ]
  },
  {
   "cell_type": "code",
   "execution_count": 98,
   "id": "1a172016-a303-4a8a-b0c7-42377e98f61d",
   "metadata": {},
   "outputs": [
    {
     "data": {
      "text/plain": [
       "(1407, 3)"
      ]
     },
     "execution_count": 98,
     "metadata": {},
     "output_type": "execute_result"
    }
   ],
   "source": [
    "df03.shape"
   ]
  },
  {
   "cell_type": "code",
   "execution_count": 99,
   "id": "0e43d5fa-0fad-4bcd-a26f-3e506ec4236d",
   "metadata": {},
   "outputs": [
    {
     "name": "stdout",
     "output_type": "stream",
     "text": [
      "<class 'pandas.core.frame.DataFrame'>\n",
      "RangeIndex: 1407 entries, 0 to 1406\n",
      "Data columns (total 3 columns):\n",
      " #   Column  Non-Null Count  Dtype  \n",
      "---  ------  --------------  -----  \n",
      " 0   obs_id  1407 non-null   int64  \n",
      " 1   key     1407 non-null   object \n",
      " 2   value   1379 non-null   float64\n",
      "dtypes: float64(1), int64(1), object(1)\n",
      "memory usage: 33.1+ KB\n"
     ]
    }
   ],
   "source": [
    "df03.info()"
   ]
  },
  {
   "cell_type": "markdown",
   "id": "862d6436-c64b-4b39-b48c-2cca9ca8c659",
   "metadata": {},
   "source": [
    "There are 1407 rows and 3 columns in df03. "
   ]
  },
  {
   "cell_type": "markdown",
   "id": "b670c96c-de0f-4752-ba7b-c564d98586ec",
   "metadata": {},
   "source": [
    "## Display Names of Columns and Data Types"
   ]
  },
  {
   "cell_type": "code",
   "execution_count": 100,
   "id": "200e9759-0594-4176-a4f7-ba6ddfffde4e",
   "metadata": {},
   "outputs": [
    {
     "data": {
      "text/plain": [
       "Index(['obs_id', 'key', 'value'], dtype='object')"
      ]
     },
     "execution_count": 100,
     "metadata": {},
     "output_type": "execute_result"
    }
   ],
   "source": [
    "df03.columns"
   ]
  },
  {
   "cell_type": "code",
   "execution_count": 101,
   "id": "e8771cd4-cc77-42cc-a882-e2e2db9b2bf0",
   "metadata": {},
   "outputs": [
    {
     "data": {
      "text/plain": [
       "obs_id      int64\n",
       "key        object\n",
       "value     float64\n",
       "dtype: object"
      ]
     },
     "execution_count": 101,
     "metadata": {},
     "output_type": "execute_result"
    }
   ],
   "source": [
    "df03.dtypes"
   ]
  },
  {
   "cell_type": "markdown",
   "id": "d0488c28-48cf-41bd-8071-78069fe38203",
   "metadata": {},
   "source": [
    "Column obs_id is an integer, the column value is a float, and a column key is an object."
   ]
  },
  {
   "cell_type": "markdown",
   "id": "38a936f0-68df-4bdc-844b-84e59e327a4d",
   "metadata": {},
   "source": [
    "## Display the unique values for each column"
   ]
  },
  {
   "cell_type": "code",
   "execution_count": 102,
   "id": "73cf8099-5024-4d6c-9d2a-710f918bc3f1",
   "metadata": {},
   "outputs": [
    {
     "data": {
      "text/plain": [
       "obs_id     201\n",
       "key          7\n",
       "value     1379\n",
       "dtype: int64"
      ]
     },
     "execution_count": 102,
     "metadata": {},
     "output_type": "execute_result"
    }
   ],
   "source": [
    "df03.nunique()"
   ]
  },
  {
   "cell_type": "markdown",
   "id": "3778415d-8dda-4575-a2b0-813affdc4a01",
   "metadata": {},
   "source": [
    "Column obs_id has 201 unique values, column key has 7, and column values have 1379. "
   ]
  },
  {
   "cell_type": "markdown",
   "id": "840b46ad-ab73-4d61-9ff2-76ee53c75bff",
   "metadata": {},
   "source": [
    "## Display the number of Missing Vales for each Column"
   ]
  },
  {
   "cell_type": "code",
   "execution_count": 103,
   "id": "233c52d5-8686-42eb-8a18-786a573b2ea7",
   "metadata": {},
   "outputs": [
    {
     "data": {
      "text/html": [
       "<div>\n",
       "<style scoped>\n",
       "    .dataframe tbody tr th:only-of-type {\n",
       "        vertical-align: middle;\n",
       "    }\n",
       "\n",
       "    .dataframe tbody tr th {\n",
       "        vertical-align: top;\n",
       "    }\n",
       "\n",
       "    .dataframe thead th {\n",
       "        text-align: right;\n",
       "    }\n",
       "</style>\n",
       "<table border=\"1\" class=\"dataframe\">\n",
       "  <thead>\n",
       "    <tr style=\"text-align: right;\">\n",
       "      <th></th>\n",
       "      <th>obs_id</th>\n",
       "      <th>key</th>\n",
       "      <th>value</th>\n",
       "    </tr>\n",
       "  </thead>\n",
       "  <tbody>\n",
       "    <tr>\n",
       "      <th>0</th>\n",
       "      <td>False</td>\n",
       "      <td>False</td>\n",
       "      <td>False</td>\n",
       "    </tr>\n",
       "    <tr>\n",
       "      <th>1</th>\n",
       "      <td>False</td>\n",
       "      <td>False</td>\n",
       "      <td>False</td>\n",
       "    </tr>\n",
       "    <tr>\n",
       "      <th>2</th>\n",
       "      <td>False</td>\n",
       "      <td>False</td>\n",
       "      <td>False</td>\n",
       "    </tr>\n",
       "    <tr>\n",
       "      <th>3</th>\n",
       "      <td>False</td>\n",
       "      <td>False</td>\n",
       "      <td>False</td>\n",
       "    </tr>\n",
       "    <tr>\n",
       "      <th>4</th>\n",
       "      <td>False</td>\n",
       "      <td>False</td>\n",
       "      <td>False</td>\n",
       "    </tr>\n",
       "    <tr>\n",
       "      <th>...</th>\n",
       "      <td>...</td>\n",
       "      <td>...</td>\n",
       "      <td>...</td>\n",
       "    </tr>\n",
       "    <tr>\n",
       "      <th>1402</th>\n",
       "      <td>False</td>\n",
       "      <td>False</td>\n",
       "      <td>False</td>\n",
       "    </tr>\n",
       "    <tr>\n",
       "      <th>1403</th>\n",
       "      <td>False</td>\n",
       "      <td>False</td>\n",
       "      <td>True</td>\n",
       "    </tr>\n",
       "    <tr>\n",
       "      <th>1404</th>\n",
       "      <td>False</td>\n",
       "      <td>False</td>\n",
       "      <td>False</td>\n",
       "    </tr>\n",
       "    <tr>\n",
       "      <th>1405</th>\n",
       "      <td>False</td>\n",
       "      <td>False</td>\n",
       "      <td>False</td>\n",
       "    </tr>\n",
       "    <tr>\n",
       "      <th>1406</th>\n",
       "      <td>False</td>\n",
       "      <td>False</td>\n",
       "      <td>True</td>\n",
       "    </tr>\n",
       "  </tbody>\n",
       "</table>\n",
       "<p>1407 rows × 3 columns</p>\n",
       "</div>"
      ],
      "text/plain": [
       "      obs_id    key  value\n",
       "0      False  False  False\n",
       "1      False  False  False\n",
       "2      False  False  False\n",
       "3      False  False  False\n",
       "4      False  False  False\n",
       "...      ...    ...    ...\n",
       "1402   False  False  False\n",
       "1403   False  False   True\n",
       "1404   False  False  False\n",
       "1405   False  False  False\n",
       "1406   False  False   True\n",
       "\n",
       "[1407 rows x 3 columns]"
      ]
     },
     "execution_count": 103,
     "metadata": {},
     "output_type": "execute_result"
    }
   ],
   "source": [
    "df03.isna()"
   ]
  },
  {
   "cell_type": "code",
   "execution_count": 104,
   "id": "bd1703ff-ca20-4bd4-a1ff-692a77e0d89d",
   "metadata": {},
   "outputs": [
    {
     "data": {
      "text/plain": [
       "obs_id     0\n",
       "key        0\n",
       "value     28\n",
       "dtype: int64"
      ]
     },
     "execution_count": 104,
     "metadata": {},
     "output_type": "execute_result"
    }
   ],
   "source": [
    "df03.isna().sum()"
   ]
  },
  {
   "cell_type": "markdown",
   "id": "25e796c5-a037-4b53-8ae0-550b912fe483",
   "metadata": {},
   "source": [
    "Columns obs_id and key have no missing values, whereas column value has 28."
   ]
  },
  {
   "cell_type": "markdown",
   "id": "ebb0070b-cdd6-4959-88b4-8fba09c6273b",
   "metadata": {},
   "source": [
    "## Display Summary Statistics appropriate for the data type for each column"
   ]
  },
  {
   "cell_type": "code",
   "execution_count": 105,
   "id": "58c4140a-3a6c-486e-a4b7-2233afbe8912",
   "metadata": {},
   "outputs": [
    {
     "data": {
      "text/html": [
       "<div>\n",
       "<style scoped>\n",
       "    .dataframe tbody tr th:only-of-type {\n",
       "        vertical-align: middle;\n",
       "    }\n",
       "\n",
       "    .dataframe tbody tr th {\n",
       "        vertical-align: top;\n",
       "    }\n",
       "\n",
       "    .dataframe thead th {\n",
       "        text-align: right;\n",
       "    }\n",
       "</style>\n",
       "<table border=\"1\" class=\"dataframe\">\n",
       "  <thead>\n",
       "    <tr style=\"text-align: right;\">\n",
       "      <th></th>\n",
       "      <th>obs_id</th>\n",
       "      <th>value</th>\n",
       "    </tr>\n",
       "  </thead>\n",
       "  <tbody>\n",
       "    <tr>\n",
       "      <th>count</th>\n",
       "      <td>1407.000000</td>\n",
       "      <td>1379.000000</td>\n",
       "    </tr>\n",
       "    <tr>\n",
       "      <th>mean</th>\n",
       "      <td>101.000000</td>\n",
       "      <td>-2.222709</td>\n",
       "    </tr>\n",
       "    <tr>\n",
       "      <th>std</th>\n",
       "      <td>58.043614</td>\n",
       "      <td>4.465882</td>\n",
       "    </tr>\n",
       "    <tr>\n",
       "      <th>min</th>\n",
       "      <td>1.000000</td>\n",
       "      <td>-25.362015</td>\n",
       "    </tr>\n",
       "    <tr>\n",
       "      <th>25%</th>\n",
       "      <td>51.000000</td>\n",
       "      <td>-2.683234</td>\n",
       "    </tr>\n",
       "    <tr>\n",
       "      <th>50%</th>\n",
       "      <td>101.000000</td>\n",
       "      <td>-0.798222</td>\n",
       "    </tr>\n",
       "    <tr>\n",
       "      <th>75%</th>\n",
       "      <td>151.000000</td>\n",
       "      <td>0.250730</td>\n",
       "    </tr>\n",
       "    <tr>\n",
       "      <th>max</th>\n",
       "      <td>201.000000</td>\n",
       "      <td>4.209716</td>\n",
       "    </tr>\n",
       "  </tbody>\n",
       "</table>\n",
       "</div>"
      ],
      "text/plain": [
       "            obs_id        value\n",
       "count  1407.000000  1379.000000\n",
       "mean    101.000000    -2.222709\n",
       "std      58.043614     4.465882\n",
       "min       1.000000   -25.362015\n",
       "25%      51.000000    -2.683234\n",
       "50%     101.000000    -0.798222\n",
       "75%     151.000000     0.250730\n",
       "max     201.000000     4.209716"
      ]
     },
     "execution_count": 105,
     "metadata": {},
     "output_type": "execute_result"
    }
   ],
   "source": [
    "df03.describe()"
   ]
  },
  {
   "cell_type": "code",
   "execution_count": 106,
   "id": "f350741e-55e1-4d0c-8fa2-a68d9732ffbc",
   "metadata": {},
   "outputs": [
    {
     "data": {
      "text/html": [
       "<div>\n",
       "<style scoped>\n",
       "    .dataframe tbody tr th:only-of-type {\n",
       "        vertical-align: middle;\n",
       "    }\n",
       "\n",
       "    .dataframe tbody tr th {\n",
       "        vertical-align: top;\n",
       "    }\n",
       "\n",
       "    .dataframe thead th {\n",
       "        text-align: right;\n",
       "    }\n",
       "</style>\n",
       "<table border=\"1\" class=\"dataframe\">\n",
       "  <thead>\n",
       "    <tr style=\"text-align: right;\">\n",
       "      <th></th>\n",
       "      <th>key</th>\n",
       "    </tr>\n",
       "  </thead>\n",
       "  <tbody>\n",
       "    <tr>\n",
       "      <th>count</th>\n",
       "      <td>1407</td>\n",
       "    </tr>\n",
       "    <tr>\n",
       "      <th>unique</th>\n",
       "      <td>7</td>\n",
       "    </tr>\n",
       "    <tr>\n",
       "      <th>top</th>\n",
       "      <td>x1</td>\n",
       "    </tr>\n",
       "    <tr>\n",
       "      <th>freq</th>\n",
       "      <td>201</td>\n",
       "    </tr>\n",
       "  </tbody>\n",
       "</table>\n",
       "</div>"
      ],
      "text/plain": [
       "         key\n",
       "count   1407\n",
       "unique     7\n",
       "top       x1\n",
       "freq     201"
      ]
     },
     "execution_count": 106,
     "metadata": {},
     "output_type": "execute_result"
    }
   ],
   "source": [
    "df03.describe(include='object')"
   ]
  },
  {
   "cell_type": "markdown",
   "id": "a6c65e30-9582-4a44-a710-ac88baf0c606",
   "metadata": {},
   "source": [
    "## Count the Number of rows associated with each unique value for: Non-Number columns and Numberic columns with low number of unique values"
   ]
  },
  {
   "cell_type": "code",
   "execution_count": 107,
   "id": "822f2c22-644d-49c7-b6d5-411eb77048f7",
   "metadata": {},
   "outputs": [
    {
     "data": {
      "text/plain": [
       "int64      1\n",
       "object     1\n",
       "float64    1\n",
       "Name: count, dtype: int64"
      ]
     },
     "execution_count": 107,
     "metadata": {},
     "output_type": "execute_result"
    }
   ],
   "source": [
    "df03.dtypes.value_counts()"
   ]
  },
  {
   "cell_type": "code",
   "execution_count": 109,
   "id": "263a1769-d825-484f-8d21-1420eeea508a",
   "metadata": {},
   "outputs": [
    {
     "data": {
      "text/plain": [
       "key\n",
       "x1    201\n",
       "x2    201\n",
       "x3    201\n",
       "x4    201\n",
       "x5    201\n",
       "x6    201\n",
       "x7    201\n",
       "Name: count, dtype: int64"
      ]
     },
     "execution_count": 109,
     "metadata": {},
     "output_type": "execute_result"
    }
   ],
   "source": [
    "df03.key.value_counts(dropna=False)"
   ]
  },
  {
   "cell_type": "code",
   "execution_count": 112,
   "id": "c1e80326-c766-4313-8501-79f824371b27",
   "metadata": {},
   "outputs": [
    {
     "data": {
      "text/plain": [
       "key\n",
       "x1    0.142857\n",
       "x2    0.142857\n",
       "x3    0.142857\n",
       "x4    0.142857\n",
       "x5    0.142857\n",
       "x6    0.142857\n",
       "x7    0.142857\n",
       "Name: proportion, dtype: float64"
      ]
     },
     "execution_count": 112,
     "metadata": {},
     "output_type": "execute_result"
    }
   ],
   "source": [
    "df03.key.value_counts(dropna=False, normalize=True)"
   ]
  },
  {
   "cell_type": "markdown",
   "id": "183e950e-f670-4f1c-a211-2a1ba9907708",
   "metadata": {},
   "source": [
    "For the unique values in key x1 - x7, each one appears 201 times, which gives a proportion of 14.3%"
   ]
  },
  {
   "cell_type": "markdown",
   "id": "fb56f0d6-a95e-45a1-bd71-031908f2bfb7",
   "metadata": {},
   "source": [
    "## SPLIT - APPLY - COMBINE"
   ]
  },
  {
   "cell_type": "code",
   "execution_count": 114,
   "id": "4db1105d-9948-4afb-a6ae-68a065b88460",
   "metadata": {},
   "outputs": [
    {
     "data": {
      "text/html": [
       "<div>\n",
       "<style scoped>\n",
       "    .dataframe tbody tr th:only-of-type {\n",
       "        vertical-align: middle;\n",
       "    }\n",
       "\n",
       "    .dataframe tbody tr th {\n",
       "        vertical-align: top;\n",
       "    }\n",
       "\n",
       "    .dataframe thead th {\n",
       "        text-align: right;\n",
       "    }\n",
       "</style>\n",
       "<table border=\"1\" class=\"dataframe\">\n",
       "  <thead>\n",
       "    <tr style=\"text-align: right;\">\n",
       "      <th></th>\n",
       "      <th>key</th>\n",
       "      <th>obs_id_numrows</th>\n",
       "      <th>obs_id_nonmissing</th>\n",
       "      <th>obs_id_avg</th>\n",
       "      <th>obs_id_std</th>\n",
       "      <th>obs_id_sem</th>\n",
       "      <th>value_numrows</th>\n",
       "      <th>value_nonmissing</th>\n",
       "      <th>value_avg</th>\n",
       "      <th>value_std</th>\n",
       "      <th>value_sem</th>\n",
       "    </tr>\n",
       "  </thead>\n",
       "  <tbody>\n",
       "    <tr>\n",
       "      <th>0</th>\n",
       "      <td>x1</td>\n",
       "      <td>201</td>\n",
       "      <td>201</td>\n",
       "      <td>101.0</td>\n",
       "      <td>58.167861</td>\n",
       "      <td>4.102845</td>\n",
       "      <td>201</td>\n",
       "      <td>201</td>\n",
       "      <td>-0.160787</td>\n",
       "      <td>1.735903</td>\n",
       "      <td>0.122441</td>\n",
       "    </tr>\n",
       "    <tr>\n",
       "      <th>1</th>\n",
       "      <td>x2</td>\n",
       "      <td>201</td>\n",
       "      <td>201</td>\n",
       "      <td>101.0</td>\n",
       "      <td>58.167861</td>\n",
       "      <td>4.102845</td>\n",
       "      <td>201</td>\n",
       "      <td>201</td>\n",
       "      <td>0.100830</td>\n",
       "      <td>0.095558</td>\n",
       "      <td>0.006740</td>\n",
       "    </tr>\n",
       "    <tr>\n",
       "      <th>2</th>\n",
       "      <td>x3</td>\n",
       "      <td>201</td>\n",
       "      <td>201</td>\n",
       "      <td>101.0</td>\n",
       "      <td>58.167861</td>\n",
       "      <td>4.102845</td>\n",
       "      <td>201</td>\n",
       "      <td>197</td>\n",
       "      <td>-0.050132</td>\n",
       "      <td>1.544633</td>\n",
       "      <td>0.110051</td>\n",
       "    </tr>\n",
       "    <tr>\n",
       "      <th>3</th>\n",
       "      <td>x4</td>\n",
       "      <td>201</td>\n",
       "      <td>201</td>\n",
       "      <td>101.0</td>\n",
       "      <td>58.167861</td>\n",
       "      <td>4.102845</td>\n",
       "      <td>201</td>\n",
       "      <td>201</td>\n",
       "      <td>-10.187219</td>\n",
       "      <td>5.079706</td>\n",
       "      <td>0.358295</td>\n",
       "    </tr>\n",
       "    <tr>\n",
       "      <th>4</th>\n",
       "      <td>x5</td>\n",
       "      <td>201</td>\n",
       "      <td>201</td>\n",
       "      <td>101.0</td>\n",
       "      <td>58.167861</td>\n",
       "      <td>4.102845</td>\n",
       "      <td>201</td>\n",
       "      <td>201</td>\n",
       "      <td>1.061053</td>\n",
       "      <td>0.935690</td>\n",
       "      <td>0.065998</td>\n",
       "    </tr>\n",
       "    <tr>\n",
       "      <th>5</th>\n",
       "      <td>x6</td>\n",
       "      <td>201</td>\n",
       "      <td>201</td>\n",
       "      <td>101.0</td>\n",
       "      <td>58.167861</td>\n",
       "      <td>4.102845</td>\n",
       "      <td>201</td>\n",
       "      <td>197</td>\n",
       "      <td>-1.463831</td>\n",
       "      <td>0.591750</td>\n",
       "      <td>0.042160</td>\n",
       "    </tr>\n",
       "    <tr>\n",
       "      <th>6</th>\n",
       "      <td>x7</td>\n",
       "      <td>201</td>\n",
       "      <td>201</td>\n",
       "      <td>101.0</td>\n",
       "      <td>58.167861</td>\n",
       "      <td>4.102845</td>\n",
       "      <td>201</td>\n",
       "      <td>181</td>\n",
       "      <td>-5.085382</td>\n",
       "      <td>3.002404</td>\n",
       "      <td>0.223167</td>\n",
       "    </tr>\n",
       "  </tbody>\n",
       "</table>\n",
       "</div>"
      ],
      "text/plain": [
       "  key  obs_id_numrows  obs_id_nonmissing  obs_id_avg  obs_id_std  obs_id_sem  \\\n",
       "0  x1             201                201       101.0   58.167861    4.102845   \n",
       "1  x2             201                201       101.0   58.167861    4.102845   \n",
       "2  x3             201                201       101.0   58.167861    4.102845   \n",
       "3  x4             201                201       101.0   58.167861    4.102845   \n",
       "4  x5             201                201       101.0   58.167861    4.102845   \n",
       "5  x6             201                201       101.0   58.167861    4.102845   \n",
       "6  x7             201                201       101.0   58.167861    4.102845   \n",
       "\n",
       "   value_numrows  value_nonmissing  value_avg  value_std  value_sem  \n",
       "0            201               201  -0.160787   1.735903   0.122441  \n",
       "1            201               201   0.100830   0.095558   0.006740  \n",
       "2            201               197  -0.050132   1.544633   0.110051  \n",
       "3            201               201 -10.187219   5.079706   0.358295  \n",
       "4            201               201   1.061053   0.935690   0.065998  \n",
       "5            201               197  -1.463831   0.591750   0.042160  \n",
       "6            201               181  -5.085382   3.002404   0.223167  "
      ]
     },
     "execution_count": 114,
     "metadata": {},
     "output_type": "execute_result"
    }
   ],
   "source": [
    "df03.groupby('key', dropna=False).\\\n",
    "aggregate(obs_id_numrows = ('obs_id', 'size'),\n",
    "          obs_id_nonmissing = ('obs_id','count'),\n",
    "          obs_id_avg = ('obs_id','mean'),\n",
    "          obs_id_std = ('obs_id', 'std'),\n",
    "          obs_id_sem = ('obs_id', 'sem'),\n",
    "          value_numrows = ('value', 'size'),\n",
    "          value_nonmissing = ('value','count'),\n",
    "          value_avg = ('value','mean'),\n",
    "          value_std = ('value', 'std'),\n",
    "          value_sem = ('value', 'sem')).\\\n",
    "reset_index()"
   ]
  },
  {
   "cell_type": "code",
   "execution_count": 115,
   "id": "e2fc7933-9ee3-4649-862e-94bb10bfc9d9",
   "metadata": {},
   "outputs": [],
   "source": [
    "df03_key_summary_info = df03.groupby('key', dropna=False).\\\n",
    "aggregate(obs_id_numrows = ('obs_id', 'size'),\n",
    "          obs_id_nonmissing = ('obs_id','count'),\n",
    "          obs_id_avg = ('obs_id','mean'),\n",
    "          obs_id_std = ('obs_id', 'std'),\n",
    "          obs_id_sem = ('obs_id', 'sem'),\n",
    "          value_numrows = ('value', 'size'),\n",
    "          value_nonmissing = ('value','count'),\n",
    "          value_avg = ('value','mean'),\n",
    "          value_std = ('value', 'std'),\n",
    "          value_sem = ('value', 'sem')).\\\n",
    "reset_index()"
   ]
  },
  {
   "cell_type": "code",
   "execution_count": 116,
   "id": "5fdeba46-d297-4e82-b781-506861e6efeb",
   "metadata": {},
   "outputs": [
    {
     "data": {
      "text/html": [
       "<div>\n",
       "<style scoped>\n",
       "    .dataframe tbody tr th:only-of-type {\n",
       "        vertical-align: middle;\n",
       "    }\n",
       "\n",
       "    .dataframe tbody tr th {\n",
       "        vertical-align: top;\n",
       "    }\n",
       "\n",
       "    .dataframe thead th {\n",
       "        text-align: right;\n",
       "    }\n",
       "</style>\n",
       "<table border=\"1\" class=\"dataframe\">\n",
       "  <thead>\n",
       "    <tr style=\"text-align: right;\">\n",
       "      <th></th>\n",
       "      <th>key</th>\n",
       "      <th>obs_id_numrows</th>\n",
       "      <th>obs_id_nonmissing</th>\n",
       "      <th>obs_id_avg</th>\n",
       "      <th>obs_id_std</th>\n",
       "      <th>obs_id_sem</th>\n",
       "      <th>value_numrows</th>\n",
       "      <th>value_nonmissing</th>\n",
       "      <th>value_avg</th>\n",
       "      <th>value_std</th>\n",
       "      <th>value_sem</th>\n",
       "    </tr>\n",
       "  </thead>\n",
       "  <tbody>\n",
       "    <tr>\n",
       "      <th>0</th>\n",
       "      <td>x1</td>\n",
       "      <td>201</td>\n",
       "      <td>201</td>\n",
       "      <td>101.0</td>\n",
       "      <td>58.167861</td>\n",
       "      <td>4.102845</td>\n",
       "      <td>201</td>\n",
       "      <td>201</td>\n",
       "      <td>-0.160787</td>\n",
       "      <td>1.735903</td>\n",
       "      <td>0.122441</td>\n",
       "    </tr>\n",
       "    <tr>\n",
       "      <th>1</th>\n",
       "      <td>x2</td>\n",
       "      <td>201</td>\n",
       "      <td>201</td>\n",
       "      <td>101.0</td>\n",
       "      <td>58.167861</td>\n",
       "      <td>4.102845</td>\n",
       "      <td>201</td>\n",
       "      <td>201</td>\n",
       "      <td>0.100830</td>\n",
       "      <td>0.095558</td>\n",
       "      <td>0.006740</td>\n",
       "    </tr>\n",
       "    <tr>\n",
       "      <th>2</th>\n",
       "      <td>x3</td>\n",
       "      <td>201</td>\n",
       "      <td>201</td>\n",
       "      <td>101.0</td>\n",
       "      <td>58.167861</td>\n",
       "      <td>4.102845</td>\n",
       "      <td>201</td>\n",
       "      <td>197</td>\n",
       "      <td>-0.050132</td>\n",
       "      <td>1.544633</td>\n",
       "      <td>0.110051</td>\n",
       "    </tr>\n",
       "    <tr>\n",
       "      <th>3</th>\n",
       "      <td>x4</td>\n",
       "      <td>201</td>\n",
       "      <td>201</td>\n",
       "      <td>101.0</td>\n",
       "      <td>58.167861</td>\n",
       "      <td>4.102845</td>\n",
       "      <td>201</td>\n",
       "      <td>201</td>\n",
       "      <td>-10.187219</td>\n",
       "      <td>5.079706</td>\n",
       "      <td>0.358295</td>\n",
       "    </tr>\n",
       "    <tr>\n",
       "      <th>4</th>\n",
       "      <td>x5</td>\n",
       "      <td>201</td>\n",
       "      <td>201</td>\n",
       "      <td>101.0</td>\n",
       "      <td>58.167861</td>\n",
       "      <td>4.102845</td>\n",
       "      <td>201</td>\n",
       "      <td>201</td>\n",
       "      <td>1.061053</td>\n",
       "      <td>0.935690</td>\n",
       "      <td>0.065998</td>\n",
       "    </tr>\n",
       "    <tr>\n",
       "      <th>5</th>\n",
       "      <td>x6</td>\n",
       "      <td>201</td>\n",
       "      <td>201</td>\n",
       "      <td>101.0</td>\n",
       "      <td>58.167861</td>\n",
       "      <td>4.102845</td>\n",
       "      <td>201</td>\n",
       "      <td>197</td>\n",
       "      <td>-1.463831</td>\n",
       "      <td>0.591750</td>\n",
       "      <td>0.042160</td>\n",
       "    </tr>\n",
       "    <tr>\n",
       "      <th>6</th>\n",
       "      <td>x7</td>\n",
       "      <td>201</td>\n",
       "      <td>201</td>\n",
       "      <td>101.0</td>\n",
       "      <td>58.167861</td>\n",
       "      <td>4.102845</td>\n",
       "      <td>201</td>\n",
       "      <td>181</td>\n",
       "      <td>-5.085382</td>\n",
       "      <td>3.002404</td>\n",
       "      <td>0.223167</td>\n",
       "    </tr>\n",
       "  </tbody>\n",
       "</table>\n",
       "</div>"
      ],
      "text/plain": [
       "  key  obs_id_numrows  obs_id_nonmissing  obs_id_avg  obs_id_std  obs_id_sem  \\\n",
       "0  x1             201                201       101.0   58.167861    4.102845   \n",
       "1  x2             201                201       101.0   58.167861    4.102845   \n",
       "2  x3             201                201       101.0   58.167861    4.102845   \n",
       "3  x4             201                201       101.0   58.167861    4.102845   \n",
       "4  x5             201                201       101.0   58.167861    4.102845   \n",
       "5  x6             201                201       101.0   58.167861    4.102845   \n",
       "6  x7             201                201       101.0   58.167861    4.102845   \n",
       "\n",
       "   value_numrows  value_nonmissing  value_avg  value_std  value_sem  \n",
       "0            201               201  -0.160787   1.735903   0.122441  \n",
       "1            201               201   0.100830   0.095558   0.006740  \n",
       "2            201               197  -0.050132   1.544633   0.110051  \n",
       "3            201               201 -10.187219   5.079706   0.358295  \n",
       "4            201               201   1.061053   0.935690   0.065998  \n",
       "5            201               197  -1.463831   0.591750   0.042160  \n",
       "6            201               181  -5.085382   3.002404   0.223167  "
      ]
     },
     "execution_count": 116,
     "metadata": {},
     "output_type": "execute_result"
    }
   ],
   "source": [
    "df03_key_summary_info"
   ]
  },
  {
   "cell_type": "markdown",
   "id": "3644fd1d-e165-4863-813f-f935c822d897",
   "metadata": {},
   "source": [
    "The average for the column obs_id does not change, indicating that this number is a constant unique value. This is proven by looking at the unique value method. The average for the value column does change, and some numbers change dramatically. For key x4, there could be some data that could be considered an outlier. For x2 and x5, there is a positive average, which could indicate more positive values, whereas the other columns would have more negative values. "
   ]
  },
  {
   "cell_type": "markdown",
   "id": "c7d6aa02",
   "metadata": {},
   "source": [
    "## Problem 04\n",
    "\n",
    "You must download the data associated with one of the Final Projects from the Canvas site. Save the file(s) in the same directory as this Jupyter notebook.\n",
    "\n",
    "Read in the data associated with one of the Final Projects. You must perform the ESSENTIAL activities listed previously.\n",
    "\n",
    "You do **NOT** need to SPLIT-APPLY-COMBINE to explore across groups for this assignment.\n",
    "\n",
    "#### 04) - SOLUTION"
   ]
  },
  {
   "cell_type": "markdown",
   "id": "646a60e6-19a3-4402-8b04-12ef9c606ed4",
   "metadata": {},
   "source": [
    "## Read in the CSV data - Project Name: Pitt: Calibrating Additive Manufacturing (AM) Simulations"
   ]
  },
  {
   "cell_type": "code",
   "execution_count": 117,
   "id": "87ebbaf1-f71c-4fb0-b28e-e038541164c8",
   "metadata": {},
   "outputs": [
    {
     "data": {
      "text/html": [
       "<div>\n",
       "<style scoped>\n",
       "    .dataframe tbody tr th:only-of-type {\n",
       "        vertical-align: middle;\n",
       "    }\n",
       "\n",
       "    .dataframe tbody tr th {\n",
       "        vertical-align: top;\n",
       "    }\n",
       "\n",
       "    .dataframe thead th {\n",
       "        text-align: right;\n",
       "    }\n",
       "</style>\n",
       "<table border=\"1\" class=\"dataframe\">\n",
       "  <thead>\n",
       "    <tr style=\"text-align: right;\">\n",
       "      <th></th>\n",
       "      <th>sim_id</th>\n",
       "      <th>x1</th>\n",
       "      <th>x2</th>\n",
       "      <th>x3</th>\n",
       "      <th>x4</th>\n",
       "    </tr>\n",
       "  </thead>\n",
       "  <tbody>\n",
       "    <tr>\n",
       "      <th>0</th>\n",
       "      <td>1</td>\n",
       "      <td>1428.262963</td>\n",
       "      <td>0.010276</td>\n",
       "      <td>76.449325</td>\n",
       "      <td>22.963241</td>\n",
       "    </tr>\n",
       "    <tr>\n",
       "      <th>1</th>\n",
       "      <td>2</td>\n",
       "      <td>1119.096654</td>\n",
       "      <td>0.001542</td>\n",
       "      <td>49.076221</td>\n",
       "      <td>6.858423</td>\n",
       "    </tr>\n",
       "    <tr>\n",
       "      <th>2</th>\n",
       "      <td>3</td>\n",
       "      <td>910.521261</td>\n",
       "      <td>0.005973</td>\n",
       "      <td>57.298239</td>\n",
       "      <td>25.742151</td>\n",
       "    </tr>\n",
       "    <tr>\n",
       "      <th>3</th>\n",
       "      <td>4</td>\n",
       "      <td>1258.042700</td>\n",
       "      <td>0.008673</td>\n",
       "      <td>79.834414</td>\n",
       "      <td>14.377447</td>\n",
       "    </tr>\n",
       "    <tr>\n",
       "      <th>4</th>\n",
       "      <td>5</td>\n",
       "      <td>1068.591510</td>\n",
       "      <td>0.015057</td>\n",
       "      <td>33.380801</td>\n",
       "      <td>21.477560</td>\n",
       "    </tr>\n",
       "    <tr>\n",
       "      <th>5</th>\n",
       "      <td>6</td>\n",
       "      <td>1321.991511</td>\n",
       "      <td>0.001337</td>\n",
       "      <td>65.498750</td>\n",
       "      <td>18.325935</td>\n",
       "    </tr>\n",
       "    <tr>\n",
       "      <th>6</th>\n",
       "      <td>7</td>\n",
       "      <td>1226.342504</td>\n",
       "      <td>0.019976</td>\n",
       "      <td>56.402869</td>\n",
       "      <td>7.789828</td>\n",
       "    </tr>\n",
       "    <tr>\n",
       "      <th>7</th>\n",
       "      <td>8</td>\n",
       "      <td>983.086199</td>\n",
       "      <td>0.016044</td>\n",
       "      <td>53.258946</td>\n",
       "      <td>2.530931</td>\n",
       "    </tr>\n",
       "    <tr>\n",
       "      <th>8</th>\n",
       "      <td>9</td>\n",
       "      <td>1387.548586</td>\n",
       "      <td>0.005605</td>\n",
       "      <td>63.950159</td>\n",
       "      <td>28.052451</td>\n",
       "    </tr>\n",
       "    <tr>\n",
       "      <th>9</th>\n",
       "      <td>10</td>\n",
       "      <td>1294.835000</td>\n",
       "      <td>0.007688</td>\n",
       "      <td>30.451657</td>\n",
       "      <td>19.912775</td>\n",
       "    </tr>\n",
       "    <tr>\n",
       "      <th>10</th>\n",
       "      <td>11</td>\n",
       "      <td>848.652481</td>\n",
       "      <td>0.009394</td>\n",
       "      <td>38.233815</td>\n",
       "      <td>21.142945</td>\n",
       "    </tr>\n",
       "    <tr>\n",
       "      <th>11</th>\n",
       "      <td>12</td>\n",
       "      <td>1491.847697</td>\n",
       "      <td>0.004059</td>\n",
       "      <td>44.484207</td>\n",
       "      <td>24.221998</td>\n",
       "    </tr>\n",
       "    <tr>\n",
       "      <th>12</th>\n",
       "      <td>13</td>\n",
       "      <td>1093.418310</td>\n",
       "      <td>0.004134</td>\n",
       "      <td>75.424970</td>\n",
       "      <td>23.546394</td>\n",
       "    </tr>\n",
       "    <tr>\n",
       "      <th>13</th>\n",
       "      <td>14</td>\n",
       "      <td>1421.824769</td>\n",
       "      <td>0.013740</td>\n",
       "      <td>40.535213</td>\n",
       "      <td>27.462553</td>\n",
       "    </tr>\n",
       "    <tr>\n",
       "      <th>14</th>\n",
       "      <td>15</td>\n",
       "      <td>1525.011126</td>\n",
       "      <td>0.012388</td>\n",
       "      <td>56.214007</td>\n",
       "      <td>26.182474</td>\n",
       "    </tr>\n",
       "    <tr>\n",
       "      <th>15</th>\n",
       "      <td>16</td>\n",
       "      <td>1124.177780</td>\n",
       "      <td>0.002455</td>\n",
       "      <td>71.293726</td>\n",
       "      <td>8.253403</td>\n",
       "    </tr>\n",
       "    <tr>\n",
       "      <th>16</th>\n",
       "      <td>17</td>\n",
       "      <td>892.238232</td>\n",
       "      <td>0.003249</td>\n",
       "      <td>66.700567</td>\n",
       "      <td>15.814664</td>\n",
       "    </tr>\n",
       "    <tr>\n",
       "      <th>17</th>\n",
       "      <td>18</td>\n",
       "      <td>864.569145</td>\n",
       "      <td>0.010943</td>\n",
       "      <td>71.968422</td>\n",
       "      <td>20.440992</td>\n",
       "    </tr>\n",
       "    <tr>\n",
       "      <th>18</th>\n",
       "      <td>19</td>\n",
       "      <td>878.954905</td>\n",
       "      <td>0.017174</td>\n",
       "      <td>42.621494</td>\n",
       "      <td>13.366830</td>\n",
       "    </tr>\n",
       "    <tr>\n",
       "      <th>19</th>\n",
       "      <td>20</td>\n",
       "      <td>807.788620</td>\n",
       "      <td>0.012753</td>\n",
       "      <td>58.572954</td>\n",
       "      <td>10.234053</td>\n",
       "    </tr>\n",
       "    <tr>\n",
       "      <th>20</th>\n",
       "      <td>21</td>\n",
       "      <td>1481.916293</td>\n",
       "      <td>0.004990</td>\n",
       "      <td>47.608519</td>\n",
       "      <td>3.446863</td>\n",
       "    </tr>\n",
       "    <tr>\n",
       "      <th>21</th>\n",
       "      <td>22</td>\n",
       "      <td>1182.003808</td>\n",
       "      <td>0.002853</td>\n",
       "      <td>50.922495</td>\n",
       "      <td>27.152865</td>\n",
       "    </tr>\n",
       "    <tr>\n",
       "      <th>22</th>\n",
       "      <td>23</td>\n",
       "      <td>1557.147105</td>\n",
       "      <td>0.009790</td>\n",
       "      <td>37.787333</td>\n",
       "      <td>14.861847</td>\n",
       "    </tr>\n",
       "    <tr>\n",
       "      <th>23</th>\n",
       "      <td>24</td>\n",
       "      <td>1343.090092</td>\n",
       "      <td>0.006406</td>\n",
       "      <td>32.176282</td>\n",
       "      <td>7.623467</td>\n",
       "    </tr>\n",
       "    <tr>\n",
       "      <th>24</th>\n",
       "      <td>25</td>\n",
       "      <td>1236.531345</td>\n",
       "      <td>0.012506</td>\n",
       "      <td>34.848645</td>\n",
       "      <td>2.761267</td>\n",
       "    </tr>\n",
       "    <tr>\n",
       "      <th>25</th>\n",
       "      <td>26</td>\n",
       "      <td>1403.288931</td>\n",
       "      <td>0.016408</td>\n",
       "      <td>33.909144</td>\n",
       "      <td>17.351408</td>\n",
       "    </tr>\n",
       "    <tr>\n",
       "      <th>26</th>\n",
       "      <td>27</td>\n",
       "      <td>1585.754835</td>\n",
       "      <td>0.006895</td>\n",
       "      <td>59.977589</td>\n",
       "      <td>17.525933</td>\n",
       "    </tr>\n",
       "    <tr>\n",
       "      <th>27</th>\n",
       "      <td>28</td>\n",
       "      <td>1011.777710</td>\n",
       "      <td>0.013379</td>\n",
       "      <td>50.235776</td>\n",
       "      <td>29.522479</td>\n",
       "    </tr>\n",
       "    <tr>\n",
       "      <th>28</th>\n",
       "      <td>29</td>\n",
       "      <td>1371.032588</td>\n",
       "      <td>0.001797</td>\n",
       "      <td>46.101859</td>\n",
       "      <td>14.045899</td>\n",
       "    </tr>\n",
       "    <tr>\n",
       "      <th>29</th>\n",
       "      <td>30</td>\n",
       "      <td>1162.660181</td>\n",
       "      <td>0.018380</td>\n",
       "      <td>36.992893</td>\n",
       "      <td>10.751260</td>\n",
       "    </tr>\n",
       "    <tr>\n",
       "      <th>30</th>\n",
       "      <td>31</td>\n",
       "      <td>1145.651429</td>\n",
       "      <td>0.011768</td>\n",
       "      <td>69.327816</td>\n",
       "      <td>29.166249</td>\n",
       "    </tr>\n",
       "    <tr>\n",
       "      <th>31</th>\n",
       "      <td>32</td>\n",
       "      <td>1337.828389</td>\n",
       "      <td>0.014311</td>\n",
       "      <td>60.326921</td>\n",
       "      <td>0.330430</td>\n",
       "    </tr>\n",
       "    <tr>\n",
       "      <th>32</th>\n",
       "      <td>33</td>\n",
       "      <td>1533.946513</td>\n",
       "      <td>0.017786</td>\n",
       "      <td>52.255697</td>\n",
       "      <td>16.109363</td>\n",
       "    </tr>\n",
       "    <tr>\n",
       "      <th>33</th>\n",
       "      <td>34</td>\n",
       "      <td>1501.715605</td>\n",
       "      <td>0.003569</td>\n",
       "      <td>68.232295</td>\n",
       "      <td>9.762321</td>\n",
       "    </tr>\n",
       "    <tr>\n",
       "      <th>34</th>\n",
       "      <td>35</td>\n",
       "      <td>1550.955238</td>\n",
       "      <td>0.014097</td>\n",
       "      <td>70.792394</td>\n",
       "      <td>11.607739</td>\n",
       "    </tr>\n",
       "    <tr>\n",
       "      <th>35</th>\n",
       "      <td>36</td>\n",
       "      <td>818.574666</td>\n",
       "      <td>0.014783</td>\n",
       "      <td>54.749260</td>\n",
       "      <td>22.379004</td>\n",
       "    </tr>\n",
       "    <tr>\n",
       "      <th>36</th>\n",
       "      <td>37</td>\n",
       "      <td>1573.296535</td>\n",
       "      <td>0.011046</td>\n",
       "      <td>54.194362</td>\n",
       "      <td>6.063359</td>\n",
       "    </tr>\n",
       "    <tr>\n",
       "      <th>37</th>\n",
       "      <td>38</td>\n",
       "      <td>841.630716</td>\n",
       "      <td>0.004536</td>\n",
       "      <td>49.804795</td>\n",
       "      <td>11.282154</td>\n",
       "    </tr>\n",
       "    <tr>\n",
       "      <th>38</th>\n",
       "      <td>39</td>\n",
       "      <td>1085.579854</td>\n",
       "      <td>0.007505</td>\n",
       "      <td>45.161910</td>\n",
       "      <td>1.034904</td>\n",
       "    </tr>\n",
       "    <tr>\n",
       "      <th>39</th>\n",
       "      <td>40</td>\n",
       "      <td>953.696301</td>\n",
       "      <td>0.009270</td>\n",
       "      <td>77.689741</td>\n",
       "      <td>8.993805</td>\n",
       "    </tr>\n",
       "    <tr>\n",
       "      <th>40</th>\n",
       "      <td>41</td>\n",
       "      <td>1287.526938</td>\n",
       "      <td>0.018156</td>\n",
       "      <td>74.437610</td>\n",
       "      <td>12.470051</td>\n",
       "    </tr>\n",
       "    <tr>\n",
       "      <th>41</th>\n",
       "      <td>42</td>\n",
       "      <td>1275.806517</td>\n",
       "      <td>0.005423</td>\n",
       "      <td>63.448286</td>\n",
       "      <td>1.385522</td>\n",
       "    </tr>\n",
       "    <tr>\n",
       "      <th>42</th>\n",
       "      <td>43</td>\n",
       "      <td>1442.232585</td>\n",
       "      <td>0.016597</td>\n",
       "      <td>42.799373</td>\n",
       "      <td>5.159088</td>\n",
       "    </tr>\n",
       "    <tr>\n",
       "      <th>43</th>\n",
       "      <td>44</td>\n",
       "      <td>1218.899297</td>\n",
       "      <td>0.019236</td>\n",
       "      <td>46.601845</td>\n",
       "      <td>24.984234</td>\n",
       "    </tr>\n",
       "    <tr>\n",
       "      <th>44</th>\n",
       "      <td>45</td>\n",
       "      <td>1364.163428</td>\n",
       "      <td>0.010519</td>\n",
       "      <td>75.696766</td>\n",
       "      <td>4.084601</td>\n",
       "    </tr>\n",
       "    <tr>\n",
       "      <th>45</th>\n",
       "      <td>46</td>\n",
       "      <td>1205.539408</td>\n",
       "      <td>0.018745</td>\n",
       "      <td>64.977447</td>\n",
       "      <td>25.317988</td>\n",
       "    </tr>\n",
       "    <tr>\n",
       "      <th>46</th>\n",
       "      <td>47</td>\n",
       "      <td>1057.338678</td>\n",
       "      <td>0.015431</td>\n",
       "      <td>78.414147</td>\n",
       "      <td>18.805273</td>\n",
       "    </tr>\n",
       "    <tr>\n",
       "      <th>47</th>\n",
       "      <td>48</td>\n",
       "      <td>1171.201196</td>\n",
       "      <td>0.008441</td>\n",
       "      <td>39.347081</td>\n",
       "      <td>28.735387</td>\n",
       "    </tr>\n",
       "    <tr>\n",
       "      <th>48</th>\n",
       "      <td>49</td>\n",
       "      <td>931.782344</td>\n",
       "      <td>0.008218</td>\n",
       "      <td>62.509521</td>\n",
       "      <td>2.181161</td>\n",
       "    </tr>\n",
       "    <tr>\n",
       "      <th>49</th>\n",
       "      <td>50</td>\n",
       "      <td>1456.945272</td>\n",
       "      <td>0.017430</td>\n",
       "      <td>67.331467</td>\n",
       "      <td>21.996942</td>\n",
       "    </tr>\n",
       "    <tr>\n",
       "      <th>50</th>\n",
       "      <td>51</td>\n",
       "      <td>1044.531147</td>\n",
       "      <td>0.015836</td>\n",
       "      <td>72.774337</td>\n",
       "      <td>4.715959</td>\n",
       "    </tr>\n",
       "    <tr>\n",
       "      <th>51</th>\n",
       "      <td>52</td>\n",
       "      <td>964.972365</td>\n",
       "      <td>0.019312</td>\n",
       "      <td>61.264318</td>\n",
       "      <td>16.758174</td>\n",
       "    </tr>\n",
       "    <tr>\n",
       "      <th>52</th>\n",
       "      <td>53</td>\n",
       "      <td>1024.257529</td>\n",
       "      <td>0.006707</td>\n",
       "      <td>31.206395</td>\n",
       "      <td>12.791722</td>\n",
       "    </tr>\n",
       "    <tr>\n",
       "      <th>53</th>\n",
       "      <td>54</td>\n",
       "      <td>924.147836</td>\n",
       "      <td>0.011490</td>\n",
       "      <td>35.952168</td>\n",
       "      <td>5.957354</td>\n",
       "    </tr>\n",
       "    <tr>\n",
       "      <th>54</th>\n",
       "      <td>55</td>\n",
       "      <td>1003.148766</td>\n",
       "      <td>0.002233</td>\n",
       "      <td>41.698575</td>\n",
       "      <td>19.541825</td>\n",
       "    </tr>\n",
       "  </tbody>\n",
       "</table>\n",
       "</div>"
      ],
      "text/plain": [
       "    sim_id           x1        x2         x3         x4\n",
       "0        1  1428.262963  0.010276  76.449325  22.963241\n",
       "1        2  1119.096654  0.001542  49.076221   6.858423\n",
       "2        3   910.521261  0.005973  57.298239  25.742151\n",
       "3        4  1258.042700  0.008673  79.834414  14.377447\n",
       "4        5  1068.591510  0.015057  33.380801  21.477560\n",
       "5        6  1321.991511  0.001337  65.498750  18.325935\n",
       "6        7  1226.342504  0.019976  56.402869   7.789828\n",
       "7        8   983.086199  0.016044  53.258946   2.530931\n",
       "8        9  1387.548586  0.005605  63.950159  28.052451\n",
       "9       10  1294.835000  0.007688  30.451657  19.912775\n",
       "10      11   848.652481  0.009394  38.233815  21.142945\n",
       "11      12  1491.847697  0.004059  44.484207  24.221998\n",
       "12      13  1093.418310  0.004134  75.424970  23.546394\n",
       "13      14  1421.824769  0.013740  40.535213  27.462553\n",
       "14      15  1525.011126  0.012388  56.214007  26.182474\n",
       "15      16  1124.177780  0.002455  71.293726   8.253403\n",
       "16      17   892.238232  0.003249  66.700567  15.814664\n",
       "17      18   864.569145  0.010943  71.968422  20.440992\n",
       "18      19   878.954905  0.017174  42.621494  13.366830\n",
       "19      20   807.788620  0.012753  58.572954  10.234053\n",
       "20      21  1481.916293  0.004990  47.608519   3.446863\n",
       "21      22  1182.003808  0.002853  50.922495  27.152865\n",
       "22      23  1557.147105  0.009790  37.787333  14.861847\n",
       "23      24  1343.090092  0.006406  32.176282   7.623467\n",
       "24      25  1236.531345  0.012506  34.848645   2.761267\n",
       "25      26  1403.288931  0.016408  33.909144  17.351408\n",
       "26      27  1585.754835  0.006895  59.977589  17.525933\n",
       "27      28  1011.777710  0.013379  50.235776  29.522479\n",
       "28      29  1371.032588  0.001797  46.101859  14.045899\n",
       "29      30  1162.660181  0.018380  36.992893  10.751260\n",
       "30      31  1145.651429  0.011768  69.327816  29.166249\n",
       "31      32  1337.828389  0.014311  60.326921   0.330430\n",
       "32      33  1533.946513  0.017786  52.255697  16.109363\n",
       "33      34  1501.715605  0.003569  68.232295   9.762321\n",
       "34      35  1550.955238  0.014097  70.792394  11.607739\n",
       "35      36   818.574666  0.014783  54.749260  22.379004\n",
       "36      37  1573.296535  0.011046  54.194362   6.063359\n",
       "37      38   841.630716  0.004536  49.804795  11.282154\n",
       "38      39  1085.579854  0.007505  45.161910   1.034904\n",
       "39      40   953.696301  0.009270  77.689741   8.993805\n",
       "40      41  1287.526938  0.018156  74.437610  12.470051\n",
       "41      42  1275.806517  0.005423  63.448286   1.385522\n",
       "42      43  1442.232585  0.016597  42.799373   5.159088\n",
       "43      44  1218.899297  0.019236  46.601845  24.984234\n",
       "44      45  1364.163428  0.010519  75.696766   4.084601\n",
       "45      46  1205.539408  0.018745  64.977447  25.317988\n",
       "46      47  1057.338678  0.015431  78.414147  18.805273\n",
       "47      48  1171.201196  0.008441  39.347081  28.735387\n",
       "48      49   931.782344  0.008218  62.509521   2.181161\n",
       "49      50  1456.945272  0.017430  67.331467  21.996942\n",
       "50      51  1044.531147  0.015836  72.774337   4.715959\n",
       "51      52   964.972365  0.019312  61.264318  16.758174\n",
       "52      53  1024.257529  0.006707  31.206395  12.791722\n",
       "53      54   924.147836  0.011490  35.952168   5.957354\n",
       "54      55  1003.148766  0.002233  41.698575  19.541825"
      ]
     },
     "execution_count": 117,
     "metadata": {},
     "output_type": "execute_result"
    }
   ],
   "source": [
    "pd.read_csv('training_inputs.csv')"
   ]
  },
  {
   "cell_type": "code",
   "execution_count": 118,
   "id": "aa698fe7-2a9c-4d57-ba96-2c3bbb50313f",
   "metadata": {},
   "outputs": [],
   "source": [
    "df_training_inputs = pd.read_csv('training_inputs.csv')"
   ]
  },
  {
   "cell_type": "code",
   "execution_count": 119,
   "id": "690eb8d2-114c-4e19-90c2-cf3ea7caf00e",
   "metadata": {},
   "outputs": [
    {
     "data": {
      "text/html": [
       "<div>\n",
       "<style scoped>\n",
       "    .dataframe tbody tr th:only-of-type {\n",
       "        vertical-align: middle;\n",
       "    }\n",
       "\n",
       "    .dataframe tbody tr th {\n",
       "        vertical-align: top;\n",
       "    }\n",
       "\n",
       "    .dataframe thead th {\n",
       "        text-align: right;\n",
       "    }\n",
       "</style>\n",
       "<table border=\"1\" class=\"dataframe\">\n",
       "  <thead>\n",
       "    <tr style=\"text-align: right;\">\n",
       "      <th></th>\n",
       "      <th>sim_id</th>\n",
       "      <th>layer_id</th>\n",
       "      <th>action_id</th>\n",
       "      <th>time</th>\n",
       "      <th>y</th>\n",
       "    </tr>\n",
       "  </thead>\n",
       "  <tbody>\n",
       "    <tr>\n",
       "      <th>0</th>\n",
       "      <td>1</td>\n",
       "      <td>1</td>\n",
       "      <td>1</td>\n",
       "      <td>0.010276</td>\n",
       "      <td>1428.2600</td>\n",
       "    </tr>\n",
       "    <tr>\n",
       "      <th>1</th>\n",
       "      <td>1</td>\n",
       "      <td>1</td>\n",
       "      <td>2</td>\n",
       "      <td>9.310280</td>\n",
       "      <td>86.1325</td>\n",
       "    </tr>\n",
       "    <tr>\n",
       "      <th>2</th>\n",
       "      <td>1</td>\n",
       "      <td>1</td>\n",
       "      <td>3</td>\n",
       "      <td>12.946600</td>\n",
       "      <td>76.1949</td>\n",
       "    </tr>\n",
       "    <tr>\n",
       "      <th>3</th>\n",
       "      <td>1</td>\n",
       "      <td>2</td>\n",
       "      <td>1</td>\n",
       "      <td>12.956900</td>\n",
       "      <td>1428.2600</td>\n",
       "    </tr>\n",
       "    <tr>\n",
       "      <th>4</th>\n",
       "      <td>1</td>\n",
       "      <td>2</td>\n",
       "      <td>2</td>\n",
       "      <td>22.256900</td>\n",
       "      <td>116.2790</td>\n",
       "    </tr>\n",
       "    <tr>\n",
       "      <th>...</th>\n",
       "      <td>...</td>\n",
       "      <td>...</td>\n",
       "      <td>...</td>\n",
       "      <td>...</td>\n",
       "      <td>...</td>\n",
       "    </tr>\n",
       "    <tr>\n",
       "      <th>3295</th>\n",
       "      <td>9</td>\n",
       "      <td>19</td>\n",
       "      <td>2</td>\n",
       "      <td>242.261000</td>\n",
       "      <td>157.5390</td>\n",
       "    </tr>\n",
       "    <tr>\n",
       "      <th>3296</th>\n",
       "      <td>9</td>\n",
       "      <td>19</td>\n",
       "      <td>3</td>\n",
       "      <td>245.897000</td>\n",
       "      <td>146.9260</td>\n",
       "    </tr>\n",
       "    <tr>\n",
       "      <th>3297</th>\n",
       "      <td>9</td>\n",
       "      <td>20</td>\n",
       "      <td>1</td>\n",
       "      <td>245.903000</td>\n",
       "      <td>1387.5500</td>\n",
       "    </tr>\n",
       "    <tr>\n",
       "      <th>3298</th>\n",
       "      <td>9</td>\n",
       "      <td>20</td>\n",
       "      <td>2</td>\n",
       "      <td>255.203000</td>\n",
       "      <td>158.9100</td>\n",
       "    </tr>\n",
       "    <tr>\n",
       "      <th>3299</th>\n",
       "      <td>9</td>\n",
       "      <td>20</td>\n",
       "      <td>3</td>\n",
       "      <td>258.839000</td>\n",
       "      <td>148.3480</td>\n",
       "    </tr>\n",
       "  </tbody>\n",
       "</table>\n",
       "<p>3300 rows × 5 columns</p>\n",
       "</div>"
      ],
      "text/plain": [
       "      sim_id  layer_id  action_id        time          y\n",
       "0          1         1          1    0.010276  1428.2600\n",
       "1          1         1          2    9.310280    86.1325\n",
       "2          1         1          3   12.946600    76.1949\n",
       "3          1         2          1   12.956900  1428.2600\n",
       "4          1         2          2   22.256900   116.2790\n",
       "...      ...       ...        ...         ...        ...\n",
       "3295       9        19          2  242.261000   157.5390\n",
       "3296       9        19          3  245.897000   146.9260\n",
       "3297       9        20          1  245.903000  1387.5500\n",
       "3298       9        20          2  255.203000   158.9100\n",
       "3299       9        20          3  258.839000   148.3480\n",
       "\n",
       "[3300 rows x 5 columns]"
      ]
     },
     "execution_count": 119,
     "metadata": {},
     "output_type": "execute_result"
    }
   ],
   "source": [
    "pd.read_csv('training_outputs.csv')"
   ]
  },
  {
   "cell_type": "code",
   "execution_count": 120,
   "id": "39d93c14-f392-4d8e-a7dd-cb2a4259766b",
   "metadata": {},
   "outputs": [],
   "source": [
    "df_training_outputs = pd.read_csv('training_outputs.csv')"
   ]
  },
  {
   "cell_type": "markdown",
   "id": "19fec0a5-4604-45fb-8d0d-8f953b12fa8f",
   "metadata": {},
   "source": [
    "## Display number of rows and columns - Training Input Data"
   ]
  },
  {
   "cell_type": "code",
   "execution_count": 121,
   "id": "766b1346-6075-4424-897f-9fcfd6ab4a1a",
   "metadata": {},
   "outputs": [
    {
     "data": {
      "text/plain": [
       "(55, 5)"
      ]
     },
     "execution_count": 121,
     "metadata": {},
     "output_type": "execute_result"
    }
   ],
   "source": [
    "df_training_inputs.shape"
   ]
  },
  {
   "cell_type": "code",
   "execution_count": 122,
   "id": "b2eb4e15-fe59-4350-a528-98a06ceaa216",
   "metadata": {},
   "outputs": [
    {
     "name": "stdout",
     "output_type": "stream",
     "text": [
      "<class 'pandas.core.frame.DataFrame'>\n",
      "RangeIndex: 55 entries, 0 to 54\n",
      "Data columns (total 5 columns):\n",
      " #   Column  Non-Null Count  Dtype  \n",
      "---  ------  --------------  -----  \n",
      " 0   sim_id  55 non-null     int64  \n",
      " 1   x1      55 non-null     float64\n",
      " 2   x2      55 non-null     float64\n",
      " 3   x3      55 non-null     float64\n",
      " 4   x4      55 non-null     float64\n",
      "dtypes: float64(4), int64(1)\n",
      "memory usage: 2.3 KB\n"
     ]
    }
   ],
   "source": [
    "df_training_inputs.info()"
   ]
  },
  {
   "cell_type": "markdown",
   "id": "f912dc7a-8584-477d-8d23-95768a6e6cf1",
   "metadata": {},
   "source": [
    "There are 55 rows and 5 columns in Training Input Data."
   ]
  },
  {
   "cell_type": "markdown",
   "id": "896e003b-1d84-40ea-bef5-c3d0536c4ffc",
   "metadata": {},
   "source": [
    "## Display number of rows and columns - Training Output Data"
   ]
  },
  {
   "cell_type": "code",
   "execution_count": 123,
   "id": "d5001074-552b-466d-beb9-311eadb5b0d0",
   "metadata": {},
   "outputs": [
    {
     "data": {
      "text/plain": [
       "(3300, 5)"
      ]
     },
     "execution_count": 123,
     "metadata": {},
     "output_type": "execute_result"
    }
   ],
   "source": [
    "df_training_outputs.shape"
   ]
  },
  {
   "cell_type": "code",
   "execution_count": 124,
   "id": "832451a6-6471-4c8f-a53c-b35dabfca03b",
   "metadata": {},
   "outputs": [
    {
     "name": "stdout",
     "output_type": "stream",
     "text": [
      "<class 'pandas.core.frame.DataFrame'>\n",
      "RangeIndex: 3300 entries, 0 to 3299\n",
      "Data columns (total 5 columns):\n",
      " #   Column     Non-Null Count  Dtype  \n",
      "---  ------     --------------  -----  \n",
      " 0   sim_id     3300 non-null   int64  \n",
      " 1   layer_id   3300 non-null   int64  \n",
      " 2   action_id  3300 non-null   int64  \n",
      " 3   time       3300 non-null   float64\n",
      " 4   y          3300 non-null   float64\n",
      "dtypes: float64(2), int64(3)\n",
      "memory usage: 129.0 KB\n"
     ]
    }
   ],
   "source": [
    "df_training_outputs.info()"
   ]
  },
  {
   "cell_type": "markdown",
   "id": "224388ac-457b-4af5-be08-84edec83f6a6",
   "metadata": {},
   "source": [
    "There are 3300 rows and 5 columns in Training Output Data."
   ]
  },
  {
   "cell_type": "markdown",
   "id": "e74dca86-4eda-4b14-a8ac-e00a96e05ab8",
   "metadata": {},
   "source": [
    "## Display Names of Columns and Data Types - Training Input Data"
   ]
  },
  {
   "cell_type": "code",
   "execution_count": 125,
   "id": "cbab3e60-e8f4-474c-9edb-0f45097b614e",
   "metadata": {},
   "outputs": [
    {
     "data": {
      "text/plain": [
       "Index(['sim_id', 'x1', 'x2', 'x3', 'x4'], dtype='object')"
      ]
     },
     "execution_count": 125,
     "metadata": {},
     "output_type": "execute_result"
    }
   ],
   "source": [
    "df_training_inputs.columns"
   ]
  },
  {
   "cell_type": "code",
   "execution_count": 130,
   "id": "e1591e93-d4e0-446a-bfdf-6e4e926949d3",
   "metadata": {},
   "outputs": [
    {
     "data": {
      "text/plain": [
       "sim_id      int64\n",
       "x1        float64\n",
       "x2        float64\n",
       "x3        float64\n",
       "x4        float64\n",
       "dtype: object"
      ]
     },
     "execution_count": 130,
     "metadata": {},
     "output_type": "execute_result"
    }
   ],
   "source": [
    "df_training_inputs.dtypes"
   ]
  },
  {
   "cell_type": "markdown",
   "id": "bdb00845-0ef1-4528-a5c3-2eded1938144",
   "metadata": {},
   "source": [
    "Column sim_id is an integer. The other columns (x1, x2, x3, x4) are all floats."
   ]
  },
  {
   "cell_type": "markdown",
   "id": "c66c19d8-ee91-471b-af51-3e11991af65b",
   "metadata": {},
   "source": [
    "## Display Names of Columns and Data Types - Training Output Data"
   ]
  },
  {
   "cell_type": "code",
   "execution_count": 131,
   "id": "9eb80d62-011d-4656-9372-09b5c81f7583",
   "metadata": {},
   "outputs": [
    {
     "data": {
      "text/plain": [
       "Index(['sim_id', 'layer_id', 'action_id', 'time', 'y'], dtype='object')"
      ]
     },
     "execution_count": 131,
     "metadata": {},
     "output_type": "execute_result"
    }
   ],
   "source": [
    "df_training_outputs.columns"
   ]
  },
  {
   "cell_type": "code",
   "execution_count": 132,
   "id": "a0bef562-6f88-42ca-b917-fa546ff49f0e",
   "metadata": {},
   "outputs": [
    {
     "data": {
      "text/plain": [
       "sim_id         int64\n",
       "layer_id       int64\n",
       "action_id      int64\n",
       "time         float64\n",
       "y            float64\n",
       "dtype: object"
      ]
     },
     "execution_count": 132,
     "metadata": {},
     "output_type": "execute_result"
    }
   ],
   "source": [
    "df_training_outputs.dtypes"
   ]
  },
  {
   "cell_type": "markdown",
   "id": "7d7d75ef-d88b-48ac-ab5c-c580ef49b48d",
   "metadata": {},
   "source": [
    "Columns sim_id, layer_id, and action_id are all integers. Columns time and y are floats. "
   ]
  },
  {
   "cell_type": "markdown",
   "id": "867ace73-b065-469b-b29a-942712d68c58",
   "metadata": {},
   "source": [
    "## Display the unique values for each column - Training Input Data"
   ]
  },
  {
   "cell_type": "code",
   "execution_count": 133,
   "id": "bda3ebec-f744-49c3-bf3d-c665b12bbc3f",
   "metadata": {},
   "outputs": [
    {
     "data": {
      "text/plain": [
       "sim_id    55\n",
       "x1        55\n",
       "x2        55\n",
       "x3        55\n",
       "x4        55\n",
       "dtype: int64"
      ]
     },
     "execution_count": 133,
     "metadata": {},
     "output_type": "execute_result"
    }
   ],
   "source": [
    "df_training_inputs.nunique()"
   ]
  },
  {
   "cell_type": "markdown",
   "id": "171ecfae-0608-42c3-aaa0-a420138ae8c6",
   "metadata": {},
   "source": [
    "All of the inputs have 55 unique values."
   ]
  },
  {
   "cell_type": "markdown",
   "id": "dc40c81c-b6ff-4477-9afb-9f71b0f9e437",
   "metadata": {},
   "source": [
    "## Display the unique values for each column - Training Output Data"
   ]
  },
  {
   "cell_type": "code",
   "execution_count": 134,
   "id": "557405ff-f1a0-439f-8171-0217470a9c6d",
   "metadata": {},
   "outputs": [
    {
     "data": {
      "text/plain": [
       "sim_id         55\n",
       "layer_id       20\n",
       "action_id       3\n",
       "time         3143\n",
       "y            2243\n",
       "dtype: int64"
      ]
     },
     "execution_count": 134,
     "metadata": {},
     "output_type": "execute_result"
    }
   ],
   "source": [
    "df_training_outputs.nunique()"
   ]
  },
  {
   "cell_type": "markdown",
   "id": "5698465f-cd33-477e-9ce3-61b4c3817d37",
   "metadata": {},
   "source": [
    "Sim_id has 55 unique values, layer_id has 20, and action_id has 3. The time and y columns have more, with 3143 and 2243, respectively. "
   ]
  },
  {
   "cell_type": "markdown",
   "id": "6fa73106-b5e4-4470-829f-e6db35342639",
   "metadata": {},
   "source": [
    "## Display the number of Missing Vales for each Column - Training Input Data"
   ]
  },
  {
   "cell_type": "code",
   "execution_count": 135,
   "id": "067d33fd-72be-4f7d-935d-84a4a64f093f",
   "metadata": {},
   "outputs": [
    {
     "data": {
      "text/html": [
       "<div>\n",
       "<style scoped>\n",
       "    .dataframe tbody tr th:only-of-type {\n",
       "        vertical-align: middle;\n",
       "    }\n",
       "\n",
       "    .dataframe tbody tr th {\n",
       "        vertical-align: top;\n",
       "    }\n",
       "\n",
       "    .dataframe thead th {\n",
       "        text-align: right;\n",
       "    }\n",
       "</style>\n",
       "<table border=\"1\" class=\"dataframe\">\n",
       "  <thead>\n",
       "    <tr style=\"text-align: right;\">\n",
       "      <th></th>\n",
       "      <th>sim_id</th>\n",
       "      <th>x1</th>\n",
       "      <th>x2</th>\n",
       "      <th>x3</th>\n",
       "      <th>x4</th>\n",
       "    </tr>\n",
       "  </thead>\n",
       "  <tbody>\n",
       "    <tr>\n",
       "      <th>0</th>\n",
       "      <td>False</td>\n",
       "      <td>False</td>\n",
       "      <td>False</td>\n",
       "      <td>False</td>\n",
       "      <td>False</td>\n",
       "    </tr>\n",
       "    <tr>\n",
       "      <th>1</th>\n",
       "      <td>False</td>\n",
       "      <td>False</td>\n",
       "      <td>False</td>\n",
       "      <td>False</td>\n",
       "      <td>False</td>\n",
       "    </tr>\n",
       "    <tr>\n",
       "      <th>2</th>\n",
       "      <td>False</td>\n",
       "      <td>False</td>\n",
       "      <td>False</td>\n",
       "      <td>False</td>\n",
       "      <td>False</td>\n",
       "    </tr>\n",
       "    <tr>\n",
       "      <th>3</th>\n",
       "      <td>False</td>\n",
       "      <td>False</td>\n",
       "      <td>False</td>\n",
       "      <td>False</td>\n",
       "      <td>False</td>\n",
       "    </tr>\n",
       "    <tr>\n",
       "      <th>4</th>\n",
       "      <td>False</td>\n",
       "      <td>False</td>\n",
       "      <td>False</td>\n",
       "      <td>False</td>\n",
       "      <td>False</td>\n",
       "    </tr>\n",
       "    <tr>\n",
       "      <th>5</th>\n",
       "      <td>False</td>\n",
       "      <td>False</td>\n",
       "      <td>False</td>\n",
       "      <td>False</td>\n",
       "      <td>False</td>\n",
       "    </tr>\n",
       "    <tr>\n",
       "      <th>6</th>\n",
       "      <td>False</td>\n",
       "      <td>False</td>\n",
       "      <td>False</td>\n",
       "      <td>False</td>\n",
       "      <td>False</td>\n",
       "    </tr>\n",
       "    <tr>\n",
       "      <th>7</th>\n",
       "      <td>False</td>\n",
       "      <td>False</td>\n",
       "      <td>False</td>\n",
       "      <td>False</td>\n",
       "      <td>False</td>\n",
       "    </tr>\n",
       "    <tr>\n",
       "      <th>8</th>\n",
       "      <td>False</td>\n",
       "      <td>False</td>\n",
       "      <td>False</td>\n",
       "      <td>False</td>\n",
       "      <td>False</td>\n",
       "    </tr>\n",
       "    <tr>\n",
       "      <th>9</th>\n",
       "      <td>False</td>\n",
       "      <td>False</td>\n",
       "      <td>False</td>\n",
       "      <td>False</td>\n",
       "      <td>False</td>\n",
       "    </tr>\n",
       "    <tr>\n",
       "      <th>10</th>\n",
       "      <td>False</td>\n",
       "      <td>False</td>\n",
       "      <td>False</td>\n",
       "      <td>False</td>\n",
       "      <td>False</td>\n",
       "    </tr>\n",
       "    <tr>\n",
       "      <th>11</th>\n",
       "      <td>False</td>\n",
       "      <td>False</td>\n",
       "      <td>False</td>\n",
       "      <td>False</td>\n",
       "      <td>False</td>\n",
       "    </tr>\n",
       "    <tr>\n",
       "      <th>12</th>\n",
       "      <td>False</td>\n",
       "      <td>False</td>\n",
       "      <td>False</td>\n",
       "      <td>False</td>\n",
       "      <td>False</td>\n",
       "    </tr>\n",
       "    <tr>\n",
       "      <th>13</th>\n",
       "      <td>False</td>\n",
       "      <td>False</td>\n",
       "      <td>False</td>\n",
       "      <td>False</td>\n",
       "      <td>False</td>\n",
       "    </tr>\n",
       "    <tr>\n",
       "      <th>14</th>\n",
       "      <td>False</td>\n",
       "      <td>False</td>\n",
       "      <td>False</td>\n",
       "      <td>False</td>\n",
       "      <td>False</td>\n",
       "    </tr>\n",
       "    <tr>\n",
       "      <th>15</th>\n",
       "      <td>False</td>\n",
       "      <td>False</td>\n",
       "      <td>False</td>\n",
       "      <td>False</td>\n",
       "      <td>False</td>\n",
       "    </tr>\n",
       "    <tr>\n",
       "      <th>16</th>\n",
       "      <td>False</td>\n",
       "      <td>False</td>\n",
       "      <td>False</td>\n",
       "      <td>False</td>\n",
       "      <td>False</td>\n",
       "    </tr>\n",
       "    <tr>\n",
       "      <th>17</th>\n",
       "      <td>False</td>\n",
       "      <td>False</td>\n",
       "      <td>False</td>\n",
       "      <td>False</td>\n",
       "      <td>False</td>\n",
       "    </tr>\n",
       "    <tr>\n",
       "      <th>18</th>\n",
       "      <td>False</td>\n",
       "      <td>False</td>\n",
       "      <td>False</td>\n",
       "      <td>False</td>\n",
       "      <td>False</td>\n",
       "    </tr>\n",
       "    <tr>\n",
       "      <th>19</th>\n",
       "      <td>False</td>\n",
       "      <td>False</td>\n",
       "      <td>False</td>\n",
       "      <td>False</td>\n",
       "      <td>False</td>\n",
       "    </tr>\n",
       "    <tr>\n",
       "      <th>20</th>\n",
       "      <td>False</td>\n",
       "      <td>False</td>\n",
       "      <td>False</td>\n",
       "      <td>False</td>\n",
       "      <td>False</td>\n",
       "    </tr>\n",
       "    <tr>\n",
       "      <th>21</th>\n",
       "      <td>False</td>\n",
       "      <td>False</td>\n",
       "      <td>False</td>\n",
       "      <td>False</td>\n",
       "      <td>False</td>\n",
       "    </tr>\n",
       "    <tr>\n",
       "      <th>22</th>\n",
       "      <td>False</td>\n",
       "      <td>False</td>\n",
       "      <td>False</td>\n",
       "      <td>False</td>\n",
       "      <td>False</td>\n",
       "    </tr>\n",
       "    <tr>\n",
       "      <th>23</th>\n",
       "      <td>False</td>\n",
       "      <td>False</td>\n",
       "      <td>False</td>\n",
       "      <td>False</td>\n",
       "      <td>False</td>\n",
       "    </tr>\n",
       "    <tr>\n",
       "      <th>24</th>\n",
       "      <td>False</td>\n",
       "      <td>False</td>\n",
       "      <td>False</td>\n",
       "      <td>False</td>\n",
       "      <td>False</td>\n",
       "    </tr>\n",
       "    <tr>\n",
       "      <th>25</th>\n",
       "      <td>False</td>\n",
       "      <td>False</td>\n",
       "      <td>False</td>\n",
       "      <td>False</td>\n",
       "      <td>False</td>\n",
       "    </tr>\n",
       "    <tr>\n",
       "      <th>26</th>\n",
       "      <td>False</td>\n",
       "      <td>False</td>\n",
       "      <td>False</td>\n",
       "      <td>False</td>\n",
       "      <td>False</td>\n",
       "    </tr>\n",
       "    <tr>\n",
       "      <th>27</th>\n",
       "      <td>False</td>\n",
       "      <td>False</td>\n",
       "      <td>False</td>\n",
       "      <td>False</td>\n",
       "      <td>False</td>\n",
       "    </tr>\n",
       "    <tr>\n",
       "      <th>28</th>\n",
       "      <td>False</td>\n",
       "      <td>False</td>\n",
       "      <td>False</td>\n",
       "      <td>False</td>\n",
       "      <td>False</td>\n",
       "    </tr>\n",
       "    <tr>\n",
       "      <th>29</th>\n",
       "      <td>False</td>\n",
       "      <td>False</td>\n",
       "      <td>False</td>\n",
       "      <td>False</td>\n",
       "      <td>False</td>\n",
       "    </tr>\n",
       "    <tr>\n",
       "      <th>30</th>\n",
       "      <td>False</td>\n",
       "      <td>False</td>\n",
       "      <td>False</td>\n",
       "      <td>False</td>\n",
       "      <td>False</td>\n",
       "    </tr>\n",
       "    <tr>\n",
       "      <th>31</th>\n",
       "      <td>False</td>\n",
       "      <td>False</td>\n",
       "      <td>False</td>\n",
       "      <td>False</td>\n",
       "      <td>False</td>\n",
       "    </tr>\n",
       "    <tr>\n",
       "      <th>32</th>\n",
       "      <td>False</td>\n",
       "      <td>False</td>\n",
       "      <td>False</td>\n",
       "      <td>False</td>\n",
       "      <td>False</td>\n",
       "    </tr>\n",
       "    <tr>\n",
       "      <th>33</th>\n",
       "      <td>False</td>\n",
       "      <td>False</td>\n",
       "      <td>False</td>\n",
       "      <td>False</td>\n",
       "      <td>False</td>\n",
       "    </tr>\n",
       "    <tr>\n",
       "      <th>34</th>\n",
       "      <td>False</td>\n",
       "      <td>False</td>\n",
       "      <td>False</td>\n",
       "      <td>False</td>\n",
       "      <td>False</td>\n",
       "    </tr>\n",
       "    <tr>\n",
       "      <th>35</th>\n",
       "      <td>False</td>\n",
       "      <td>False</td>\n",
       "      <td>False</td>\n",
       "      <td>False</td>\n",
       "      <td>False</td>\n",
       "    </tr>\n",
       "    <tr>\n",
       "      <th>36</th>\n",
       "      <td>False</td>\n",
       "      <td>False</td>\n",
       "      <td>False</td>\n",
       "      <td>False</td>\n",
       "      <td>False</td>\n",
       "    </tr>\n",
       "    <tr>\n",
       "      <th>37</th>\n",
       "      <td>False</td>\n",
       "      <td>False</td>\n",
       "      <td>False</td>\n",
       "      <td>False</td>\n",
       "      <td>False</td>\n",
       "    </tr>\n",
       "    <tr>\n",
       "      <th>38</th>\n",
       "      <td>False</td>\n",
       "      <td>False</td>\n",
       "      <td>False</td>\n",
       "      <td>False</td>\n",
       "      <td>False</td>\n",
       "    </tr>\n",
       "    <tr>\n",
       "      <th>39</th>\n",
       "      <td>False</td>\n",
       "      <td>False</td>\n",
       "      <td>False</td>\n",
       "      <td>False</td>\n",
       "      <td>False</td>\n",
       "    </tr>\n",
       "    <tr>\n",
       "      <th>40</th>\n",
       "      <td>False</td>\n",
       "      <td>False</td>\n",
       "      <td>False</td>\n",
       "      <td>False</td>\n",
       "      <td>False</td>\n",
       "    </tr>\n",
       "    <tr>\n",
       "      <th>41</th>\n",
       "      <td>False</td>\n",
       "      <td>False</td>\n",
       "      <td>False</td>\n",
       "      <td>False</td>\n",
       "      <td>False</td>\n",
       "    </tr>\n",
       "    <tr>\n",
       "      <th>42</th>\n",
       "      <td>False</td>\n",
       "      <td>False</td>\n",
       "      <td>False</td>\n",
       "      <td>False</td>\n",
       "      <td>False</td>\n",
       "    </tr>\n",
       "    <tr>\n",
       "      <th>43</th>\n",
       "      <td>False</td>\n",
       "      <td>False</td>\n",
       "      <td>False</td>\n",
       "      <td>False</td>\n",
       "      <td>False</td>\n",
       "    </tr>\n",
       "    <tr>\n",
       "      <th>44</th>\n",
       "      <td>False</td>\n",
       "      <td>False</td>\n",
       "      <td>False</td>\n",
       "      <td>False</td>\n",
       "      <td>False</td>\n",
       "    </tr>\n",
       "    <tr>\n",
       "      <th>45</th>\n",
       "      <td>False</td>\n",
       "      <td>False</td>\n",
       "      <td>False</td>\n",
       "      <td>False</td>\n",
       "      <td>False</td>\n",
       "    </tr>\n",
       "    <tr>\n",
       "      <th>46</th>\n",
       "      <td>False</td>\n",
       "      <td>False</td>\n",
       "      <td>False</td>\n",
       "      <td>False</td>\n",
       "      <td>False</td>\n",
       "    </tr>\n",
       "    <tr>\n",
       "      <th>47</th>\n",
       "      <td>False</td>\n",
       "      <td>False</td>\n",
       "      <td>False</td>\n",
       "      <td>False</td>\n",
       "      <td>False</td>\n",
       "    </tr>\n",
       "    <tr>\n",
       "      <th>48</th>\n",
       "      <td>False</td>\n",
       "      <td>False</td>\n",
       "      <td>False</td>\n",
       "      <td>False</td>\n",
       "      <td>False</td>\n",
       "    </tr>\n",
       "    <tr>\n",
       "      <th>49</th>\n",
       "      <td>False</td>\n",
       "      <td>False</td>\n",
       "      <td>False</td>\n",
       "      <td>False</td>\n",
       "      <td>False</td>\n",
       "    </tr>\n",
       "    <tr>\n",
       "      <th>50</th>\n",
       "      <td>False</td>\n",
       "      <td>False</td>\n",
       "      <td>False</td>\n",
       "      <td>False</td>\n",
       "      <td>False</td>\n",
       "    </tr>\n",
       "    <tr>\n",
       "      <th>51</th>\n",
       "      <td>False</td>\n",
       "      <td>False</td>\n",
       "      <td>False</td>\n",
       "      <td>False</td>\n",
       "      <td>False</td>\n",
       "    </tr>\n",
       "    <tr>\n",
       "      <th>52</th>\n",
       "      <td>False</td>\n",
       "      <td>False</td>\n",
       "      <td>False</td>\n",
       "      <td>False</td>\n",
       "      <td>False</td>\n",
       "    </tr>\n",
       "    <tr>\n",
       "      <th>53</th>\n",
       "      <td>False</td>\n",
       "      <td>False</td>\n",
       "      <td>False</td>\n",
       "      <td>False</td>\n",
       "      <td>False</td>\n",
       "    </tr>\n",
       "    <tr>\n",
       "      <th>54</th>\n",
       "      <td>False</td>\n",
       "      <td>False</td>\n",
       "      <td>False</td>\n",
       "      <td>False</td>\n",
       "      <td>False</td>\n",
       "    </tr>\n",
       "  </tbody>\n",
       "</table>\n",
       "</div>"
      ],
      "text/plain": [
       "    sim_id     x1     x2     x3     x4\n",
       "0    False  False  False  False  False\n",
       "1    False  False  False  False  False\n",
       "2    False  False  False  False  False\n",
       "3    False  False  False  False  False\n",
       "4    False  False  False  False  False\n",
       "5    False  False  False  False  False\n",
       "6    False  False  False  False  False\n",
       "7    False  False  False  False  False\n",
       "8    False  False  False  False  False\n",
       "9    False  False  False  False  False\n",
       "10   False  False  False  False  False\n",
       "11   False  False  False  False  False\n",
       "12   False  False  False  False  False\n",
       "13   False  False  False  False  False\n",
       "14   False  False  False  False  False\n",
       "15   False  False  False  False  False\n",
       "16   False  False  False  False  False\n",
       "17   False  False  False  False  False\n",
       "18   False  False  False  False  False\n",
       "19   False  False  False  False  False\n",
       "20   False  False  False  False  False\n",
       "21   False  False  False  False  False\n",
       "22   False  False  False  False  False\n",
       "23   False  False  False  False  False\n",
       "24   False  False  False  False  False\n",
       "25   False  False  False  False  False\n",
       "26   False  False  False  False  False\n",
       "27   False  False  False  False  False\n",
       "28   False  False  False  False  False\n",
       "29   False  False  False  False  False\n",
       "30   False  False  False  False  False\n",
       "31   False  False  False  False  False\n",
       "32   False  False  False  False  False\n",
       "33   False  False  False  False  False\n",
       "34   False  False  False  False  False\n",
       "35   False  False  False  False  False\n",
       "36   False  False  False  False  False\n",
       "37   False  False  False  False  False\n",
       "38   False  False  False  False  False\n",
       "39   False  False  False  False  False\n",
       "40   False  False  False  False  False\n",
       "41   False  False  False  False  False\n",
       "42   False  False  False  False  False\n",
       "43   False  False  False  False  False\n",
       "44   False  False  False  False  False\n",
       "45   False  False  False  False  False\n",
       "46   False  False  False  False  False\n",
       "47   False  False  False  False  False\n",
       "48   False  False  False  False  False\n",
       "49   False  False  False  False  False\n",
       "50   False  False  False  False  False\n",
       "51   False  False  False  False  False\n",
       "52   False  False  False  False  False\n",
       "53   False  False  False  False  False\n",
       "54   False  False  False  False  False"
      ]
     },
     "execution_count": 135,
     "metadata": {},
     "output_type": "execute_result"
    }
   ],
   "source": [
    "df_training_inputs.isna()"
   ]
  },
  {
   "cell_type": "code",
   "execution_count": 136,
   "id": "b8326249-377a-4160-9e69-ba0094a44e2f",
   "metadata": {},
   "outputs": [
    {
     "data": {
      "text/plain": [
       "sim_id    0\n",
       "x1        0\n",
       "x2        0\n",
       "x3        0\n",
       "x4        0\n",
       "dtype: int64"
      ]
     },
     "execution_count": 136,
     "metadata": {},
     "output_type": "execute_result"
    }
   ],
   "source": [
    "df_training_inputs.isna().sum()"
   ]
  },
  {
   "cell_type": "markdown",
   "id": "740860a1-c7ba-422f-9753-9bdda188ceab",
   "metadata": {},
   "source": [
    "The training input data has no missing values."
   ]
  },
  {
   "cell_type": "markdown",
   "id": "8b3ee7ee-8440-4952-9c74-28242ddfc033",
   "metadata": {},
   "source": [
    "## Display the number of Missing Vales for each Column - Training Output Data"
   ]
  },
  {
   "cell_type": "code",
   "execution_count": 138,
   "id": "845a511c-ab90-44e1-8be9-878b3df7f666",
   "metadata": {},
   "outputs": [
    {
     "data": {
      "text/html": [
       "<div>\n",
       "<style scoped>\n",
       "    .dataframe tbody tr th:only-of-type {\n",
       "        vertical-align: middle;\n",
       "    }\n",
       "\n",
       "    .dataframe tbody tr th {\n",
       "        vertical-align: top;\n",
       "    }\n",
       "\n",
       "    .dataframe thead th {\n",
       "        text-align: right;\n",
       "    }\n",
       "</style>\n",
       "<table border=\"1\" class=\"dataframe\">\n",
       "  <thead>\n",
       "    <tr style=\"text-align: right;\">\n",
       "      <th></th>\n",
       "      <th>sim_id</th>\n",
       "      <th>layer_id</th>\n",
       "      <th>action_id</th>\n",
       "      <th>time</th>\n",
       "      <th>y</th>\n",
       "    </tr>\n",
       "  </thead>\n",
       "  <tbody>\n",
       "    <tr>\n",
       "      <th>0</th>\n",
       "      <td>False</td>\n",
       "      <td>False</td>\n",
       "      <td>False</td>\n",
       "      <td>False</td>\n",
       "      <td>False</td>\n",
       "    </tr>\n",
       "    <tr>\n",
       "      <th>1</th>\n",
       "      <td>False</td>\n",
       "      <td>False</td>\n",
       "      <td>False</td>\n",
       "      <td>False</td>\n",
       "      <td>False</td>\n",
       "    </tr>\n",
       "    <tr>\n",
       "      <th>2</th>\n",
       "      <td>False</td>\n",
       "      <td>False</td>\n",
       "      <td>False</td>\n",
       "      <td>False</td>\n",
       "      <td>False</td>\n",
       "    </tr>\n",
       "    <tr>\n",
       "      <th>3</th>\n",
       "      <td>False</td>\n",
       "      <td>False</td>\n",
       "      <td>False</td>\n",
       "      <td>False</td>\n",
       "      <td>False</td>\n",
       "    </tr>\n",
       "    <tr>\n",
       "      <th>4</th>\n",
       "      <td>False</td>\n",
       "      <td>False</td>\n",
       "      <td>False</td>\n",
       "      <td>False</td>\n",
       "      <td>False</td>\n",
       "    </tr>\n",
       "    <tr>\n",
       "      <th>...</th>\n",
       "      <td>...</td>\n",
       "      <td>...</td>\n",
       "      <td>...</td>\n",
       "      <td>...</td>\n",
       "      <td>...</td>\n",
       "    </tr>\n",
       "    <tr>\n",
       "      <th>3295</th>\n",
       "      <td>False</td>\n",
       "      <td>False</td>\n",
       "      <td>False</td>\n",
       "      <td>False</td>\n",
       "      <td>False</td>\n",
       "    </tr>\n",
       "    <tr>\n",
       "      <th>3296</th>\n",
       "      <td>False</td>\n",
       "      <td>False</td>\n",
       "      <td>False</td>\n",
       "      <td>False</td>\n",
       "      <td>False</td>\n",
       "    </tr>\n",
       "    <tr>\n",
       "      <th>3297</th>\n",
       "      <td>False</td>\n",
       "      <td>False</td>\n",
       "      <td>False</td>\n",
       "      <td>False</td>\n",
       "      <td>False</td>\n",
       "    </tr>\n",
       "    <tr>\n",
       "      <th>3298</th>\n",
       "      <td>False</td>\n",
       "      <td>False</td>\n",
       "      <td>False</td>\n",
       "      <td>False</td>\n",
       "      <td>False</td>\n",
       "    </tr>\n",
       "    <tr>\n",
       "      <th>3299</th>\n",
       "      <td>False</td>\n",
       "      <td>False</td>\n",
       "      <td>False</td>\n",
       "      <td>False</td>\n",
       "      <td>False</td>\n",
       "    </tr>\n",
       "  </tbody>\n",
       "</table>\n",
       "<p>3300 rows × 5 columns</p>\n",
       "</div>"
      ],
      "text/plain": [
       "      sim_id  layer_id  action_id   time      y\n",
       "0      False     False      False  False  False\n",
       "1      False     False      False  False  False\n",
       "2      False     False      False  False  False\n",
       "3      False     False      False  False  False\n",
       "4      False     False      False  False  False\n",
       "...      ...       ...        ...    ...    ...\n",
       "3295   False     False      False  False  False\n",
       "3296   False     False      False  False  False\n",
       "3297   False     False      False  False  False\n",
       "3298   False     False      False  False  False\n",
       "3299   False     False      False  False  False\n",
       "\n",
       "[3300 rows x 5 columns]"
      ]
     },
     "execution_count": 138,
     "metadata": {},
     "output_type": "execute_result"
    }
   ],
   "source": [
    "df_training_outputs.isna()"
   ]
  },
  {
   "cell_type": "code",
   "execution_count": 139,
   "id": "34b2fd54-6506-4e40-9f6b-5ce5c96298b1",
   "metadata": {},
   "outputs": [
    {
     "data": {
      "text/plain": [
       "sim_id       0\n",
       "layer_id     0\n",
       "action_id    0\n",
       "time         0\n",
       "y            0\n",
       "dtype: int64"
      ]
     },
     "execution_count": 139,
     "metadata": {},
     "output_type": "execute_result"
    }
   ],
   "source": [
    "df_training_outputs.isna().sum()"
   ]
  },
  {
   "cell_type": "markdown",
   "id": "4a621937-3adc-4e12-904d-319ddc4997fb",
   "metadata": {},
   "source": [
    "The training outputs data also has no missing values."
   ]
  },
  {
   "cell_type": "markdown",
   "id": "cccb821a-4379-465b-a9de-fc2a9901dd95",
   "metadata": {},
   "source": [
    "## Display Summary Statistics appropriate for the data type for each column - Training Input Data"
   ]
  },
  {
   "cell_type": "code",
   "execution_count": 140,
   "id": "b04bdf64-fae9-4763-b21d-10f77d247ba4",
   "metadata": {},
   "outputs": [
    {
     "data": {
      "text/html": [
       "<div>\n",
       "<style scoped>\n",
       "    .dataframe tbody tr th:only-of-type {\n",
       "        vertical-align: middle;\n",
       "    }\n",
       "\n",
       "    .dataframe tbody tr th {\n",
       "        vertical-align: top;\n",
       "    }\n",
       "\n",
       "    .dataframe thead th {\n",
       "        text-align: right;\n",
       "    }\n",
       "</style>\n",
       "<table border=\"1\" class=\"dataframe\">\n",
       "  <thead>\n",
       "    <tr style=\"text-align: right;\">\n",
       "      <th></th>\n",
       "      <th>sim_id</th>\n",
       "      <th>x1</th>\n",
       "      <th>x2</th>\n",
       "      <th>x3</th>\n",
       "      <th>x4</th>\n",
       "    </tr>\n",
       "  </thead>\n",
       "  <tbody>\n",
       "    <tr>\n",
       "      <th>count</th>\n",
       "      <td>55.00000</td>\n",
       "      <td>55.000000</td>\n",
       "      <td>55.000000</td>\n",
       "      <td>55.000000</td>\n",
       "      <td>55.000000</td>\n",
       "    </tr>\n",
       "    <tr>\n",
       "      <th>mean</th>\n",
       "      <td>28.00000</td>\n",
       "      <td>1199.952243</td>\n",
       "      <td>0.010515</td>\n",
       "      <td>54.967379</td>\n",
       "      <td>15.006454</td>\n",
       "    </tr>\n",
       "    <tr>\n",
       "      <th>std</th>\n",
       "      <td>16.02082</td>\n",
       "      <td>232.472509</td>\n",
       "      <td>0.005548</td>\n",
       "      <td>14.537852</td>\n",
       "      <td>8.699401</td>\n",
       "    </tr>\n",
       "    <tr>\n",
       "      <th>min</th>\n",
       "      <td>1.00000</td>\n",
       "      <td>807.788620</td>\n",
       "      <td>0.001337</td>\n",
       "      <td>30.451657</td>\n",
       "      <td>0.330430</td>\n",
       "    </tr>\n",
       "    <tr>\n",
       "      <th>25%</th>\n",
       "      <td>14.50000</td>\n",
       "      <td>1007.463238</td>\n",
       "      <td>0.005789</td>\n",
       "      <td>42.710434</td>\n",
       "      <td>7.706647</td>\n",
       "    </tr>\n",
       "    <tr>\n",
       "      <th>50%</th>\n",
       "      <td>28.00000</td>\n",
       "      <td>1205.539408</td>\n",
       "      <td>0.010519</td>\n",
       "      <td>54.749260</td>\n",
       "      <td>14.861847</td>\n",
       "    </tr>\n",
       "    <tr>\n",
       "      <th>75%</th>\n",
       "      <td>41.50000</td>\n",
       "      <td>1395.418758</td>\n",
       "      <td>0.015244</td>\n",
       "      <td>67.016017</td>\n",
       "      <td>22.187973</td>\n",
       "    </tr>\n",
       "    <tr>\n",
       "      <th>max</th>\n",
       "      <td>55.00000</td>\n",
       "      <td>1585.754835</td>\n",
       "      <td>0.019976</td>\n",
       "      <td>79.834414</td>\n",
       "      <td>29.522479</td>\n",
       "    </tr>\n",
       "  </tbody>\n",
       "</table>\n",
       "</div>"
      ],
      "text/plain": [
       "         sim_id           x1         x2         x3         x4\n",
       "count  55.00000    55.000000  55.000000  55.000000  55.000000\n",
       "mean   28.00000  1199.952243   0.010515  54.967379  15.006454\n",
       "std    16.02082   232.472509   0.005548  14.537852   8.699401\n",
       "min     1.00000   807.788620   0.001337  30.451657   0.330430\n",
       "25%    14.50000  1007.463238   0.005789  42.710434   7.706647\n",
       "50%    28.00000  1205.539408   0.010519  54.749260  14.861847\n",
       "75%    41.50000  1395.418758   0.015244  67.016017  22.187973\n",
       "max    55.00000  1585.754835   0.019976  79.834414  29.522479"
      ]
     },
     "execution_count": 140,
     "metadata": {},
     "output_type": "execute_result"
    }
   ],
   "source": [
    "df_training_inputs.describe()"
   ]
  },
  {
   "cell_type": "markdown",
   "id": "1e69bdb5-03d5-4346-b9ee-99748e4686fb",
   "metadata": {},
   "source": [
    "## Display Summary Statistics appropriate for the data type for each column - Training Output Data"
   ]
  },
  {
   "cell_type": "code",
   "execution_count": 141,
   "id": "358abb59-58c5-4aa0-b993-762da184b71b",
   "metadata": {},
   "outputs": [
    {
     "data": {
      "text/html": [
       "<div>\n",
       "<style scoped>\n",
       "    .dataframe tbody tr th:only-of-type {\n",
       "        vertical-align: middle;\n",
       "    }\n",
       "\n",
       "    .dataframe tbody tr th {\n",
       "        vertical-align: top;\n",
       "    }\n",
       "\n",
       "    .dataframe thead th {\n",
       "        text-align: right;\n",
       "    }\n",
       "</style>\n",
       "<table border=\"1\" class=\"dataframe\">\n",
       "  <thead>\n",
       "    <tr style=\"text-align: right;\">\n",
       "      <th></th>\n",
       "      <th>sim_id</th>\n",
       "      <th>layer_id</th>\n",
       "      <th>action_id</th>\n",
       "      <th>time</th>\n",
       "      <th>y</th>\n",
       "    </tr>\n",
       "  </thead>\n",
       "  <tbody>\n",
       "    <tr>\n",
       "      <th>count</th>\n",
       "      <td>3300.000000</td>\n",
       "      <td>3300.000000</td>\n",
       "      <td>3300.00000</td>\n",
       "      <td>3300.000000</td>\n",
       "      <td>3300.000000</td>\n",
       "    </tr>\n",
       "    <tr>\n",
       "      <th>mean</th>\n",
       "      <td>28.000000</td>\n",
       "      <td>10.500000</td>\n",
       "      <td>2.00000</td>\n",
       "      <td>130.417977</td>\n",
       "      <td>490.807334</td>\n",
       "    </tr>\n",
       "    <tr>\n",
       "      <th>std</th>\n",
       "      <td>15.876914</td>\n",
       "      <td>5.767155</td>\n",
       "      <td>0.81662</td>\n",
       "      <td>74.865191</td>\n",
       "      <td>519.994476</td>\n",
       "    </tr>\n",
       "    <tr>\n",
       "      <th>min</th>\n",
       "      <td>1.000000</td>\n",
       "      <td>1.000000</td>\n",
       "      <td>1.00000</td>\n",
       "      <td>0.001337</td>\n",
       "      <td>48.557500</td>\n",
       "    </tr>\n",
       "    <tr>\n",
       "      <th>25%</th>\n",
       "      <td>14.000000</td>\n",
       "      <td>5.750000</td>\n",
       "      <td>1.00000</td>\n",
       "      <td>64.739025</td>\n",
       "      <td>117.711500</td>\n",
       "    </tr>\n",
       "    <tr>\n",
       "      <th>50%</th>\n",
       "      <td>28.000000</td>\n",
       "      <td>10.500000</td>\n",
       "      <td>2.00000</td>\n",
       "      <td>129.473500</td>\n",
       "      <td>165.163500</td>\n",
       "    </tr>\n",
       "    <tr>\n",
       "      <th>75%</th>\n",
       "      <td>42.000000</td>\n",
       "      <td>15.250000</td>\n",
       "      <td>3.00000</td>\n",
       "      <td>194.210000</td>\n",
       "      <td>1003.150000</td>\n",
       "    </tr>\n",
       "    <tr>\n",
       "      <th>max</th>\n",
       "      <td>55.000000</td>\n",
       "      <td>20.000000</td>\n",
       "      <td>3.00000</td>\n",
       "      <td>259.127000</td>\n",
       "      <td>1585.750000</td>\n",
       "    </tr>\n",
       "  </tbody>\n",
       "</table>\n",
       "</div>"
      ],
      "text/plain": [
       "            sim_id     layer_id   action_id         time            y\n",
       "count  3300.000000  3300.000000  3300.00000  3300.000000  3300.000000\n",
       "mean     28.000000    10.500000     2.00000   130.417977   490.807334\n",
       "std      15.876914     5.767155     0.81662    74.865191   519.994476\n",
       "min       1.000000     1.000000     1.00000     0.001337    48.557500\n",
       "25%      14.000000     5.750000     1.00000    64.739025   117.711500\n",
       "50%      28.000000    10.500000     2.00000   129.473500   165.163500\n",
       "75%      42.000000    15.250000     3.00000   194.210000  1003.150000\n",
       "max      55.000000    20.000000     3.00000   259.127000  1585.750000"
      ]
     },
     "execution_count": 141,
     "metadata": {},
     "output_type": "execute_result"
    }
   ],
   "source": [
    "df_training_outputs.describe()"
   ]
  },
  {
   "cell_type": "markdown",
   "id": "7ca0ce2d-366e-466a-a742-fdb80feacf93",
   "metadata": {},
   "source": [
    "## Count the Number of rows associated with each unique value for: Non-Number columns and Numberic columns with low number of unique values - Training Input Data"
   ]
  },
  {
   "cell_type": "code",
   "execution_count": 142,
   "id": "fc4c896c-33b9-48de-a71b-9ba15dd671b2",
   "metadata": {},
   "outputs": [
    {
     "data": {
      "text/plain": [
       "float64    4\n",
       "int64      1\n",
       "Name: count, dtype: int64"
      ]
     },
     "execution_count": 142,
     "metadata": {},
     "output_type": "execute_result"
    }
   ],
   "source": [
    "df_training_inputs.dtypes.value_counts()"
   ]
  },
  {
   "cell_type": "code",
   "execution_count": 143,
   "id": "3fe1bec7-adb5-4c4b-aede-211061c03d1d",
   "metadata": {},
   "outputs": [
    {
     "data": {
      "text/plain": [
       "sim_id\n",
       "1     1\n",
       "42    1\n",
       "31    1\n",
       "32    1\n",
       "33    1\n",
       "34    1\n",
       "35    1\n",
       "36    1\n",
       "37    1\n",
       "38    1\n",
       "39    1\n",
       "40    1\n",
       "41    1\n",
       "43    1\n",
       "29    1\n",
       "44    1\n",
       "45    1\n",
       "46    1\n",
       "47    1\n",
       "48    1\n",
       "49    1\n",
       "50    1\n",
       "51    1\n",
       "52    1\n",
       "53    1\n",
       "54    1\n",
       "30    1\n",
       "28    1\n",
       "2     1\n",
       "14    1\n",
       "3     1\n",
       "4     1\n",
       "5     1\n",
       "6     1\n",
       "7     1\n",
       "8     1\n",
       "9     1\n",
       "10    1\n",
       "11    1\n",
       "12    1\n",
       "13    1\n",
       "15    1\n",
       "27    1\n",
       "16    1\n",
       "17    1\n",
       "18    1\n",
       "19    1\n",
       "20    1\n",
       "21    1\n",
       "22    1\n",
       "23    1\n",
       "24    1\n",
       "25    1\n",
       "26    1\n",
       "55    1\n",
       "Name: count, dtype: int64"
      ]
     },
     "execution_count": 143,
     "metadata": {},
     "output_type": "execute_result"
    }
   ],
   "source": [
    "df_training_inputs.sim_id.value_counts(dropna=False)"
   ]
  },
  {
   "cell_type": "code",
   "execution_count": 144,
   "id": "00b5ad0e-cc31-4508-9052-8645e0a385ef",
   "metadata": {},
   "outputs": [
    {
     "data": {
      "text/plain": [
       "sim_id\n",
       "1     0.018182\n",
       "42    0.018182\n",
       "31    0.018182\n",
       "32    0.018182\n",
       "33    0.018182\n",
       "34    0.018182\n",
       "35    0.018182\n",
       "36    0.018182\n",
       "37    0.018182\n",
       "38    0.018182\n",
       "39    0.018182\n",
       "40    0.018182\n",
       "41    0.018182\n",
       "43    0.018182\n",
       "29    0.018182\n",
       "44    0.018182\n",
       "45    0.018182\n",
       "46    0.018182\n",
       "47    0.018182\n",
       "48    0.018182\n",
       "49    0.018182\n",
       "50    0.018182\n",
       "51    0.018182\n",
       "52    0.018182\n",
       "53    0.018182\n",
       "54    0.018182\n",
       "30    0.018182\n",
       "28    0.018182\n",
       "2     0.018182\n",
       "14    0.018182\n",
       "3     0.018182\n",
       "4     0.018182\n",
       "5     0.018182\n",
       "6     0.018182\n",
       "7     0.018182\n",
       "8     0.018182\n",
       "9     0.018182\n",
       "10    0.018182\n",
       "11    0.018182\n",
       "12    0.018182\n",
       "13    0.018182\n",
       "15    0.018182\n",
       "27    0.018182\n",
       "16    0.018182\n",
       "17    0.018182\n",
       "18    0.018182\n",
       "19    0.018182\n",
       "20    0.018182\n",
       "21    0.018182\n",
       "22    0.018182\n",
       "23    0.018182\n",
       "24    0.018182\n",
       "25    0.018182\n",
       "26    0.018182\n",
       "55    0.018182\n",
       "Name: proportion, dtype: float64"
      ]
     },
     "execution_count": 144,
     "metadata": {},
     "output_type": "execute_result"
    }
   ],
   "source": [
    "df_training_inputs.sim_id.value_counts(dropna=False, normalize=True)"
   ]
  },
  {
   "cell_type": "markdown",
   "id": "501fd684-681f-49d3-ba0d-d4f8cbe47851",
   "metadata": {},
   "source": [
    "## Count the Number of rows associated with each unique value for: Non-Number columns and Numberic columns with low number of unique values - Training Output Data"
   ]
  },
  {
   "cell_type": "code",
   "execution_count": 145,
   "id": "c10849ea-5be2-4699-beed-28854a9ed4d7",
   "metadata": {},
   "outputs": [
    {
     "data": {
      "text/plain": [
       "int64      3\n",
       "float64    2\n",
       "Name: count, dtype: int64"
      ]
     },
     "execution_count": 145,
     "metadata": {},
     "output_type": "execute_result"
    }
   ],
   "source": [
    "df_training_outputs.dtypes.value_counts()"
   ]
  },
  {
   "cell_type": "code",
   "execution_count": 146,
   "id": "cd75fddb-bd89-47b5-9ef8-a87016f1eba0",
   "metadata": {},
   "outputs": [
    {
     "data": {
      "text/plain": [
       "action_id\n",
       "1    1100\n",
       "2    1100\n",
       "3    1100\n",
       "Name: count, dtype: int64"
      ]
     },
     "execution_count": 146,
     "metadata": {},
     "output_type": "execute_result"
    }
   ],
   "source": [
    "df_training_outputs.action_id.value_counts(dropna=False)"
   ]
  },
  {
   "cell_type": "code",
   "execution_count": 147,
   "id": "c6e4d6f8-a70d-429e-8cf5-026ba536eb0f",
   "metadata": {},
   "outputs": [
    {
     "data": {
      "text/plain": [
       "action_id\n",
       "1    0.333333\n",
       "2    0.333333\n",
       "3    0.333333\n",
       "Name: proportion, dtype: float64"
      ]
     },
     "execution_count": 147,
     "metadata": {},
     "output_type": "execute_result"
    }
   ],
   "source": [
    "df_training_outputs.action_id.value_counts(dropna=False, normalize=True)"
   ]
  },
  {
   "cell_type": "code",
   "execution_count": null,
   "id": "7c56cd9d-c597-408f-b992-9905896c8b9e",
   "metadata": {},
   "outputs": [],
   "source": []
  }
 ],
 "metadata": {
  "kernelspec": {
   "display_name": "Python 3 (ipykernel)",
   "language": "python",
   "name": "python3"
  },
  "language_info": {
   "codemirror_mode": {
    "name": "ipython",
    "version": 3
   },
   "file_extension": ".py",
   "mimetype": "text/x-python",
   "name": "python",
   "nbconvert_exporter": "python",
   "pygments_lexer": "ipython3",
   "version": "3.11.7"
  }
 },
 "nbformat": 4,
 "nbformat_minor": 5
}
