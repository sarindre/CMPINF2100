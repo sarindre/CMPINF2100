{
 "cells": [
  {
   "cell_type": "markdown",
   "metadata": {},
   "source": [
    "# CMPINF 2100: Homework 01\n",
    "\n",
    "### Trey Randall\n",
    "\n",
    "## Assigned: Tuesday of Week 01 at 11:00PM\n",
    "\n",
    "## DUE: Tuesday of Week 02 at 11:59PM\n",
    "\n",
    "This is a simple assignment that demonstrates you have properly installed the software. You will practice using simple Python commands within the cells of a Jupyter notebook and work with Markdown.  \n",
    "\n",
    "You may add as many code and markdown cells as you see fit to answer the questions.\n",
    "\n",
    "### Collaborators\n",
    "\n",
    "Type the names of the other students you worked with here."
   ]
  },
  {
   "cell_type": "markdown",
   "metadata": {},
   "source": [
    "## Problem 01\n",
    "\n",
    "Let's get some practice with assigning variables and data types."
   ]
  },
  {
   "cell_type": "markdown",
   "metadata": {},
   "source": [
    "### 1a) - QUESTION\n",
    "\n",
    "Assign the integer `3` to the variable `x`. "
   ]
  },
  {
   "cell_type": "markdown",
   "metadata": {},
   "source": [
    "#### 1a) - SOLUTION"
   ]
  },
  {
   "cell_type": "code",
   "execution_count": 4,
   "metadata": {},
   "outputs": [],
   "source": [
    "x = 3"
   ]
  },
  {
   "cell_type": "markdown",
   "metadata": {},
   "source": [
    "### 1b) - QUESTION\n",
    "\n",
    "Use the `print()` function to display the **data type** associated with the variable `x`."
   ]
  },
  {
   "cell_type": "markdown",
   "metadata": {},
   "source": [
    "#### 1b) - SOLUTION"
   ]
  },
  {
   "cell_type": "code",
   "execution_count": 5,
   "metadata": {},
   "outputs": [
    {
     "name": "stdout",
     "output_type": "stream",
     "text": [
      "<class 'int'>\n"
     ]
    }
   ],
   "source": [
    "print (type (x))"
   ]
  },
  {
   "cell_type": "markdown",
   "metadata": {},
   "source": [
    "### 1c) - QUESTION\n",
    "\n",
    "Add the floating point number `4.4` to the variable `x` and assign the result to the variable `y`. Print the **data type** associated with the variable `y` to the screen."
   ]
  },
  {
   "cell_type": "markdown",
   "metadata": {},
   "source": [
    "#### 1c) - SOLUTION"
   ]
  },
  {
   "cell_type": "code",
   "execution_count": 6,
   "metadata": {},
   "outputs": [
    {
     "name": "stdout",
     "output_type": "stream",
     "text": [
      "<class 'float'>\n"
     ]
    }
   ],
   "source": [
    "y = x + 4.4\n",
    "print (type (y))"
   ]
  },
  {
   "cell_type": "markdown",
   "metadata": {},
   "source": [
    "### 1d) - QUESTION\n",
    "\n",
    "Is the data type associated with the variable `x` the same as the data type associated with the variable `y`? Use the `==` operator to check and print the result to screen."
   ]
  },
  {
   "cell_type": "markdown",
   "metadata": {},
   "source": [
    "#### 1d) - SOLUTION"
   ]
  },
  {
   "cell_type": "code",
   "execution_count": 7,
   "metadata": {},
   "outputs": [
    {
     "data": {
      "text/plain": [
       "False"
      ]
     },
     "execution_count": 7,
     "metadata": {},
     "output_type": "execute_result"
    }
   ],
   "source": [
    "type(x) == type(y)"
   ]
  },
  {
   "cell_type": "markdown",
   "metadata": {},
   "source": [
    "Variable `x` is an integer, and variable `y` is a float. This is due to a float number (4.4) being added to the variable `x` with the resulting answer (7.4) and causing `y` to be a float."
   ]
  },
  {
   "cell_type": "markdown",
   "metadata": {},
   "source": [
    "## Problem 02\n",
    "\n",
    "Let's get practice with lists and iterating over elements in a list with for-loops."
   ]
  },
  {
   "cell_type": "markdown",
   "metadata": {},
   "source": [
    "### 2a) - QUESTION\n",
    "Create a list, `x_list`, which consists of 4 elements. The zeroth element in the list should be the integer `1`. The first element in the list should be the string `'2'`. The second element in the list should be the string `'three'`, and the last element in the list should be the float `4.0`."
   ]
  },
  {
   "cell_type": "markdown",
   "metadata": {},
   "source": [
    "#### 2a) - SOLUTION"
   ]
  },
  {
   "cell_type": "code",
   "execution_count": 9,
   "metadata": {},
   "outputs": [],
   "source": [
    "x_list = [1,'2','three',4.0]"
   ]
  },
  {
   "cell_type": "markdown",
   "metadata": {},
   "source": [
    "### 2b) - QUESTION\n",
    "Use the `print()` function to print the value of the second element in `x_list` to the screen. \n",
    "\n",
    "*HINT*: Remember that Python is zero-based indexing."
   ]
  },
  {
   "cell_type": "markdown",
   "metadata": {},
   "source": [
    "#### 2b) - SOLUTION"
   ]
  },
  {
   "cell_type": "code",
   "execution_count": 10,
   "metadata": {},
   "outputs": [
    {
     "name": "stdout",
     "output_type": "stream",
     "text": [
      "three\n"
     ]
    }
   ],
   "source": [
    "print(x_list[2])"
   ]
  },
  {
   "cell_type": "markdown",
   "metadata": {},
   "source": [
    "### 2c) - QUESTION\n",
    "\n",
    "Use the `print()` function to print each element of `x_list` to the screen. You must iterate over the elements in `x_list` with a for-loop."
   ]
  },
  {
   "cell_type": "markdown",
   "metadata": {},
   "source": [
    "#### 2c) - SOLUTION"
   ]
  },
  {
   "cell_type": "code",
   "execution_count": 12,
   "metadata": {},
   "outputs": [
    {
     "name": "stdout",
     "output_type": "stream",
     "text": [
      "1\n",
      "2\n",
      "three\n",
      "4.0\n"
     ]
    }
   ],
   "source": [
    "for a_list in x_list:\n",
    "    print(a_list)"
   ]
  },
  {
   "cell_type": "markdown",
   "metadata": {},
   "source": [
    "### 2d) - QUESTION\n",
    "Use the `print()` function to print the data type associated with each element of `x_list` to the screen. You must iterate over the elements in `x_list` with a for-loop."
   ]
  },
  {
   "cell_type": "markdown",
   "metadata": {},
   "source": [
    "#### 2d) - SOLUTION"
   ]
  },
  {
   "cell_type": "code",
   "execution_count": 13,
   "metadata": {},
   "outputs": [
    {
     "name": "stdout",
     "output_type": "stream",
     "text": [
      "<class 'int'>\n",
      "<class 'str'>\n",
      "<class 'str'>\n",
      "<class 'float'>\n"
     ]
    }
   ],
   "source": [
    "for a_list in x_list:\n",
    "    print(type (a_list))"
   ]
  },
  {
   "cell_type": "markdown",
   "metadata": {},
   "source": [
    "## Problem 03\n",
    "\n",
    "Let's now use these programming skills but in a setting not discussed in the lecture recordings!\n",
    "\n",
    "### 3a) - QUESTION\n",
    "\n",
    "Create a list, `y_list`, which consists of 2 elements. The zeroth element must be the `x` variable and the first element must be the `y` variable.  \n",
    "\n",
    "Display the `y_list` object to the screen.\n",
    "\n",
    "#### 3a) - SOLUTION"
   ]
  },
  {
   "cell_type": "code",
   "execution_count": 14,
   "metadata": {},
   "outputs": [
    {
     "name": "stdout",
     "output_type": "stream",
     "text": [
      "[3, 7.4]\n"
     ]
    }
   ],
   "source": [
    "y_list= [x,y]\n",
    "print (y_list)"
   ]
  },
  {
   "cell_type": "markdown",
   "metadata": {},
   "source": [
    "### 3b) - QUESTION\n",
    "\n",
    "Create a list, `z_list`, which consists of 2 elements. The zeroth element must be the **data type** associated with the `x` variable and the first element must be the **data type** associated with the `y` variable.\n",
    "\n",
    "Display the `z_list` object to the screen.\n",
    "\n",
    "#### 3b) - SOLUTION"
   ]
  },
  {
   "cell_type": "code",
   "execution_count": 19,
   "metadata": {},
   "outputs": [
    {
     "name": "stdout",
     "output_type": "stream",
     "text": [
      "[<class 'int'>, <class 'float'>]\n"
     ]
    }
   ],
   "source": [
    "z_list = [type(x),type(y)]\n",
    "print (z_list)"
   ]
  },
  {
   "cell_type": "markdown",
   "metadata": {},
   "source": [
    "### 3c) - QUESTION\n",
    "\n",
    "Create one final list, `final_list`, which consists of 4 elements. The zeroth element must be the `x_list` object. The first element must be the `y_list` object. The second element must be the `z_list` object. The third element must be the string `'that's a lot of lists!'`.\n",
    "\n",
    "Display the **data type** of the `final_list` object to the screen.\n",
    "\n",
    "#### 3c) - SOLUTION"
   ]
  },
  {
   "cell_type": "code",
   "execution_count": 24,
   "metadata": {},
   "outputs": [
    {
     "name": "stdout",
     "output_type": "stream",
     "text": [
      "<class 'list'>\n"
     ]
    }
   ],
   "source": [
    "final_list = [x_list, y_list, z_list,\"that's a lot of lists!\"]\n",
    "print (type(final_list))"
   ]
  },
  {
   "cell_type": "markdown",
   "metadata": {},
   "source": [
    "### 3d) - QUESTION\n",
    "\n",
    "Use the `print()` function to print the **data type** associated with each element of `final_list` to the screen. You must iterate over the elements in `final_list` with a for-loop.\n",
    "\n",
    "#### 3d) - SOLUTION"
   ]
  },
  {
   "cell_type": "code",
   "execution_count": 25,
   "metadata": {},
   "outputs": [
    {
     "name": "stdout",
     "output_type": "stream",
     "text": [
      "<class 'list'>\n",
      "<class 'list'>\n",
      "<class 'list'>\n",
      "<class 'str'>\n"
     ]
    }
   ],
   "source": [
    "for the_final_list in final_list:\n",
    "    print (type(the_final_list))"
   ]
  },
  {
   "cell_type": "markdown",
   "metadata": {},
   "source": [
    "### 3e) - QUESTION\n",
    "\n",
    "Use the `print()` function to print the length associated with each element of `final_list` to the screen. You must iterate over the elements in `final_list` with a for-loop.\n",
    "\n",
    "#### 3e) - SOLUTION"
   ]
  },
  {
   "cell_type": "code",
   "execution_count": 26,
   "metadata": {},
   "outputs": [
    {
     "name": "stdout",
     "output_type": "stream",
     "text": [
      "4\n",
      "2\n",
      "2\n",
      "22\n"
     ]
    }
   ],
   "source": [
    "for n in final_list:\n",
    "    print (len(n))"
   ]
  },
  {
   "cell_type": "markdown",
   "metadata": {},
   "source": [
    "## Problem 04\n",
    "\n",
    "You will perform an end-to-end data analysis project this sememester with a goal of predicting an outcome. Such predictive analytics problems allow solving many different business and research questions of interest. You will be able to identify important factors which influence the outcome, whether the outcome is a continuous or categorical.  \n",
    "\n",
    "### 4a) - QUESTION\n",
    "\n",
    "Have you fit or trained a predictive model before? If so, what was the application? Was it a regression problem? A classification problem? What kind of model did you use? If you have not, that's ok! State that you have not. In either case, write your response with Markdown text below. Your response just needs to be a few short sentences."
   ]
  },
  {
   "cell_type": "markdown",
   "metadata": {},
   "source": [
    "#### 4a) - SOLUTION\n",
    "\n",
    "Yes, I have trained a predictive model before in Excel. I used to be in charge of Workforce Management metrics and before we integrated the program Visier, I would have to do attrition modeling and hiring modeling for the Technology organization. At first, this was created by manual efforts and calculations. However, I was able to update the model and allow for automatic calculations with minimal effort. For these efforts, we would use a model using the past three years' data in order to average out the models for the current year."
   ]
  },
  {
   "cell_type": "markdown",
   "metadata": {},
   "source": [
    "### 4b) - QUESTION\n",
    "\n",
    "The introductory lecture walked through the main points of a predictive analytics project. Which aspect of predictive analytics was completely new to you? If you had seen everything before, what aspect do you hope to get more experience with?\n",
    "\n",
    "#### 4b) - SOLUTION\n",
    "\n",
    "Type your response here."
   ]
  },
  {
   "cell_type": "markdown",
   "metadata": {},
   "source": [
    "I think overall, seeing the model and reviewing it for the first time has been exciting. Many times, there were pieces I would recognize but did not have a name for. Looking at what I have been working on in the past, I can see that I spend the most time in the contextualizing and cleaning stages since much of the data I used in workforce were all built from many different sources. One thing that I have not really done is the resampling scheme. I can see just from the lecture that there can be great value in this part of supervised learning, and I would love to understand more. "
   ]
  },
  {
   "cell_type": "code",
   "execution_count": null,
   "metadata": {},
   "outputs": [],
   "source": []
  }
 ],
 "metadata": {
  "kernelspec": {
   "display_name": "Python 3 (ipykernel)",
   "language": "python",
   "name": "python3"
  },
  "language_info": {
   "codemirror_mode": {
    "name": "ipython",
    "version": 3
   },
   "file_extension": ".py",
   "mimetype": "text/x-python",
   "name": "python",
   "nbconvert_exporter": "python",
   "pygments_lexer": "ipython3",
   "version": "3.11.7"
  }
 },
 "nbformat": 4,
 "nbformat_minor": 4
}
