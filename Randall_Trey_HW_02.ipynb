{
 "cells": [
  {
   "cell_type": "markdown",
   "id": "3f7d5974",
   "metadata": {},
   "source": [
    "## CMPINF 2100: Homework 02\n",
    "\n",
    "### YOUR NAME HERE!!!!\n",
    "\n",
    "## Assigned: Tuesday of Week 02 at 11:00PM\n",
    "\n",
    "## DUE: Tuesday of Week 03 at 11:59PM\n",
    "\n",
    "This assignment is focused on iterating through lists with for-loops and list comprehensions. You will apply user defined functions to calculate summary statistics. You will work with sequences of random numbers. Lastly, you will combine all programming skills from the first two weeks of lecture to calculate the standard error on the mean (SEM) via simulation techniques.\n",
    "\n",
    "You may add as many code and markdown cells as you see fit to answer the questions.\n",
    "\n",
    "### Collaborators\n",
    "\n",
    "Type the names of other students you worked with here.\n",
    "\n",
    "## Preliminaries\n",
    "\n",
    "You will work with the following object for the first few questions in this assignment."
   ]
  },
  {
   "cell_type": "code",
   "execution_count": 1,
   "id": "821c6a49",
   "metadata": {},
   "outputs": [],
   "source": [
    "x_list = [ list(range(6)),\n",
    "          3 * [10, 11, 12, 13] + [20, 21, 22, 23],\n",
    "          [-100, -50, -25, 0, 25, 50, 100],\n",
    "          list(range(10, 25)), \n",
    "          2 * [-11, -12, -13, -14, -15] ]"
   ]
  },
  {
   "cell_type": "markdown",
   "id": "3c3a9bf1",
   "metadata": {},
   "source": [
    "## Problem 01\n",
    "\n",
    "Let's review some important programming concepts before applying new skills.\n",
    "\n",
    "### 1a) - QUESTION\n",
    "\n",
    "What is the data type for the `x_list` object?\n",
    "\n",
    "#### 1a) - SOLUTION"
   ]
  },
  {
   "cell_type": "code",
   "execution_count": 2,
   "id": "ca76391a",
   "metadata": {},
   "outputs": [
    {
     "data": {
      "text/plain": [
       "list"
      ]
     },
     "execution_count": 2,
     "metadata": {},
     "output_type": "execute_result"
    }
   ],
   "source": [
    "type(x_list)"
   ]
  },
  {
   "cell_type": "markdown",
   "id": "3b1f63a4",
   "metadata": {},
   "source": [
    "### 1b) - QUESTION\n",
    "\n",
    "What is the length of the `x_list` object?\n",
    "\n",
    "#### 1b) - SOLUTION"
   ]
  },
  {
   "cell_type": "code",
   "execution_count": 3,
   "id": "133a8865",
   "metadata": {},
   "outputs": [
    {
     "data": {
      "text/plain": [
       "5"
      ]
     },
     "execution_count": 3,
     "metadata": {},
     "output_type": "execute_result"
    }
   ],
   "source": [
    "len(x_list)"
   ]
  },
  {
   "cell_type": "markdown",
   "id": "470e2b72",
   "metadata": {},
   "source": [
    "### 1c) - QUESTION\n",
    "\n",
    "Use a for-loop to print the data type of each element within `x_list` to the screen.\n",
    "\n",
    "#### 1c) - SOLUTION"
   ]
  },
  {
   "cell_type": "code",
   "execution_count": 4,
   "id": "85e0dfa2",
   "metadata": {},
   "outputs": [
    {
     "name": "stdout",
     "output_type": "stream",
     "text": [
      "<class 'list'>\n",
      "<class 'list'>\n",
      "<class 'list'>\n",
      "<class 'list'>\n",
      "<class 'list'>\n"
     ]
    }
   ],
   "source": [
    "for a_list in x_list:\n",
    "    print(type(a_list))"
   ]
  },
  {
   "cell_type": "markdown",
   "id": "795c131b",
   "metadata": {},
   "source": [
    "### 1d) - QUESTION\n",
    "\n",
    "Let's now check the data types associated with the elements contained within each element within `x_list`! Use a **nested** for-loop to print the data type of the individual values contained within `x_list`.  \n",
    "\n",
    "Think carefully about the organizational structure required for this problem. The **nested** for-loop must first iterate over the elements within `x_list`. Then the **nested** for-loop must iterate over the values within that element. You therefore need two levels: an *outer* for-loop and an *inner* for-loop. \n",
    "\n",
    "You only need to print the data types to the screen. You do not need to include line breaks, headers, or any other text beside the data types.\n",
    "\n",
    "#### 1d) - SOLUTION"
   ]
  },
  {
   "cell_type": "code",
   "execution_count": 5,
   "id": "9bb54424",
   "metadata": {},
   "outputs": [
    {
     "name": "stdout",
     "output_type": "stream",
     "text": [
      "<class 'int'>\n",
      "<class 'int'>\n",
      "<class 'int'>\n",
      "<class 'int'>\n",
      "<class 'int'>\n",
      "<class 'int'>\n",
      "<class 'int'>\n",
      "<class 'int'>\n",
      "<class 'int'>\n",
      "<class 'int'>\n",
      "<class 'int'>\n",
      "<class 'int'>\n",
      "<class 'int'>\n",
      "<class 'int'>\n",
      "<class 'int'>\n",
      "<class 'int'>\n",
      "<class 'int'>\n",
      "<class 'int'>\n",
      "<class 'int'>\n",
      "<class 'int'>\n",
      "<class 'int'>\n",
      "<class 'int'>\n",
      "<class 'int'>\n",
      "<class 'int'>\n",
      "<class 'int'>\n",
      "<class 'int'>\n",
      "<class 'int'>\n",
      "<class 'int'>\n",
      "<class 'int'>\n",
      "<class 'int'>\n",
      "<class 'int'>\n",
      "<class 'int'>\n",
      "<class 'int'>\n",
      "<class 'int'>\n",
      "<class 'int'>\n",
      "<class 'int'>\n",
      "<class 'int'>\n",
      "<class 'int'>\n",
      "<class 'int'>\n",
      "<class 'int'>\n",
      "<class 'int'>\n",
      "<class 'int'>\n",
      "<class 'int'>\n",
      "<class 'int'>\n",
      "<class 'int'>\n",
      "<class 'int'>\n",
      "<class 'int'>\n",
      "<class 'int'>\n",
      "<class 'int'>\n",
      "<class 'int'>\n",
      "<class 'int'>\n",
      "<class 'int'>\n",
      "<class 'int'>\n",
      "<class 'int'>\n"
     ]
    }
   ],
   "source": [
    "for a_list in x_list:\n",
    "    for element in a_list:\n",
    "        print(type(element))"
   ]
  },
  {
   "cell_type": "markdown",
   "id": "9cdbdf0e",
   "metadata": {},
   "source": [
    "### 1e) - QUESTION\n",
    "\n",
    "Use a for-loop to print the length of each element within `x_list` to the screen.\n",
    "\n",
    "#### 1e) - SOLUTION"
   ]
  },
  {
   "cell_type": "code",
   "execution_count": 6,
   "id": "922648d7",
   "metadata": {},
   "outputs": [
    {
     "name": "stdout",
     "output_type": "stream",
     "text": [
      "6\n",
      "16\n",
      "7\n",
      "15\n",
      "10\n"
     ]
    }
   ],
   "source": [
    "for element in x_list:\n",
    "    print(len(element))"
   ]
  },
  {
   "cell_type": "markdown",
   "id": "b6275aef",
   "metadata": {},
   "source": [
    "### 1f) - QUESTION\n",
    "\n",
    "Use a for-loop to print the SUM of each element within `x_list` to the screen.\n",
    "\n",
    "#### 1f) - SOLUTION"
   ]
  },
  {
   "cell_type": "code",
   "execution_count": 7,
   "id": "201bc7ad",
   "metadata": {},
   "outputs": [
    {
     "name": "stdout",
     "output_type": "stream",
     "text": [
      "15\n",
      "224\n",
      "0\n",
      "255\n",
      "-130\n"
     ]
    }
   ],
   "source": [
    "for element in x_list:\n",
    "    print(sum(element))"
   ]
  },
  {
   "cell_type": "markdown",
   "id": "f4e7e63b",
   "metadata": {},
   "source": [
    "## Problem 02\n",
    "\n",
    "The lecture material in Week 02 introduced an alternative approach to iteration which is useful for applying functions to each value within a sequence and storing the results within a list. This alternative approach is named the **list comprehension**. Let's practice list comprehensions now by repeating some of the actions from the previous problem.\n",
    "\n",
    "### 2a) - QUESTION\n",
    "\n",
    "Create a new object named `x_dtypes` which stores the data types for each element within `x_list`. You must execute the iteration over the `x_list` sequence with a list comprehension.  \n",
    "\n",
    "Display `x_dtypes` to the screen.\n",
    "\n",
    "*HINT*: What function do you need to apply to return the data type?\n",
    "\n",
    "*HINT*: This does NOT require a nested style approach. You are iterating across the elements of `x_list`.\n",
    "\n",
    "#### 2a) - SOLUTION"
   ]
  },
  {
   "cell_type": "code",
   "execution_count": 8,
   "id": "2ab7acc2",
   "metadata": {},
   "outputs": [
    {
     "name": "stdout",
     "output_type": "stream",
     "text": [
      "[<class 'list'>, <class 'list'>, <class 'list'>, <class 'list'>, <class 'list'>]\n"
     ]
    }
   ],
   "source": [
    "x_dtypes=[type(element) for element in x_list]\n",
    "print(x_dtypes)"
   ]
  },
  {
   "cell_type": "markdown",
   "id": "60630765",
   "metadata": {},
   "source": [
    "### 2b) - QUESTION\n",
    "\n",
    "Create a new object named `x_lengths` which stores the lengths of each element within `x_list`. You must execute the iteration over the `x_list` sequence with a list comprehension.  \n",
    "\n",
    "Display `x_lengths` to the screen.\n",
    "\n",
    "*HINT*: What function do you need to apply to return the length?\n",
    "\n",
    "#### 2b) - SOLUTION"
   ]
  },
  {
   "cell_type": "code",
   "execution_count": 9,
   "id": "eeac0fac",
   "metadata": {},
   "outputs": [
    {
     "name": "stdout",
     "output_type": "stream",
     "text": [
      "[6, 16, 7, 15, 10]\n"
     ]
    }
   ],
   "source": [
    "x_lengths=[len(element) for element in x_list]\n",
    "print(x_lengths)"
   ]
  },
  {
   "cell_type": "markdown",
   "id": "3ea96bab",
   "metadata": {},
   "source": [
    "### 2c) - QUESTION\n",
    "\n",
    "Create a new object named `x_sums` which stores the SUMS of each element within `x_list`. You must execute the iteration over the `x_list` sequence with a list comprehension. \n",
    "\n",
    "Display `x_sums` to the screen.\n",
    "\n",
    "*HINT*: The values within `x_sums` should match your for-loop results displayed in 1f).\n",
    "\n",
    "#### 2c) - SOLUTION"
   ]
  },
  {
   "cell_type": "code",
   "execution_count": 10,
   "id": "501abca4",
   "metadata": {},
   "outputs": [
    {
     "name": "stdout",
     "output_type": "stream",
     "text": [
      "[15, 224, 0, 255, -130]\n"
     ]
    }
   ],
   "source": [
    "x_sums=[sum(element) for element in x_list]\n",
    "print(x_sums)"
   ]
  },
  {
   "cell_type": "markdown",
   "id": "a49c1c33",
   "metadata": {},
   "source": [
    "### 2d) - QUESTION\n",
    "\n",
    "Is the length of `x_lengths` the same as the length of `x_sums`?\n",
    "\n",
    "#### 2d) - SOLUTION"
   ]
  },
  {
   "cell_type": "code",
   "execution_count": 11,
   "id": "a28f4a39",
   "metadata": {},
   "outputs": [
    {
     "data": {
      "text/plain": [
       "False"
      ]
     },
     "execution_count": 11,
     "metadata": {},
     "output_type": "execute_result"
    }
   ],
   "source": [
    "x_lengths==x_sums"
   ]
  },
  {
   "cell_type": "markdown",
   "id": "76127cb3",
   "metadata": {},
   "source": [
    "### 2e) - QUESTION\n",
    "\n",
    "You have calculated the LENGTH and SUM of each element within `x_list`. You therefore have the ingredients required to calculate the sample average!\n",
    "\n",
    "Let's focus on two of the elements in `x_list`. You must calculate the average associated with the zeroth element and last element in `x_list`. Print the averages to the screen below.\n",
    "\n",
    "Do the averages seem to make sense given the values associated with the zeroth and last elements in `x_list`? Type your response in a markdown cell below.\n",
    "\n",
    "*HINT*: Which elements of `x_lengths` and `x_sums` are associated with the zeroth and last elements in `x_list`?\n",
    "\n",
    "#### 2e) - SOLUTION"
   ]
  },
  {
   "cell_type": "code",
   "execution_count": 12,
   "id": "37953cfd",
   "metadata": {},
   "outputs": [
    {
     "name": "stdout",
     "output_type": "stream",
     "text": [
      "2.5\n",
      "-13.0\n"
     ]
    }
   ],
   "source": [
    "avg_zeroth = sum(x_list[0])/len(x_list[0])\n",
    "avg_last = sum(x_list[-1])/len(x_list[-1])\n",
    "print(avg_zeroth)\n",
    "print (avg_last)"
   ]
  },
  {
   "cell_type": "markdown",
   "id": "3659ff67",
   "metadata": {},
   "source": [
    "For x_lengths the zeroth element is 6 and the x_sums for the zeroth element is 15. \n",
    "For x_lengths the last element is 10 and the x_sums for the last element is -130."
   ]
  },
  {
   "cell_type": "markdown",
   "id": "eb89c30f",
   "metadata": {},
   "source": [
    "### 2f) - QUESTION\n",
    "\n",
    "Let's now calculate the average associate with each element in `x_list`.\n",
    "\n",
    "Use a for-loop to iterate over the elements in `x_lengths` and `x_sums` to calculate the average associated with each element in `x_list`. Print the averages to the screen. You do not need to assign the results to an object in the environment.\n",
    "\n",
    "*HINT*: Iterating over an integer can help you accomplish this task...\n",
    "\n",
    "#### 2f) - SOLUTION"
   ]
  },
  {
   "cell_type": "code",
   "execution_count": 13,
   "id": "e6345961",
   "metadata": {},
   "outputs": [
    {
     "name": "stdout",
     "output_type": "stream",
     "text": [
      "2.5\n",
      "14.0\n",
      "0.0\n",
      "17.0\n",
      "-13.0\n"
     ]
    }
   ],
   "source": [
    "for n in range(len(x_lengths)):\n",
    "    length =x_lengths[n]\n",
    "    t_sum=x_sums[n]\n",
    "    average=t_sum/length\n",
    "    print(average)"
   ]
  },
  {
   "cell_type": "markdown",
   "id": "e2d8ff55",
   "metadata": {},
   "source": [
    "## Problem 03\n",
    "\n",
    "You calculated the sample averages for the elements contained in `x_list`. However, the previous problem required several tedious actions to be completed. You will use user defined functions and list comprehensions to streamline the entire process in this problem. The Week 02 lecture material demonstrates how to create your own custom functions in Python.\n",
    "\n",
    "### 3a) - QUESTION\n",
    "\n",
    "Define a function, `my_avg()`, which accepts a single argument named `x`. That argument may be assumed to be a list of numeric values (integers or floats). The `my_avg()` function must return the sample average of the values in the `x` list.\n",
    "\n",
    "Test your function works correctly by printing the average of `[1, 2, 3]` to the screen.\n",
    "\n",
    "#### 3a) - SOLUTION"
   ]
  },
  {
   "cell_type": "code",
   "execution_count": 14,
   "id": "6fb0ca56",
   "metadata": {},
   "outputs": [
    {
     "data": {
      "text/plain": [
       "2.0"
      ]
     },
     "execution_count": 14,
     "metadata": {},
     "output_type": "execute_result"
    }
   ],
   "source": [
    "def my_avg(x):\n",
    "    return sum(x)/len(x)\n",
    "my_avg([1,2,3])"
   ]
  },
  {
   "cell_type": "markdown",
   "id": "5fb01ef8",
   "metadata": {},
   "source": [
    "### 3b) - QUESTION\n",
    "\n",
    "Let's test your function on the elements of `x_list`. \n",
    "\n",
    "Apply your `my_avg()` function to the zeroth and last element in `x_list`. Print the results to the screen.\n",
    "\n",
    "Do you get same answers as those in 2e)?\n",
    "\n",
    "#### 3b) - SOLUTION"
   ]
  },
  {
   "cell_type": "code",
   "execution_count": 17,
   "id": "647771c3",
   "metadata": {},
   "outputs": [
    {
     "data": {
      "text/plain": [
       "2.5"
      ]
     },
     "execution_count": 17,
     "metadata": {},
     "output_type": "execute_result"
    }
   ],
   "source": [
    "my_avg(x_list[0])"
   ]
  },
  {
   "cell_type": "code",
   "execution_count": 18,
   "id": "a5579d90-8c7b-47bd-820c-09abb06c5860",
   "metadata": {},
   "outputs": [
    {
     "data": {
      "text/plain": [
       "-13.0"
      ]
     },
     "execution_count": 18,
     "metadata": {},
     "output_type": "execute_result"
    }
   ],
   "source": [
    "my_avg(x_list[-1])"
   ]
  },
  {
   "cell_type": "markdown",
   "id": "52a089e3-0246-4b42-a661-dd009385a76a",
   "metadata": {},
   "source": [
    "Yes, the same answer was achhieved for both the zeroth and last element."
   ]
  },
  {
   "cell_type": "markdown",
   "id": "41a4dc76",
   "metadata": {},
   "source": [
    "### 3c) - QUESTION\n",
    "\n",
    "Lastly, let's apply the `my_avg()` function to each element in `x_list`. You must use a list comprehension to apply `my_avg()` to each element in `x_list` instead of a for-loop. Assign the result to the `x_avgs` object.\n",
    "\n",
    "Display `x_avgs` to the screen. Are the values the same as what you calculated in 2f)?\n",
    "\n",
    "#### 3c) - SOLUTION"
   ]
  },
  {
   "cell_type": "code",
   "execution_count": 19,
   "id": "02f92561",
   "metadata": {},
   "outputs": [
    {
     "name": "stdout",
     "output_type": "stream",
     "text": [
      "[2.5, 14.0, 0.0, 17.0, -13.0]\n"
     ]
    }
   ],
   "source": [
    "x_avgs = [my_avg(element) for element in x_list]\n",
    "print(x_avgs)"
   ]
  },
  {
   "cell_type": "markdown",
   "id": "2fe63450-1ac7-4e3c-a5b8-3d766d4b5450",
   "metadata": {},
   "source": [
    "Yes! The values are all the same. "
   ]
  },
  {
   "cell_type": "markdown",
   "id": "63b6276d",
   "metadata": {},
   "source": [
    "## Problem 04\n",
    "\n",
    "The sample average is a very important summary statistic. It is used to get a sense of the **central** behavior of the values. However, we need to consider more than just what happens near the middle. We also need to consider how spread out or how much variation exists in numbers. The most common variation or **dispersion** statistics are the variance and standard deviation. This question requires you to program user defined functions that calculate the variance and standard deviation. You will continue to the `x_list` object for this question.\n",
    "\n",
    "### 4a) - QUESTION\n",
    "\n",
    "Define a function, `my_variance()`, which accepts a single argument named `x`. That argument may be assumed to be a list of numeric values (integers or floats). The `my_variance()` function must return the sample variance of the values in the `x` list.\n",
    "\n",
    "Test your function works correctly by printing the variance of `[1, 2, 3]` to the screen.\n",
    "\n",
    "#### 4a) - SOLUTION"
   ]
  },
  {
   "cell_type": "code",
   "execution_count": 22,
   "id": "2b072fd2",
   "metadata": {},
   "outputs": [
    {
     "name": "stdout",
     "output_type": "stream",
     "text": [
      "1.0\n"
     ]
    }
   ],
   "source": [
    "def my_variance(x):\n",
    "    xbar = my_avg(x)\n",
    "    squared_deviation = [(xn-xbar)**2 for xn in x]\n",
    "    return sum(squared_deviation) / (len(x)-1)\n",
    "\n",
    "print(my_variance([1,2,3]))"
   ]
  },
  {
   "cell_type": "markdown",
   "id": "74ebb9c1",
   "metadata": {},
   "source": [
    "### 4b) - QUESTION\n",
    "\n",
    "Why would you NOT want to calculate the variance associated with the list defined in the cell below?"
   ]
  },
  {
   "cell_type": "code",
   "execution_count": null,
   "id": "4cc7fd6f",
   "metadata": {},
   "outputs": [],
   "source": [
    "another_list = [1]"
   ]
  },
  {
   "cell_type": "markdown",
   "id": "0ee2188c",
   "metadata": {},
   "source": [
    "#### 4b) - SOLUTION"
   ]
  },
  {
   "cell_type": "markdown",
   "id": "ceb84a4c",
   "metadata": {},
   "source": [
    "The variance is used to understand the how numbers in a list deviate from the mean. Since there is only one element here in the list, there is no deviation to calculate. "
   ]
  },
  {
   "cell_type": "markdown",
   "id": "8f574a07",
   "metadata": {},
   "source": [
    "### 4c) - QUESTION\n",
    "\n",
    "What is the relationship between VARIANCE and STANDARD DEVIATION?\n",
    "\n",
    "#### 4c) - SOLUTION"
   ]
  },
  {
   "cell_type": "markdown",
   "id": "452bb315",
   "metadata": {},
   "source": [
    "Variance helps to describe the variability or spread of the dataset mean. This helps to provide a measure of how scattered the values are around the mean of the dataset. Standard deviation is the square root of the variance and helps quantify the amount of variation a dataset has. "
   ]
  },
  {
   "cell_type": "markdown",
   "id": "e6fd33b5",
   "metadata": {},
   "source": [
    "### 4d) - QUESTION\n",
    "\n",
    "Define a function, `my_sd()`, which accepts a single argument named `x`. That argument may be assumed to be a list of numeric values (integers or floats). The `my_sd()` function must return the sample standard deviation of the values in the `x` list.\n",
    "\n",
    "Test your function works correctly by printing the standard deviation of `[1, 2, 3]` to the screen.\n",
    "\n",
    "*HINT*: How can you use your `my_variance()` function to easily calculate the standard deviation?\n",
    "\n",
    "#### 4d) - SOLUTION"
   ]
  },
  {
   "cell_type": "code",
   "execution_count": 24,
   "id": "8748fc48",
   "metadata": {},
   "outputs": [
    {
     "name": "stdout",
     "output_type": "stream",
     "text": [
      "1.0\n"
     ]
    }
   ],
   "source": [
    "def my_sd(x):\n",
    "    return my_variance(x) ** 0.5\n",
    "print(my_sd([1,2,3]))"
   ]
  },
  {
   "cell_type": "markdown",
   "id": "d68ad5f4",
   "metadata": {},
   "source": [
    "### 4e) - QUESTION\n",
    "\n",
    "Let's now use the `my_sd()` function to calculate the standard deviation of the elements in `x_list`. \n",
    "\n",
    "You must use a list comprehension to apply `my_sd()` to each element in `x_list`. Assign the result to the `x_sds` object.\n",
    "\n",
    "Display the `x_sds` object to the screen.\n",
    "\n",
    "#### 4e) - SOLUTION"
   ]
  },
  {
   "cell_type": "code",
   "execution_count": 25,
   "id": "0551d4ae",
   "metadata": {},
   "outputs": [
    {
     "name": "stdout",
     "output_type": "stream",
     "text": [
      "[1.8708286933869707, 4.618802153517006, 66.14378277661477, 4.47213595499958, 1.4907119849998598]\n"
     ]
    }
   ],
   "source": [
    "x_sds = [my_sd(element) for element in x_list]\n",
    "print (x_sds)"
   ]
  },
  {
   "cell_type": "markdown",
   "id": "ea8a42b9",
   "metadata": {},
   "source": [
    "### 4f) - QUESTION\n",
    "\n",
    "Which of the elements in `x_list` has the largest standard deviation? Does the result make sense based on the values contained in `x_list`?\n",
    "\n",
    "#### 4f) - SOLUTION"
   ]
  },
  {
   "cell_type": "markdown",
   "id": "dc1f800e",
   "metadata": {},
   "source": [
    "The second element [-100,-50,-25,0,25,50,100] in the list has the largest standard deviation of ~66.14. This makes sense since this element has a range of -100 to 100, which is the largest of all the elements. This would have a larger variation of data points. "
   ]
  },
  {
   "cell_type": "markdown",
   "id": "64e1da26",
   "metadata": {},
   "source": [
    "## Problem 05\n",
    "\n",
    "Let's now practice generating sequences of random numbers using the `random` module and summarizing them!\n",
    "\n",
    "### 5a) - QUESTION\n",
    "\n",
    "Import the `random` module.\n",
    "\n",
    "#### 5a) - SOLUTION"
   ]
  },
  {
   "cell_type": "code",
   "execution_count": 26,
   "id": "3ddb9011",
   "metadata": {},
   "outputs": [],
   "source": [
    "import random"
   ]
  },
  {
   "cell_type": "markdown",
   "id": "3202ac6b",
   "metadata": {},
   "source": [
    "### 5b) - QUESTION\n",
    "\n",
    "The `random` module has different functions for generating random numbers. The lecture examples focused on using `random.random()` to generate random numbers from a Uniform distribution between 0 and 1. You will **NOT** use that function for this problem. You will instead generate random numbers from a GAUSSIAN or NORMAL distribution (the classic Bell Curve) using the `random.gauss()` function.\n",
    "\n",
    "Let's get some help with the `random.gauss()` function via the `help()` function.\n",
    "\n",
    "Use the `help()` function to display the docstring associated with `random.gauss()`. What are the arguments to the `random.gauss()` function?\n",
    "\n",
    "#### 5b) - SOLUTION"
   ]
  },
  {
   "cell_type": "code",
   "execution_count": 27,
   "id": "7c6aa03e",
   "metadata": {},
   "outputs": [
    {
     "name": "stdout",
     "output_type": "stream",
     "text": [
      "Help on method gauss in module random:\n",
      "\n",
      "gauss(mu=0.0, sigma=1.0) method of random.Random instance\n",
      "    Gaussian distribution.\n",
      "    \n",
      "    mu is the mean, and sigma is the standard deviation.  This is\n",
      "    slightly faster than the normalvariate() function.\n",
      "    \n",
      "    Not thread-safe without a lock around calls.\n",
      "\n"
     ]
    }
   ],
   "source": [
    "help(random.gauss)"
   ]
  },
  {
   "cell_type": "markdown",
   "id": "3f32ddc9",
   "metadata": {},
   "source": [
    "mu which is the mean and sigma which is the standard deviation"
   ]
  },
  {
   "cell_type": "markdown",
   "id": "2272826d",
   "metadata": {},
   "source": [
    "### 5c) - QUESTION\n",
    "\n",
    "The `random` module functions can only generate a single random number. We must iterate in order to generate sequences of random values. You will manage the iteration with list comprehensions.\n",
    "\n",
    "You must use a list comprehension to generate 5000 random values from `random.gauss()`. Assign the result to the `x_a` object. You must use a mean of 100 and a standard deviation of 25 in the `random.gauss()` function call.  \n",
    "\n",
    "You must set the random seed using the seed value of 2100.\n",
    "\n",
    "Do NOT display `x_a` to the screen!"
   ]
  },
  {
   "cell_type": "markdown",
   "id": "182c10fb",
   "metadata": {},
   "source": [
    "#### 5c) - SOLUTION"
   ]
  },
  {
   "cell_type": "code",
   "execution_count": 28,
   "id": "40bca7a3",
   "metadata": {},
   "outputs": [],
   "source": [
    "random.seed(2100)\n",
    "x_a=[random.gauss(mu=100, sigma=25) for _ in range(5000)]"
   ]
  },
  {
   "cell_type": "markdown",
   "id": "5b494be9",
   "metadata": {},
   "source": [
    "### 5d) - QUESTION\n",
    "\n",
    "Let's summarize the values contained in `x_a`!\n",
    "\n",
    "Calculate the sample average of the values in `x_a` and display the result to the screen. \n",
    "\n",
    "Is the result similiar to one of the input arguments to the `random.gauss()` function?\n",
    "\n",
    "#### 5d) - SOLUTION"
   ]
  },
  {
   "cell_type": "code",
   "execution_count": 29,
   "id": "67e74a90",
   "metadata": {},
   "outputs": [
    {
     "name": "stdout",
     "output_type": "stream",
     "text": [
      "99.84560306604018\n"
     ]
    }
   ],
   "source": [
    "sample_avg = my_avg(x_a)\n",
    "print (sample_avg)"
   ]
  },
  {
   "cell_type": "markdown",
   "id": "e0f7b16c",
   "metadata": {},
   "source": [
    "Yes, the result is similar to the input arguments since 99.85 is very close to the mu or mean of 100. "
   ]
  },
  {
   "cell_type": "markdown",
   "id": "c34dfedf",
   "metadata": {},
   "source": [
    "### 5e) - QUESTION\n",
    "\n",
    "Calculate the sample standard deviation of the values in `x_a` and display the result to the screen.\n",
    "\n",
    "Is the result similiar to one of the input arguments to the `random.gauss()` function?\n",
    "\n",
    "#### 5e) - SOLUTION"
   ]
  },
  {
   "cell_type": "code",
   "execution_count": 30,
   "id": "82afe411",
   "metadata": {},
   "outputs": [
    {
     "name": "stdout",
     "output_type": "stream",
     "text": [
      "25.106243100457387\n"
     ]
    }
   ],
   "source": [
    "sample_sd = my_sd(x_a)\n",
    "print (sample_sd)"
   ]
  },
  {
   "cell_type": "markdown",
   "id": "dfb5f409",
   "metadata": {},
   "source": [
    "Yes, this is similar result since 25.11 is close to the sigma of the random.gauss() function, which is 25"
   ]
  },
  {
   "cell_type": "markdown",
   "id": "ab7a859a",
   "metadata": {},
   "source": [
    "### 5f) - QUESTION\n",
    "\n",
    "Let's generate another sequence of random values. However, this time you will only generate 3 random values instead of 5000.  \n",
    "\n",
    "You must use a list comprehension to generate 3 random values from `random.gauss()`. Assign the result to the `x_b` object. You must use a mean of 100 and a standard deviation of 25 in the `random.gauss()` function call.  \n",
    "\n",
    "You must reset the random seed using the seed value of 2100.\n",
    "\n",
    "#### 5f) - SOLUTION"
   ]
  },
  {
   "cell_type": "code",
   "execution_count": 31,
   "id": "126c12f6",
   "metadata": {},
   "outputs": [],
   "source": [
    "random.seed(2100)\n",
    "x_b = [random.gauss(mu=100, sigma = 25) for _ in range(3)]"
   ]
  },
  {
   "cell_type": "markdown",
   "id": "a1f06f1e",
   "metadata": {},
   "source": [
    "### 5g) - QUESTION\n",
    "\n",
    "Calculate the sample average of the values in `x_b` and display the result to the screen.\n",
    "\n",
    "Is the value similar with the average you calculated previously from `x_a`?\n",
    "\n",
    "#### 5g) - SOLUTION"
   ]
  },
  {
   "cell_type": "code",
   "execution_count": 32,
   "id": "76654826",
   "metadata": {},
   "outputs": [
    {
     "name": "stdout",
     "output_type": "stream",
     "text": [
      "94.53339588818686\n"
     ]
    }
   ],
   "source": [
    "sample_avg = my_avg(x_b)\n",
    "print (sample_avg)"
   ]
  },
  {
   "cell_type": "markdown",
   "id": "40f30f70",
   "metadata": {},
   "source": [
    "The value is similar but not as close as for x_a. This is due to the smaller sample size (5000 vs 3)"
   ]
  },
  {
   "cell_type": "markdown",
   "id": "e7e4e3b7",
   "metadata": {},
   "source": [
    "## Problem  06\n",
    "\n",
    "The Week 02 lecture material concluded by discussing how we measure our **confidence** in the sample average. A simulation study was used to show the relationship between the **STANDARD ERROR ON THE MEAN** (SEM) and the sample size. However, that simulation used `random.random()` to generate the random values. You must perform a similar simulation to study the relationship between the SEM and sample size associated with the `random.gauss()` function. \n",
    "\n",
    "You must use all skills up to this point in lecture to program the SEM simulation. This problem is more open ended than the previous ones. Previous problems in this assignment required you to define functions that are important to this simulation. You therefore have most of the pieces necessary for the simulation! There are a few steps that still need to be created though. Also, certain aspects of the solution are provided to you since we have not discussed visualization yet.\n",
    "\n",
    "You must generate all random values using a mean of 100 and standard deviation of 25. You must replicate calculating the sample average 5000 times when calculating the standard error on the mean for a given sample size. You must visualize the SEM with respect to the sample size on a plot similar to the one created in the lecture example.\n",
    "\n",
    "The specific sample sizes you must use are provided in the cell below."
   ]
  },
  {
   "cell_type": "code",
   "execution_count": 33,
   "id": "d7be7234",
   "metadata": {},
   "outputs": [],
   "source": [
    "sample_size_use = [5, 10, 20, 40, 80, 160, 320, 640, 1280, 2560, 5120, 10240]"
   ]
  },
  {
   "cell_type": "markdown",
   "id": "a5a064ac",
   "metadata": {},
   "source": [
    "#### 06) - SOLUTION\n",
    "\n",
    "Add as many cells as you feel are necessary below to complete the simulation.\n",
    "\n",
    "*HINT*: Do NOT forget to set the random seed!"
   ]
  },
  {
   "cell_type": "code",
   "execution_count": 38,
   "id": "755272bb",
   "metadata": {},
   "outputs": [],
   "source": [
    "def gen_samples_calc_avg(N):\n",
    "    return my_avg([random.gauss(mu=100, sigma = 25) for _ in range (N)])"
   ]
  },
  {
   "cell_type": "code",
   "execution_count": 40,
   "id": "59810b34-0785-4cdd-ab79-d3f1e096554b",
   "metadata": {},
   "outputs": [
    {
     "name": "stdout",
     "output_type": "stream",
     "text": [
      "99.84560306604018\n"
     ]
    }
   ],
   "source": [
    "random.seed(2100)\n",
    "print(gen_samples_calc_avg(5000))"
   ]
  },
  {
   "cell_type": "code",
   "execution_count": 49,
   "id": "4e4e1e4d-7791-4cd2-84c9-dbffe998a71b",
   "metadata": {},
   "outputs": [],
   "source": [
    "random.seed(2100)\n",
    "study_sd_vs_samplesize = [my_sd( [gen_samples_calc_avg(N) for _ in range(5000)] ) for N in sample_size_use]"
   ]
  },
  {
   "cell_type": "code",
   "execution_count": 50,
   "id": "0deb4c41-7b8e-403a-b286-955502f74a63",
   "metadata": {},
   "outputs": [
    {
     "data": {
      "text/plain": [
       "list"
      ]
     },
     "execution_count": 50,
     "metadata": {},
     "output_type": "execute_result"
    }
   ],
   "source": [
    "type(study_sd_vs_samplesize)"
   ]
  },
  {
   "cell_type": "code",
   "execution_count": 51,
   "id": "43b2ae9c-02b6-44d7-bfbc-d671d1f50dce",
   "metadata": {},
   "outputs": [
    {
     "data": {
      "text/plain": [
       "12"
      ]
     },
     "execution_count": 51,
     "metadata": {},
     "output_type": "execute_result"
    }
   ],
   "source": [
    "len(study_sd_vs_samplesize)"
   ]
  },
  {
   "cell_type": "code",
   "execution_count": 52,
   "id": "589df0b4-e48c-4d11-834e-3c6e39e7d4ad",
   "metadata": {},
   "outputs": [
    {
     "data": {
      "text/plain": [
       "12"
      ]
     },
     "execution_count": 52,
     "metadata": {},
     "output_type": "execute_result"
    }
   ],
   "source": [
    "len(sample_size_use)"
   ]
  },
  {
   "cell_type": "markdown",
   "id": "236a9e3a",
   "metadata": {},
   "source": [
    "The plot is started for you below. You only need to complete 1 line!"
   ]
  },
  {
   "cell_type": "code",
   "execution_count": 54,
   "id": "0ca23040",
   "metadata": {},
   "outputs": [],
   "source": [
    "import matplotlib.pyplot as plt"
   ]
  },
  {
   "cell_type": "code",
   "execution_count": 55,
   "id": "5ea137c0",
   "metadata": {},
   "outputs": [
    {
     "data": {
      "image/png": "[encoded data removed]",
      "text/plain": [
       "<Figure size 1200x600 with 1 Axes>"
      ]
     },
     "metadata": {},
     "output_type": "display_data"
    }
   ],
   "source": [
    "fig, ax = plt.subplots(figsize=(12, 6))\n",
    "\n",
    "ax.plot(sample_size_use, study_sd_vs_samplesize, '-o')\n",
    "ax.set_xscale('log')\n",
    "ax.set_xlabel('sample size')\n",
    "ax.set_ylabel('standard error on the average')\n",
    "ax.grid(True)\n",
    "plt.show()"
   ]
  },
  {
   "cell_type": "markdown",
   "id": "37cbc750",
   "metadata": {},
   "source": [
    "## Problem 07\n",
    "\n",
    "You will complete a data analysis project in the second half of the semester. You will pick your project from a curated list of potential projects. A few of the potential projects are already available on Canvas for you to start looking over. More will be added as we move through the semester. \n",
    "\n",
    "Please look through the material associated with the current set of projects on Canvas. Do any seem interesting to you? If so, what aspect of the project did you find interesting? \n",
    "\n",
    "#### 07) - SOLUTION\n",
    "\n",
    "Please type your response below."
   ]
  },
  {
   "cell_type": "markdown",
   "id": "8db668bf-ab63-427c-bc7b-7001cd6fc7b9",
   "metadata": {},
   "source": [
    "I would enjoy working on any of these projects. I think the Pitt Battery Performance is very interesting! "
   ]
  },
  {
   "cell_type": "code",
   "execution_count": null,
   "id": "cbaed00b-d039-4645-ab3d-e0dc849db4d0",
   "metadata": {},
   "outputs": [],
   "source": []
  }
 ],
 "metadata": {
  "kernelspec": {
   "display_name": "Python 3 (ipykernel)",
   "language": "python",
   "name": "python3"
  },
  "language_info": {
   "codemirror_mode": {
    "name": "ipython",
    "version": 3
   },
   "file_extension": ".py",
   "mimetype": "text/x-python",
   "name": "python",
   "nbconvert_exporter": "python",
   "pygments_lexer": "ipython3",
   "version": "3.11.7"
  }
 },
 "nbformat": 4,
 "nbformat_minor": 5
}
